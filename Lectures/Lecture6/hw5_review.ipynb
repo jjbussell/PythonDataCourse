{
 "cells": [
  {
   "cell_type": "markdown",
   "metadata": {},
   "source": [
    "# Introduction to DataJoint\n",
    "\n",
    "This will be our first tutorial on datajoint. Make sure you completed part 1 of HW5 and that your mySQL instance is running. \n",
    "\n",
    "In this tutorial we will be going over the following concepts:\n",
    "\n",
    "* How to define a table in datajoint\n",
    "* How to add data to a table\n",
    "* How to search data in your database\n",
    "* How to fetch data in your database\n",
    "* How to delete entries\n",
    "* How to drop tables/schema.\n",
    "* Building table dependencies\n",
    "* How to query multiple tables\n",
    "* organizing/saving your tables in python files. \n",
    "\n",
    "This introduction has been adapted and modified from https://tutorials.datajoint.io/index.html. (NB: this linked tutorial is sometimes not up-to-date with the most recent version of datajoint) "
   ]
  },
  {
   "cell_type": "code",
   "execution_count": null,
   "metadata": {},
   "outputs": [],
   "source": [
    "import datajoint as dj"
   ]
  },
  {
   "cell_type": "markdown",
   "metadata": {},
   "source": [
    "### Clarifications\n",
    "\n",
    "DataJoint is a WIP-type of project. This means that a lot of features are still being implemented and some of the syntax may change in the future. This is why it is important for you to be aware which version of datajoint, you are using. In general, we are currently working with the most recent version of datajoint, which is version `0.12.5`. You can check the version of datajoint as follows:"
   ]
  },
  {
   "cell_type": "code",
   "execution_count": null,
   "metadata": {},
   "outputs": [],
   "source": [
    "dj.__version__"
   ]
  },
  {
   "cell_type": "markdown",
   "metadata": {},
   "source": [
    "In the first part of this homework, you may have noticed that we installed datajoint from a specific fork in github. This fork implements various features that are set to be added in future releases of the main datajoint project and/or are still being discussed. During the lectures and homework, I will always point out any features that have not yet been added to the main releases of the datajoint project, but are features that currently exist in the fork that we installed.  \n",
    "\n",
    "On Tuesday, we will go through part 1 of the homework, a brief overview of this part of the homework, and how to navigate and see progress on the datajoint project in GitHub. On Thursday, we will review this part of the homework and introduce other datajoint concepts."
   ]
  },
  {
   "cell_type": "markdown",
   "metadata": {},
   "source": [
    "## Connecting to the database"
   ]
  },
  {
   "cell_type": "markdown",
   "metadata": {},
   "source": [
    "First, we will need to configure our connection to the MySQL database. If you used the docker to initialize your SQL instance your host address is `'127.0.0.1'`, your user is `'root'`, and your password is `'simple'`. In the later lectures, we will go into setting up adding users to your database and managing user privileges."
   ]
  },
  {
   "cell_type": "code",
   "execution_count": null,
   "metadata": {},
   "outputs": [],
   "source": [
    "# datajoint configuration\n",
    "dj.config['database.host'] = '127.0.0.1'\n",
    "dj.config['database.port'] = 3306\n",
    "dj.config['database.user'] = 'root'\n",
    "dj.config['database.password'] = 'simple'\n",
    "# we will go into this attribute later\n",
    "dj.config['fetch_format'] = 'frame'"
   ]
  },
  {
   "cell_type": "code",
   "execution_count": null,
   "metadata": {},
   "outputs": [],
   "source": [
    "# connect to the database\n",
    "# testing your connection\n",
    "connection = dj.conn()\n",
    "connection"
   ]
  },
  {
   "cell_type": "markdown",
   "metadata": {},
   "source": [
    "### Saving DataJoint configuration across session\n",
    "\n",
    "By default, all changes made to the dj.config are reset when you reset your Python session, and thus you would have to configure the connection every time you start a new Python kernel.\n",
    "\n",
    "To save yourself the hassle, you can save the current configuration to a local configuration file, by default called dj_local_config.json. DataJoint will automatically load the configuration file when you import DataJoint the next time.\n",
    "\n",
    "To save the current configuration, call the save_local method on the dj.config object.\n"
   ]
  },
  {
   "cell_type": "code",
   "execution_count": null,
   "metadata": {},
   "outputs": [],
   "source": [
    "dj.config.save_local()"
   ]
  },
  {
   "cell_type": "markdown",
   "metadata": {},
   "source": [
    "Now your configuration is successfully saved into the local configuration file.\n",
    "\n",
    "If you would like to save this config globally, in which case you automatically load this configuration in any directory, you could do save_global()"
   ]
  },
  {
   "cell_type": "code",
   "execution_count": null,
   "metadata": {},
   "outputs": [],
   "source": [
    "dj.config.save_global()"
   ]
  },
  {
   "cell_type": "markdown",
   "metadata": {},
   "source": [
    "The local configuration overwrites the global one.\n",
    "\n",
    "### Changing the password\n",
    "\n",
    "You can directly change the database connection password using the dj.set_password() method:"
   ]
  },
  {
   "cell_type": "code",
   "execution_count": null,
   "metadata": {},
   "outputs": [],
   "source": [
    "dj.set_password('simple')"
   ]
  },
  {
   "cell_type": "markdown",
   "metadata": {},
   "source": [
    "In the last lecture, we will go into managing multiple users for your database."
   ]
  },
  {
   "cell_type": "markdown",
   "metadata": {},
   "source": [
    "## Define a schema"
   ]
  },
  {
   "cell_type": "markdown",
   "metadata": {},
   "source": [
    "Let us initialize a database schema that we will call `'homework1'`, where we will create all the tables for this homework. It is recommended that you always give your schema that are all lowercase identifiers. An identifier starts with a letter a to z or an underscore followed by zero or more letters, underscores and digits (0 to 9)."
   ]
  },
  {
   "cell_type": "code",
   "execution_count": null,
   "metadata": {},
   "outputs": [],
   "source": [
    "schema = dj.schema('homework1')\n",
    "\n",
    "# re-initialize schema\n",
    "schema.drop(True)\n",
    "schema = dj.schema('homework1')"
   ]
  },
  {
   "cell_type": "markdown",
   "metadata": {},
   "source": [
    "Follow this link for more information on creating schema: https://docs.datajoint.io/python/definition/01-Creating-Schemas.html"
   ]
  },
  {
   "cell_type": "markdown",
   "metadata": {},
   "source": [
    "## Defining a table and types of tables\n",
    "\n",
    "If you remember from the previous lecture, datajoint is an object-relational mapper (ORM). This means it maps tables in the SQL database to classes in Python. The classes in Python are not the actual tables that exist in our database!\n",
    "\n",
    "Let's build a class in Python that maps to a table in the MySQL database, and go through each part of the Python class."
   ]
  },
  {
   "cell_type": "code",
   "execution_count": null,
   "metadata": {},
   "outputs": [],
   "source": [
    "@schema\n",
    "class FlySubject(dj.Manual):\n",
    "    definition = \"\"\"\n",
    "    # some fly table\n",
    "    subject_id : int  # id for fly subject\n",
    "    ---\n",
    "    age : float # age of fly in days\n",
    "    sex = 'U': enum('F', 'M', 'U')  # sex of fly\n",
    "    comments = null : varchar(4000)\n",
    "    \"\"\""
   ]
  },
  {
   "cell_type": "markdown",
   "metadata": {},
   "source": [
    "Let's start at the top. The `@schema` decorator tells datajoint to which schema this table class is assigned to in the MySQL database and it will automatically create the table in the database using the table class, if it does not yet exist in the MySQL database. \n",
    "\n",
    "The table will only be created successfully in the MySQL database if your class meets these conditions:\n",
    "* Your class inherits from a datajoint table type (in this case it is the `Manual` table type):\n",
    "\n",
    "    ```python \n",
    "class FlySubject(dj.Manual):\n",
    "    ```\n",
    "    \n",
    "    The `Manual` table type is meant for tables where entries are added manually. As an overview, here are the different types of tables that exist in datajoint (we will go into each in the next lectures):\n",
    "    * `Manual`\n",
    "    * `Lookup`\n",
    "    * `Part`\n",
    "    * `Computed` and `Imported`\n",
    "    * **on this datajoint fork only:** `AutoComputed` and `AutoImported`\n",
    "\n",
    "\n",
    "* Your class name (here `FlySubject`) has to follow CamelCase compound word notation:\n",
    "    * start with a capital letter\n",
    "    * contain only alphanumerical characters (no underscores).\n",
    "  \n",
    "  \n",
    "* Your class has a `definition` attribute that specifies the structure of your table. That is it specifies the columns/attributes of the table. The `definition` attribute is a specially formatted string:\n",
    "\n",
    "    ```python\n",
    "    definition = \"\"\"\n",
    "    # some fly table\n",
    "    subject_id : int  # id for fly subject\n",
    "    ---\n",
    "    age : float # age of fly in days\n",
    "    sex = 'U': enum('F', 'M', 'U')  # sex of fly\n",
    "    comments = null : varchar(4000)\n",
    "    \"\"\"\n",
    "    ```\n",
    "    \n",
    "For more information on the first two points, see: https://docs.datajoint.io/python/definition/02-Creating-Tables.html\n",
    "\n",
    "Let's go through the different parts of the `definition` string attribute."
   ]
  },
  {
   "cell_type": "markdown",
   "metadata": {},
   "source": [
    "### The definition attribute\n",
    "\n",
    "The triple quotes for the definition attribute, allows you to write a multi-line string.\n",
    "\n",
    "#### Table comment\n",
    "\n",
    "The first line of the string is `# some fly table`\n",
    "which is the table comment. It has to start with a hash symbol. The table comment is not necessary, and you are free to leave it out. Although the table comment can be useful when you start defining more complex tables.\n",
    "\n",
    "#### New attribute definition\n",
    "\n",
    "The next line of the string is\n",
    "`subject_id : int # id for fly subject`\n",
    "which is the first attribute/column of the table. Each attribute is in a separate line. \n",
    "The new attribute definition can take the followings formats (also see https://docs.datajoint.io/python/definition/04-Definition-Syntax.html): \n",
    "```\n",
    "attribute_name : data_type\n",
    "attribute_name : data_type  # comment\n",
    "attribute_name = default_value : data_type\n",
    "attribute_name = default_value : data_type # comment\n",
    "```\n",
    "\n",
    "The `attribute_name` is the name of the attribute. It must be in lowercase, and can only contain alphanumerical characters and underscores (snake-case). \n",
    "\n",
    "The `data_type` determines what kind of data can go into that attribute. Throughout the lectures and homework, we will be working with various data types and go into details of some of the special data types that exist in datajoint. Here is a list of MySQL and datajoint-specific data types supported with DataJoint: https://docs.datajoint.io/python/definition/06-Datatypes.html. Please take a look at the data types to get an overview, what is out there. We will go through the specific data types during the lectures. \n",
    "\n",
    "The `comment` and `default_value` are optional parts of a new attribute/column definition. The default value `null` allows you to not have to insert any data for a column. A primary key column cannot have the default value `null`.\n",
    "\n",
    "#### Primary keys vs. Non-primary/dependent attributes\n",
    "\n",
    "The `---` separator in the third line separates primary keys from dependent attributes. Remember, the primary keys are attributes that **uniquely identify** entries in a table. Here we only have one primary key `subject_id`, and thus every entry in the table must have a distinct `subject_id`. \n",
    "\n",
    "To ensure entry integrity, DataJoint enforces the specification of primary keys, which is not a necessary component of MySQL (see https://docs.datajoint.io/python/definition/07-Primary-Key.html). "
   ]
  },
  {
   "cell_type": "markdown",
   "metadata": {},
   "source": [
    "#### Initialize your table\n",
    "\n",
    "You do not need to pass anything to initialize your table. After initialization, you will see if you current table is empty or not."
   ]
  },
  {
   "cell_type": "code",
   "execution_count": null,
   "metadata": {},
   "outputs": [],
   "source": [
    "fly_subject = FlySubject()\n",
    "fly_subject"
   ]
  },
  {
   "cell_type": "markdown",
   "metadata": {},
   "source": [
    "## Adding data to a table\n",
    "\n",
    "### Inserting one entry at a time\n",
    "\n",
    "You can insert a single entry into your table by using the `insert1` method. This method either accepts a *tuple* or *list* with values in the order ot he attributes or it accepts a *dictionary*, where the keys correspond to the column/attribute names (any order). The dictionary format is especially usefull if you have columns where you do not need to specify data (i.e. you defined a default): "
   ]
  },
  {
   "cell_type": "code",
   "execution_count": null,
   "metadata": {},
   "outputs": [],
   "source": [
    "# using a tuple\n",
    "fly_subject.insert1((0, 3.4, 'M', 'This subject was particularly eager to eat my cake and have it too.'))\n",
    "\n",
    "# using a dictionary\n",
    "fly_subject.insert1({'subject_id': 1, 'age':4.5})"
   ]
  },
  {
   "cell_type": "markdown",
   "metadata": {},
   "source": [
    "### Data integrity\n",
    "\n",
    "As previously mentioned, we want to avoid **data duplication**. So if you try to insert the same entry again (i.e. with the same primary keys), you will get an error:"
   ]
  },
  {
   "cell_type": "code",
   "execution_count": null,
   "metadata": {},
   "outputs": [],
   "source": [
    "fly_subject.insert1({'subject_id': 1, 'age':4.5})"
   ]
  },
  {
   "cell_type": "markdown",
   "metadata": {},
   "source": [
    "#### NB\n",
    "\n",
    "Refreshing your Python kernel does not change the MySQL database nor what you have already inserted into the database. Your Python code just links to it and allows you to execute commands in MySQL. So if you were to run everything again after refreshing the kernel, you will get a duplicate error in the earlier cell unless you deleted those entries or that table/schema beforehand. "
   ]
  },
  {
   "cell_type": "markdown",
   "metadata": {},
   "source": [
    "### Inserting multiple entries\n",
    "\n",
    "You can also insert multiple entries into your database using the `insert` method. This accepts a list of dictionarie/tuples/lists or a numpy recarray. If you are using dictionaries, every element must contain the same keys:"
   ]
  },
  {
   "cell_type": "code",
   "execution_count": null,
   "metadata": {},
   "outputs": [],
   "source": [
    "fly_subject.insert([\n",
    "    {'subject_id': 2, 'age':4.5, 'sex': 'M', 'comments':None}, \n",
    "    {'subject_id': 3, 'age':7.5, 'sex': 'F', 'comments':'some comments'}, \n",
    "    {'subject_id': 4, 'age':9.5, 'sex': 'F', 'comments':'other comments'}, \n",
    "])"
   ]
  },
  {
   "cell_type": "markdown",
   "metadata": {},
   "source": [
    "### Now take a look at your table again and you will see that it has a bunch of entries"
   ]
  },
  {
   "cell_type": "code",
   "execution_count": null,
   "metadata": {},
   "outputs": [],
   "source": [
    "fly_subject"
   ]
  },
  {
   "cell_type": "markdown",
   "metadata": {},
   "source": [
    "## Search data in your table\n",
    "\n",
    "You can search your table using restrictions. There are two types of restrictions: \n",
    "* `A & cond`: The subset of entries in table `A` that meet condition `cond`\n",
    "* `A - cond`: The subset of entries in table `A` that do not meed condition `cond`.\n",
    "\n",
    "`cond` can be various Python objects:\n",
    "* string formatted as a SQL where clause: https://www.tutorialgateway.org/mysql-where-clause\n",
    "* a dictionary, where the keys are the column names and the values are the values that should be matched\n",
    "* another datajoint table object with non-matching depedent attribute/column names.\n",
    "\n",
    "Restrictions can also be chained, e.g.:\n",
    "```\n",
    "A & cond0 & cond1 - cond2\n",
    "```\n",
    "\n",
    "Let's see some examples for our table `FlySubject`."
   ]
  },
  {
   "cell_type": "code",
   "execution_count": null,
   "metadata": {},
   "outputs": [],
   "source": [
    "fly_subject & 'age > 5'"
   ]
  },
  {
   "cell_type": "code",
   "execution_count": null,
   "metadata": {},
   "outputs": [],
   "source": [
    "fly_subject & 'age > 5' & 'sex = \"M\"'"
   ]
  },
  {
   "cell_type": "code",
   "execution_count": null,
   "metadata": {},
   "outputs": [],
   "source": [
    "fly_subject & {'sex': 'M', 'age': 4.5}"
   ]
  },
  {
   "cell_type": "code",
   "execution_count": null,
   "metadata": {},
   "outputs": [],
   "source": [
    "fly_subject - {'sex':'M'}"
   ]
  },
  {
   "cell_type": "markdown",
   "metadata": {},
   "source": [
    "### Projection .proj(): focus on attributes of interest\n",
    "\n",
    "Projection is used to select attributes (columns) from a table and to rename them.\n",
    "\n",
    "Let's see some examples"
   ]
  },
  {
   "cell_type": "code",
   "execution_count": null,
   "metadata": {},
   "outputs": [],
   "source": [
    "fly_subject.proj() # only the primary keys"
   ]
  },
  {
   "cell_type": "code",
   "execution_count": null,
   "metadata": {},
   "outputs": [],
   "source": [
    "fly_subject.proj('sex') # primary keys and sex column"
   ]
  },
  {
   "cell_type": "code",
   "execution_count": null,
   "metadata": {},
   "outputs": [],
   "source": [
    "fly_subject.proj('sex', 'age') # primary keys and sex, age column"
   ]
  },
  {
   "cell_type": "code",
   "execution_count": null,
   "metadata": {},
   "outputs": [],
   "source": [
    "fly_subject.proj(age_in_days='age') # rename age into age_in_days"
   ]
  },
  {
   "cell_type": "code",
   "execution_count": null,
   "metadata": {},
   "outputs": [],
   "source": [
    "(fly_subject & {'sex':'M'}).proj() # restrict then project"
   ]
  },
  {
   "cell_type": "code",
   "execution_count": null,
   "metadata": {},
   "outputs": [],
   "source": [
    "(fly_subject.proj() & {'sex':'M'}) # project then restrict\n",
    "# since we projected first the sex column dropped before we restricted by it"
   ]
  },
  {
   "cell_type": "markdown",
   "metadata": {},
   "source": [
    "## Fetching your data\n",
    "\n",
    "So far, we have performed all searches on the MySQL side and did not get any data, so that we can perform operations in Python. \n",
    "\n",
    "You can fetch data into Python using the `fetch` or `fetch1` method. If you are using `fetch1`, your table or restricted table can only contain one entry. `fetch1` returns a dictionary, whereas `fetch` can return a numpy.recarray, a pandas.DataFrame, or a list of dicts:"
   ]
  },
  {
   "cell_type": "code",
   "execution_count": null,
   "metadata": {},
   "outputs": [],
   "source": [
    "fly_subject.fetch() # the index is set to the primary keys"
   ]
  },
  {
   "cell_type": "code",
   "execution_count": null,
   "metadata": {},
   "outputs": [],
   "source": [
    "fly_subject.fetch(as_dict=True)"
   ]
  },
  {
   "cell_type": "code",
   "execution_count": null,
   "metadata": {},
   "outputs": [],
   "source": [
    "fly_subject.fetch(format='array') # here we have it as a record array"
   ]
  },
  {
   "cell_type": "markdown",
   "metadata": {},
   "source": [
    "as you saw maybe at the beginning, you can globally set the default format to be a dataframe or record array by setting the `'fetch_format'` in your `dj.config` to either `'frame'` or `'array'`, respectively."
   ]
  },
  {
   "cell_type": "markdown",
   "metadata": {},
   "source": [
    "You can also fetch restricted and projected tables, e.g.:"
   ]
  },
  {
   "cell_type": "code",
   "execution_count": null,
   "metadata": {},
   "outputs": [],
   "source": [
    "table = (fly_subject - {'sex':'M'}).fetch() # here i am also assigning the fetch table to the table variable\n",
    "table  # look no male flies"
   ]
  },
  {
   "cell_type": "code",
   "execution_count": null,
   "metadata": {},
   "outputs": [],
   "source": [
    "(fly_subject & {'sex':'M'}).proj().fetch() # fetching a projection"
   ]
  },
  {
   "cell_type": "code",
   "execution_count": null,
   "metadata": {},
   "outputs": [],
   "source": [
    "(fly_subject & {'sex':'M', 'age':4.5}).fetch1() # fetching a single entry"
   ]
  },
  {
   "cell_type": "markdown",
   "metadata": {},
   "source": [
    "NB: if there is more than one or zero entries when you use fetch1 an error will be thrown:"
   ]
  },
  {
   "cell_type": "code",
   "execution_count": null,
   "metadata": {},
   "outputs": [],
   "source": [
    "(fly_subject).fetch1()"
   ]
  },
  {
   "cell_type": "markdown",
   "metadata": {},
   "source": [
    "## Deleting entries\n",
    "\n",
    "Sometimes you want to delete an existing entry. For example, if you entered it information incorrectly, you may want to reinsert the entry. You can delete entries easily with the `delete` method. Let's delete all the male flies:"
   ]
  },
  {
   "cell_type": "code",
   "execution_count": null,
   "metadata": {},
   "outputs": [],
   "source": [
    "(fly_subject & {'sex':'M'}).delete()"
   ]
  },
  {
   "cell_type": "code",
   "execution_count": null,
   "metadata": {},
   "outputs": [],
   "source": [
    "fly_subject"
   ]
  },
  {
   "cell_type": "markdown",
   "metadata": {},
   "source": [
    "## Dropping tables and schemas\n",
    "\n",
    "You can also drop whole tables. This means that not just the data in tables are deleted on the MySQL server but the table metadata (i.e. the definition) and all are deleted as well on the MySQL server. To do this you can use the `drop` method. Let's drop the table, we have created:"
   ]
  },
  {
   "cell_type": "code",
   "execution_count": null,
   "metadata": {},
   "outputs": [],
   "source": [
    "fly_subject.drop()"
   ]
  },
  {
   "cell_type": "markdown",
   "metadata": {},
   "source": [
    "You can also delete a whole schema, which will drop all tables within that schema. Let's do that for our schema `homework1`:"
   ]
  },
  {
   "cell_type": "code",
   "execution_count": null,
   "metadata": {},
   "outputs": [],
   "source": [
    "schema.drop()"
   ]
  },
  {
   "cell_type": "markdown",
   "metadata": {},
   "source": [
    "Now we are back to zero!"
   ]
  },
  {
   "cell_type": "markdown",
   "metadata": {},
   "source": [
    "## Table dependencies\n",
    "\n",
    "As mentioned in the previous lecture, you can link up different tables, which can help you build a workflow and maintain data integrity across different tables. To specify table dependencies in the table `definition` using the `->` symbol. In the **my_database.py** file, there is an example of a table dependency. The schema in this file is called `homework2` and we have a total of three tables: `FlySubject`, `RecordingSession`, `Stimulus`.\n",
    "\n",
    "The `RecordingSession` table depends on both the `FlySubject` and `Stimulus` tables. This means that the primary keys of the `FlySubject` and `Stimulus` tables are inherited by `RecordingSession`. However, they are inherited in two different ways. In the case of the `FlySubject` table, the primary keys of `FlySubject` become part of the primary keys of `RecordingSession`. In the case of the `Stimulus` table, the primary keys of `Stimulus` are dependent attributes in the `RecordingSession` table. Since `RecordingSession` inherits `FlySubject` and `Stimulus`, it is necessary to have this class below the other two in the python file.\n",
    "\n",
    "Let's import this file in order to initialize the schema and tables and use them in this iPython kernel. \n",
    "\n",
    "NB: Since we configure our database connection in this iPython kernel, we did not have to specify it in the my_database.py file. Usually, you define your tables of one schema in a python file and configure your connection either in another python file or a notebook, which imports the python file/s with the schema and tables."
   ]
  },
  {
   "cell_type": "code",
   "execution_count": 1,
   "metadata": {},
   "outputs": [
    {
     "name": "stdout",
     "output_type": "stream",
     "text": [
      "Connecting root@127.0.0.1:3306\n"
     ]
    }
   ],
   "source": [
    "import my_database as db"
   ]
  },
  {
   "cell_type": "code",
   "execution_count": null,
   "metadata": {},
   "outputs": [],
   "source": [
    "# you can take a look at the schema and all connections with datajoint.ERD\n",
    "dj.ERD(db.schema)"
   ]
  },
  {
   "cell_type": "code",
   "execution_count": 2,
   "metadata": {},
   "outputs": [
    {
     "name": "stdout",
     "output_type": "stream",
     "text": [
      "\n",
      "    # record the sessions\n",
      "    -> FlySubject\n",
      "    recording_id : int \n",
      "    ---\n",
      "    -> Stimulus\n",
      "    experimenter : varchar(127)\n",
      "    recording_quality : enum('good', 'bad', 'ugly')\n",
      "    comments = null : varchar(4000)\n",
      "    \n"
     ]
    }
   ],
   "source": [
    "# this is the definition for RecordingSession\n",
    "print(db.RecordingSession.definition)"
   ]
  },
  {
   "cell_type": "markdown",
   "metadata": {},
   "source": [
    "### 1) Insert 5 entries for the `FlySubject` table and 3 entries for the `Stimulus` table"
   ]
  },
  {
   "cell_type": "code",
   "execution_count": 3,
   "metadata": {},
   "outputs": [],
   "source": [
    "import pandas as pd\n",
    "import numpy as np"
   ]
  },
  {
   "cell_type": "code",
   "execution_count": 4,
   "metadata": {},
   "outputs": [],
   "source": [
    "# Your code here\n",
    "fly_data = pd.DataFrame({'subject_id': np.arange(5)})\n",
    "\n",
    "fly_data['age'] = [3, 5, 3, 5, 3]\n",
    "fly_data['sex'] = 'U'\n",
    "\n",
    "db.FlySubject.insert(fly_data.to_dict('records'))\n",
    "\n",
    "stimulus_data = pd.DataFrame({\n",
    "    'stimulus_name': ['a', 'b', 'c'],\n",
    "    'stimulus_type': ['full-field', 'grating', 'movie'], \n",
    "    'duration': [1., 2., 3.]\n",
    "})\n",
    "\n",
    "db.Stimulus.insert(stimulus_data.to_dict('records'))"
   ]
  },
  {
   "cell_type": "markdown",
   "metadata": {},
   "source": [
    "Let's take a closer look at the `RecordingSession` table. Each table instance has an attribute called `heading`. The `heading` attribute itself is a class that exists in datajoint, and has some functionality that we will briefly touch upon here."
   ]
  },
  {
   "cell_type": "code",
   "execution_count": 5,
   "metadata": {},
   "outputs": [
    {
     "data": {
      "text/plain": [
       "# record the sessions\n",
       "subject_id           : int                          # id for fly subject\n",
       "recording_id         : int                          # \n",
       "---\n",
       "stimulus_name        : varchar(31)                  # short name for stimulus\n",
       "experimenter         : varchar(127)                 # \n",
       "recording_quality    : enum('good','bad','ugly')    # \n",
       "comments=null        : varchar(4000)                # "
      ]
     },
     "execution_count": 5,
     "metadata": {},
     "output_type": "execute_result"
    }
   ],
   "source": [
    "rec = db.RecordingSession()\n",
    "rec.heading"
   ]
  },
  {
   "cell_type": "code",
   "execution_count": null,
   "metadata": {},
   "outputs": [],
   "source": [
    "flies = db.FlySubject\n",
    "flies.heading"
   ]
  },
  {
   "cell_type": "code",
   "execution_count": null,
   "metadata": {},
   "outputs": [
    {
     "name": "stdout",
     "output_type": "stream",
     "text": [
      "`homework2`.`fly_subject` (5 tuples)\n",
      "`homework2`.`recording_session` (0 tuples)\n"
     ]
    }
   ],
   "source": [
    "db.FlySubject.drop()"
   ]
  },
  {
   "cell_type": "markdown",
   "metadata": {},
   "source": [
    "You can see that the heading is similar to the definition, except that the dependencies have been swapped with the actual primary keys of the \"parent\" tables.\n",
    "\n",
    "The heading tells you the names of the actual columns after processing the `definition` attribute."
   ]
  },
  {
   "cell_type": "code",
   "execution_count": null,
   "metadata": {},
   "outputs": [],
   "source": [
    "# this shows all primary keys for your table\n",
    "print(rec.heading.primary_key, '\\n')\n",
    "# this shows all the dependent/secondary attributes\n",
    "print(rec.heading.secondary_attributes, '\\n')\n",
    "# this shows all attributes\n",
    "print(rec.heading.names, '\\n')\n",
    "# this shows some extra metadata info of your table\n",
    "# you don't need to understand its key here. It's just so that you know this information exists\n",
    "print(rec.heading.table_info)"
   ]
  },
  {
   "cell_type": "markdown",
   "metadata": {},
   "source": [
    "The actual names of the columns are the ones you need to use when inserting into the table"
   ]
  },
  {
   "cell_type": "markdown",
   "metadata": {},
   "source": [
    "### 2) Insert 10 recordings into the `RecordingSession` table\n",
    "\n",
    "Beware that the values for inherited columns from `Stimulus` and `FlySubject` must already exist in those \"parent\" tables when inserting into `RecordingSession`. What error do you get when this is not the case?"
   ]
  },
  {
   "cell_type": "code",
   "execution_count": null,
   "metadata": {},
   "outputs": [],
   "source": [
    "# your code here\n",
    "recording_data = pd.DataFrame({\n",
    "    'subject_id': [0, 1] * 5, \n",
    "    'recording_id': np.arange(10), \n",
    "    'stimulus_name': ['a', 'c'] * 5, \n",
    "    'experimenter': ['me', 'you'] * 5, \n",
    "    'recording_quality': ['bad', 'good'] * 5, \n",
    "})\n",
    "\n",
    "db.RecordingSession.insert(\n",
    "    recording_data.to_dict('records')\n",
    ")"
   ]
  },
  {
   "cell_type": "markdown",
   "metadata": {},
   "source": [
    "## How to search/manipulate multiple tables"
   ]
  },
  {
   "cell_type": "markdown",
   "metadata": {},
   "source": [
    "### Joining (*) - bring fields from different tables together\n",
    "Sometimes you want to see information from multiple tables combined together to be viewed (and queried!) simultaneously. You can do this using the join * operator.\n",
    "\n",
    "Behavior of join:\n",
    "1. match the common field(s) of the primary keys in the two tables\n",
    "2. do a combination of the non-matched part of the primary key\n",
    "3. listing out the secondary attributes for each combination\n",
    "4. if two tables have secondary attributes that share a same name, it will throw an error. To join, we need to rename (will require projections) that attribute for at least one of the tables."
   ]
  },
  {
   "cell_type": "code",
   "execution_count": null,
   "metadata": {},
   "outputs": [],
   "source": [
    "joined_table = (\n",
    "    db.FlySubject.proj() \n",
    "    * db.RecordingSession \n",
    "    * db.Stimulus )\n",
    "joined_table\n",
    "# the black columns are the primary columns for this joined table"
   ]
  },
  {
   "cell_type": "code",
   "execution_count": null,
   "metadata": {},
   "outputs": [],
   "source": [
    "# this throws an error because both have comments as a dependent attribute!\n",
    "db.FlySubject * db.RecordingSession"
   ]
  },
  {
   "cell_type": "code",
   "execution_count": null,
   "metadata": {},
   "outputs": [],
   "source": [
    "# here no error is thrown, since on has a renamed table\n",
    "joined = (\n",
    "    db.FlySubject.proj(\n",
    "        'sex', 'age', fly_comments='comments') \n",
    "    * db.RecordingSession)\n",
    "joined"
   ]
  },
  {
   "cell_type": "markdown",
   "metadata": {},
   "source": [
    "### 3) Join all three tables and restrict to where 'age' is bigger than 3 and then fetch that joined and restricted table\n",
    "\n",
    "Try to see what different ways you can code this up:\n",
    "* join first then restrict\n",
    "* restrict and then join"
   ]
  },
  {
   "cell_type": "code",
   "execution_count": null,
   "metadata": {},
   "outputs": [],
   "source": [
    "\n",
    "joined = (\n",
    "    db.FlySubject.proj(\n",
    "        'sex', 'age', fly_comments='comments') \n",
    "    * db.RecordingSession * db.Stimulus)\n",
    "joined & 'age > 3'"
   ]
  },
  {
   "cell_type": "code",
   "execution_count": null,
   "metadata": {},
   "outputs": [],
   "source": [
    "\n",
    "joined = (\n",
    "    (db.FlySubject & 'age > 3').proj() \n",
    "    * db.RecordingSession * db.Stimulus)\n",
    "joined"
   ]
  },
  {
   "cell_type": "markdown",
   "metadata": {},
   "source": [
    "## Organizing/saving your tables in python files. \n",
    "\n",
    "### 4) Write a schema with manual tables that may be relevant for your research into a python file, and import it into a new notebook session, and start inserting some dummy data. "
   ]
  },
  {
   "cell_type": "code",
   "execution_count": null,
   "metadata": {},
   "outputs": [],
   "source": []
  }
 ],
 "metadata": {
  "kernelspec": {
   "display_name": "Python 3",
   "language": "python",
   "name": "python3"
  },
  "language_info": {
   "codemirror_mode": {
    "name": "ipython",
    "version": 3
   },
   "file_extension": ".py",
   "mimetype": "text/x-python",
   "name": "python",
   "nbconvert_exporter": "python",
   "pygments_lexer": "ipython3",
   "version": "3.7.3"
  }
 },
 "nbformat": 4,
 "nbformat_minor": 4
}
