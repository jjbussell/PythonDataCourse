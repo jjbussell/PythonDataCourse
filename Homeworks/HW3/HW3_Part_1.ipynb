{
 "cells": [
  {
   "cell_type": "markdown",
   "metadata": {},
   "source": [
    "# Class 3 HW Part 1: numpy and scipy\n",
    "Begin by importing the libraries that you'll need for today: numpy, matplotlib, pandas, and seaborn."
   ]
  },
  {
   "cell_type": "code",
   "execution_count": 59,
   "metadata": {},
   "outputs": [],
   "source": [
    "import numpy as np\n",
    "# import matplotlib as plt\n",
    "import matplotlib\n",
    "import matplotlib.pyplot as plt\n",
    "import pandas as pd\n",
    "import seaborn as sns\n",
    "from scipy import signal"
   ]
  },
  {
   "cell_type": "markdown",
   "metadata": {},
   "source": [
    "## <font color = blue>Problem 1: a few basic problems on creating numpy arrays </font>\n",
    "#### 1a.) Create a 10x5 numpy array \"x\" filled with ones, and print the data type of the first value of the first element."
   ]
  },
  {
   "cell_type": "code",
   "execution_count": 20,
   "metadata": {},
   "outputs": [
    {
     "data": {
      "text/plain": [
       "dtype('float64')"
      ]
     },
     "execution_count": 20,
     "metadata": {},
     "output_type": "execute_result"
    }
   ],
   "source": [
    "#hint: is there a numpy function that makes this easier?\n",
    "x = np.ones((10,5))\n",
    "\n",
    "x[0,0].dtype"
   ]
  },
  {
   "cell_type": "markdown",
   "metadata": {},
   "source": [
    "#### 1b.) Find two separate ways to create the same matrix \"x\", containing ints instead of floats"
   ]
  },
  {
   "cell_type": "code",
   "execution_count": 25,
   "metadata": {},
   "outputs": [
    {
     "data": {
      "text/plain": [
       "dtype('int32')"
      ]
     },
     "execution_count": 25,
     "metadata": {},
     "output_type": "execute_result"
    }
   ],
   "source": [
    "#hint: there are more than two ways! Just pick the two that are easiest for you.\n",
    "x = np.ones((10,5),'int')\n",
    "x[0,0].dtype\n",
    "\n",
    "x = np.ones((10,5))\n",
    "x=x.astype('int')\n",
    "x[0,0].dtype"
   ]
  },
  {
   "cell_type": "markdown",
   "metadata": {},
   "source": [
    "#### 1c.) Reassign x to a 1D array of 50 evenly spaced elements between 2 and 20, inclusive."
   ]
  },
  {
   "cell_type": "code",
   "execution_count": 27,
   "metadata": {},
   "outputs": [
    {
     "data": {
      "text/plain": [
       "array([ 2.        ,  2.36734694,  2.73469388,  3.10204082,  3.46938776,\n",
       "        3.83673469,  4.20408163,  4.57142857,  4.93877551,  5.30612245,\n",
       "        5.67346939,  6.04081633,  6.40816327,  6.7755102 ,  7.14285714,\n",
       "        7.51020408,  7.87755102,  8.24489796,  8.6122449 ,  8.97959184,\n",
       "        9.34693878,  9.71428571, 10.08163265, 10.44897959, 10.81632653,\n",
       "       11.18367347, 11.55102041, 11.91836735, 12.28571429, 12.65306122,\n",
       "       13.02040816, 13.3877551 , 13.75510204, 14.12244898, 14.48979592,\n",
       "       14.85714286, 15.2244898 , 15.59183673, 15.95918367, 16.32653061,\n",
       "       16.69387755, 17.06122449, 17.42857143, 17.79591837, 18.16326531,\n",
       "       18.53061224, 18.89795918, 19.26530612, 19.63265306, 20.        ])"
      ]
     },
     "execution_count": 27,
     "metadata": {},
     "output_type": "execute_result"
    }
   ],
   "source": [
    "x = np.linspace(2,20)\n",
    "x"
   ]
  },
  {
   "cell_type": "markdown",
   "metadata": {},
   "source": [
    "#### 1d.) Reassign x to a 1D array of 50 evenly spaced elements on a log scale between 2 and 20, exclusive."
   ]
  },
  {
   "cell_type": "code",
   "execution_count": 34,
   "metadata": {},
   "outputs": [
    {
     "name": "stdout",
     "output_type": "stream",
     "text": [
      "[ 2.          2.0942571   2.19295639  2.29630724  2.40452887  2.51785082\n",
      "  2.63651348  2.76076853  2.89087954  3.0271225   3.16978638  3.31917381\n",
      "  3.47560166  3.63940172  3.81092144  3.99052463  4.17859226  4.37552325\n",
      "  4.58173531  4.79766584  5.02377286  5.26053598  5.50845741  5.76806301\n",
      "  6.03990344  6.32455532  6.62262243  6.93473701  7.2615611   7.60378793\n",
      "  7.96214341  8.33738767  8.73031664  9.14176379  9.57260185 10.02374467\n",
      " 10.4961492  10.99081748 11.50879875 12.05119172 12.61914689 13.21386896\n",
      " 13.83661942 14.4887192  15.1715515  15.88656469 16.63527542 17.4192718\n",
      " 18.24021679 19.09985172]\n"
     ]
    }
   ],
   "source": [
    "x = np.geomspace(2,20,50,False)\n",
    "print(x)"
   ]
  },
  {
   "cell_type": "markdown",
   "metadata": {},
   "source": [
    "## <font color = blue> Problem 2: using numpy and matplotlib to create and view some fake data: a noisy sin wave </font>\n",
    "#### 2a.) Using np.linspace, create a 1D array \"t\" containing 1000 evenly spaced elements between 0 and 1, exclusive. Print the first 50 elements to check that your 1D array has values incrementing by 0.001."
   ]
  },
  {
   "cell_type": "code",
   "execution_count": 35,
   "metadata": {},
   "outputs": [
    {
     "data": {
      "text/plain": [
       "array([0.   , 0.001, 0.002, 0.003, 0.004, 0.005, 0.006, 0.007, 0.008,\n",
       "       0.009, 0.01 , 0.011, 0.012, 0.013, 0.014, 0.015, 0.016, 0.017,\n",
       "       0.018, 0.019, 0.02 , 0.021, 0.022, 0.023, 0.024, 0.025, 0.026,\n",
       "       0.027, 0.028, 0.029, 0.03 , 0.031, 0.032, 0.033, 0.034, 0.035,\n",
       "       0.036, 0.037, 0.038, 0.039, 0.04 , 0.041, 0.042, 0.043, 0.044,\n",
       "       0.045, 0.046, 0.047, 0.048, 0.049])"
      ]
     },
     "execution_count": 35,
     "metadata": {},
     "output_type": "execute_result"
    }
   ],
   "source": [
    "t=np.linspace(0,1,1000,False)\n",
    "t[0:50]"
   ]
  },
  {
   "cell_type": "markdown",
   "metadata": {},
   "source": [
    "#### 2b.) Using numpy's sin function, create a sin wave equal to $sin = sin(2\\pi * (4*t))$, and a 1D array \"noise\", the same shape as your sin array,  filled with random float values between -1 and 1. Set a third array \"noisy_sin\" = <code>sin + noise</code>.  "
   ]
  },
  {
   "cell_type": "code",
   "execution_count": 58,
   "metadata": {},
   "outputs": [
    {
     "data": {
      "text/plain": [
       "array([6, 0, 2, 1, 6, 0, 8, 8, 7, 1, 2, 9, 9, 1, 7, 5, 4, 2, 0, 5, 7, 2,\n",
       "       9, 8, 5, 1, 2, 5, 7, 8, 0, 6, 1, 3, 0, 0, 9, 1, 4, 2, 1, 6, 6, 0,\n",
       "       3, 3, 5, 2, 7, 0, 8, 4, 3, 8, 2, 4, 4, 8, 4, 5, 2, 5, 1, 8, 8, 3,\n",
       "       1, 5, 7, 1, 4, 5, 1, 7, 6, 0, 8, 0, 3, 3, 6, 9, 7, 2, 7, 8, 9, 9,\n",
       "       3, 3, 4, 3, 6, 5, 2, 9, 0, 0, 9, 6, 3, 4, 4, 2, 6, 3, 6, 2, 3, 9,\n",
       "       9, 3, 5, 7, 6, 1, 7, 8, 9, 2, 3, 6, 6, 4, 0, 6, 9, 5, 2, 0, 7, 1,\n",
       "       6, 2, 3, 8, 7, 4, 5, 5, 5, 5, 9, 4, 5, 7, 3, 4, 7, 8, 8, 0, 3, 2,\n",
       "       8, 4, 0, 9, 8, 6, 2, 1, 7, 9, 4, 1, 7, 9, 4, 4, 0, 7, 1, 1, 8, 4,\n",
       "       3, 4, 7, 4, 5, 0, 3, 9, 0, 4, 9, 2, 5, 2, 7, 4, 9, 0, 5, 3, 6, 7,\n",
       "       9, 3, 3, 2, 7, 2, 4, 9, 6, 2, 3, 4, 7, 9, 0, 1, 0, 3, 0, 2, 5, 3,\n",
       "       1, 2, 4, 3, 5, 9, 7, 5, 8, 6, 7, 6, 3, 0, 3, 1, 4, 6, 5, 9, 9, 8,\n",
       "       1, 0, 9, 1, 4, 4, 3, 4, 0, 6, 2, 4, 5, 6, 6, 8, 2, 4, 0, 3, 4, 7,\n",
       "       1, 6, 2, 4, 1, 0, 0, 5, 7, 2, 1, 4, 6, 0, 3, 8, 3, 3, 7, 4, 3, 2,\n",
       "       1, 8, 5, 0, 6, 9, 8, 8, 0, 9, 6, 5, 9, 8, 3, 3, 7, 9, 2, 7, 4, 3,\n",
       "       4, 6, 2, 8, 4, 6, 3, 7, 8, 6, 6, 9, 1, 6, 5, 5, 0, 3, 6, 2, 5, 0,\n",
       "       4, 7, 3, 3, 4, 5, 7, 7, 6, 3, 7, 2, 5, 8, 5, 2, 4, 7, 5, 6, 5, 0,\n",
       "       5, 9, 3, 6, 9, 4, 8, 3, 3, 7, 3, 4, 3, 1, 9, 1, 0, 4, 9, 0, 6, 9,\n",
       "       8, 3, 5, 3, 8, 1, 8, 4, 6, 2, 4, 7, 3, 3, 1, 9, 7, 5, 6, 5, 5, 1,\n",
       "       9, 6, 0, 1, 7, 3, 5, 4, 9, 3, 2, 8, 4, 9, 2, 4, 9, 2, 7, 9, 8, 0,\n",
       "       6, 1, 9, 8, 3, 5, 6, 9, 0, 0, 9, 8, 3, 1, 6, 1, 1, 4, 7, 1, 6, 4,\n",
       "       6, 9, 1, 9, 2, 2, 5, 8, 6, 0, 2, 6, 4, 0, 3, 9, 0, 3, 1, 4, 4, 3,\n",
       "       3, 3, 3, 9, 3, 6, 6, 0, 7, 6, 0, 5, 8, 6, 9, 0, 7, 6, 6, 7, 0, 3,\n",
       "       6, 2, 5, 3, 3, 9, 7, 3, 2, 2, 3, 2, 9, 3, 3, 7, 4, 4, 2, 0, 0, 1,\n",
       "       0, 1, 5, 2, 5, 5, 1, 4, 3, 1, 4, 8, 5, 4, 0, 7, 7, 6, 2, 3, 7, 0,\n",
       "       9, 0, 3, 3, 0, 9, 1, 5, 7, 9, 9, 6, 8, 7, 6, 8, 1, 6, 0, 9, 0, 7,\n",
       "       6, 5, 9, 6, 7, 2, 7, 8, 0, 4, 4, 8, 0, 6, 2, 8, 5, 3, 9, 5, 5, 3,\n",
       "       4, 7, 3, 3, 0, 9, 3, 6, 0, 1, 7, 9, 7, 1, 8, 0, 8, 5, 1, 7, 0, 0,\n",
       "       4, 4, 3, 3, 0, 2, 8, 4, 3, 1, 4, 1, 8, 4, 9, 1, 6, 7, 4, 2, 8, 3,\n",
       "       3, 7, 0, 4, 1, 9, 6, 5, 1, 1, 2, 5, 2, 1, 3, 1, 1, 5, 9, 5, 3, 1,\n",
       "       4, 0, 9, 2, 7, 5, 6, 4, 9, 6, 1, 0, 6, 8, 6, 4, 0, 1, 5, 5, 7, 8,\n",
       "       8, 7, 9, 2, 4, 4, 9, 5, 9, 7, 8, 9, 3, 7, 5, 6, 0, 1, 4, 5, 5, 2,\n",
       "       5, 5, 5, 8, 3, 2, 4, 6, 6, 6, 9, 9, 8, 2, 2, 4, 3, 9, 8, 3, 6, 5,\n",
       "       3, 5, 2, 1, 9, 6, 4, 5, 7, 8, 6, 8, 3, 4, 7, 3, 1, 2, 1, 0, 1, 0,\n",
       "       5, 6, 2, 2, 6, 0, 0, 2, 1, 9, 4, 4, 1, 9, 8, 1, 7, 7, 0, 7, 3, 1,\n",
       "       9, 2, 8, 8, 3, 1, 1, 8, 6, 4, 8, 4, 9, 8, 1, 3, 7, 7, 6, 3, 7, 2,\n",
       "       8, 7, 8, 2, 5, 3, 9, 2, 6, 2, 6, 1, 6, 4, 5, 5, 9, 6, 8, 3, 5, 4,\n",
       "       4, 7, 9, 3, 5, 2, 4, 5, 2, 7, 7, 2, 4, 8, 6, 9, 7, 7, 0, 6, 3, 3,\n",
       "       9, 7, 8, 7, 9, 5, 7, 6, 2, 5, 2, 5, 3, 9, 5, 2, 9, 3, 8, 3, 7, 9,\n",
       "       6, 3, 8, 0, 3, 4, 5, 1, 4, 0, 7, 0, 3, 6, 5, 7, 6, 3, 9, 2, 1, 2,\n",
       "       5, 7, 0, 3, 7, 2, 1, 6, 0, 9, 7, 1, 3, 4, 6, 0, 3, 0, 8, 7, 7, 1,\n",
       "       3, 1, 0, 5, 5, 6, 4, 3, 9, 1, 2, 4, 1, 7, 1, 0, 8, 3, 6, 1, 0, 0,\n",
       "       0, 0, 6, 7, 2, 5, 8, 3, 2, 9, 1, 6, 7, 7, 4, 3, 1, 4, 7, 2, 5, 8,\n",
       "       2, 9, 2, 7, 1, 1, 6, 0, 7, 0, 8, 9, 6, 5, 6, 2, 6, 8, 1, 5, 1, 0,\n",
       "       3, 5, 3, 9, 7, 9, 9, 8, 7, 6, 2, 9, 9, 4, 6, 0, 8, 5, 4, 3, 7, 9,\n",
       "       7, 5, 6, 9, 9, 1, 5, 3, 2, 7, 4, 9, 4, 8, 5, 5, 2, 2, 2, 7, 8, 0,\n",
       "       6, 0, 0, 6, 8, 2, 4, 4, 6, 5])"
      ]
     },
     "execution_count": 58,
     "metadata": {},
     "output_type": "execute_result"
    }
   ],
   "source": [
    "#hint: use np.pi for your sin wave\n",
    "#hint: randint, which lets you input a range, will only output integers\n",
    "#you can normalize to [-1,1] via 2*(x-x.min()/x.max()-x.min())-1\n",
    "\n",
    "sin = np.sin(2*np.pi *(4*t))\n",
    "noise = np.random.randint(0,10,1000)\n",
    "# minn = noise.min()\n",
    "# maxn = noise.max()\n",
    "# noise = 2((noise-minn/maxn-minn)-1)\n",
    "# print(noise)\n",
    "noise\n",
    "\n"
   ]
  },
  {
   "cell_type": "markdown",
   "metadata": {},
   "source": [
    " #### 2d.) In two plots (use subplots), plot <code>(t, sin)</code> in red and <code>(t, noisysin)</code> in blue. Title plots appropriately, including the frequency of the wave that you've generated!"
   ]
  },
  {
   "cell_type": "code",
   "execution_count": 48,
   "metadata": {},
   "outputs": [
    {
     "data": {
      "text/plain": [
       "[<matplotlib.lines.Line2D at 0x1f569922e48>]"
      ]
     },
     "execution_count": 48,
     "metadata": {},
     "output_type": "execute_result"
    },
    {
     "data": {
      "image/png": "[encoded data removed]",
      "text/plain": [
       "<Figure size 720x360 with 2 Axes>"
      ]
     },
     "metadata": {
      "needs_background": "light"
     },
     "output_type": "display_data"
    }
   ],
   "source": [
    "fig,ax = plt.subplots(1,2,figsize=(10,5))\n",
    "\n",
    "ax[0].plot(t,sin,'-',color='r')\n",
    "ax[1].plot(t,noisysin)"
   ]
  },
  {
   "cell_type": "markdown",
   "metadata": {},
   "source": [
    "## <font color = blue> Problem 3: Using SciPy to construct/apply a filter </font>\n",
    "### Before begining, the problem, go back up to your first cell and import signal from scipy.\n",
    "#### 3a.) Using SciPy.signal's butterworth filter function (scipy.signal.butter: documentation [here](https://docs.scipy.org/doc/scipy/reference/generated/scipy.signal.butter.html)), create a <font color = red>2nd order</font>,<font color = red> low-pass</font>,<font color = red> analog</font> filter with a cutoff frequency of <font color = red>10 rad/s</font>."
   ]
  },
  {
   "cell_type": "code",
   "execution_count": 145,
   "metadata": {},
   "outputs": [],
   "source": [
    "#hint: signal.butter returns TWO outputs - you'll want to set it equal to two\n",
    "#comma-separated variables. This is demonstrated clearly in the documentation!\n"
   ]
  },
  {
   "cell_type": "markdown",
   "metadata": {},
   "source": [
    "#### 3b.) Using SciPy.signal's freq function (documentation [here](https://docs.scipy.org/doc/scipy-0.16.0/reference/generated/scipy.signal.freqs.html)), to compute the frequency response of the filter that you generated in 3a."
   ]
  },
  {
   "cell_type": "code",
   "execution_count": 1,
   "metadata": {},
   "outputs": [],
   "source": [
    "#Similarly, the documentation givesa very thorough example!\n",
    "\n"
   ]
  },
  {
   "cell_type": "markdown",
   "metadata": {},
   "source": [
    "#### 3c.) Passing the input <code>(w, 20 * np.log10(abs(h)))</code> into plt.plot (and setting the x-axis to logscale) or plt.semilogx, plot your filter in log-scale. Title and label axes appropriately. Use matplotlib's \"grid\" method to include a grid background from <font color = red> both </font> the x and y axes."
   ]
  },
  {
   "cell_type": "code",
   "execution_count": null,
   "metadata": {},
   "outputs": [],
   "source": []
  },
  {
   "cell_type": "markdown",
   "metadata": {},
   "source": [
    "#### 3d.) Once again, use signal.butter() to create a filter. This time, create a <font color=red>second order, low-pass </font> <font color=orange> digital filter</font><font color=red> with a frequency cutoff of 10Hz</font>  filter. In this case, the frequency cutoff must be __normalized__ . We can do this by dividing our desired cutoff frequency in __Hz__ by half the sampling frequency! As each timestep in \"t\" = 0.001, our sampling frequency is 1000.\n",
    "<br> \n",
    "#### To make this code readable to future users, assign the sampling frequency to a variable \"fs\" and comment your code well!"
   ]
  },
  {
   "cell_type": "code",
   "execution_count": null,
   "metadata": {},
   "outputs": [],
   "source": []
  },
  {
   "cell_type": "markdown",
   "metadata": {},
   "source": [
    "#### 3e.) Finally, by passing the two outputs of your digital filter above and the signal you want filtered into signal.filtfilt(), create a variable called \"filtered_signal\" that is equal to the noisy sin wave with your digital filter applied to it! \n",
    "<br><br>\n",
    "#### Using 4x1 subplots, plot your (1) initial sin wave in blue, (2) your noisy sin wave in orange, (3) your filtered noisy sin wave in green, and (4) all three overlaid."
   ]
  },
  {
   "cell_type": "code",
   "execution_count": null,
   "metadata": {},
   "outputs": [],
   "source": []
  },
  {
   "cell_type": "code",
   "execution_count": null,
   "metadata": {},
   "outputs": [],
   "source": []
  },
  {
   "cell_type": "code",
   "execution_count": null,
   "metadata": {},
   "outputs": [],
   "source": []
  },
  {
   "cell_type": "code",
   "execution_count": null,
   "metadata": {},
   "outputs": [],
   "source": []
  }
 ],
 "metadata": {
  "kernelspec": {
   "display_name": "Python 3",
   "language": "python",
   "name": "python3"
  },
  "language_info": {
   "codemirror_mode": {
    "name": "ipython",
    "version": 3
   },
   "file_extension": ".py",
   "mimetype": "text/x-python",
   "name": "python",
   "nbconvert_exporter": "python",
   "pygments_lexer": "ipython3",
   "version": "3.7.3"
  }
 },
 "nbformat": 4,
 "nbformat_minor": 4
}
