{
 "cells": [
  {
   "cell_type": "markdown",
   "metadata": {},
   "source": [
    "# Getting used to numpy: a mini review + some extra tips/tools\n",
    "\n",
    "For the first ~20 minutes of class, we'll be covering nump - you've already been introduced to numpy arrays, so this will be a refresher.\n",
    "\n",
    "In the window below, import numpy as np"
   ]
  },
  {
   "cell_type": "code",
   "execution_count": 6,
   "metadata": {
    "slideshow": {
     "slide_type": "slide"
    }
   },
   "outputs": [],
   "source": [
    "import numpy as np"
   ]
  },
  {
   "cell_type": "markdown",
   "metadata": {},
   "source": [
    "Create a 1D numpy array \"my_numbers\" containing the numbers 1 through 10 in order. What different ways are there to do this?"
   ]
  },
  {
   "cell_type": "code",
   "execution_count": 12,
   "metadata": {
    "slideshow": {
     "slide_type": "slide"
    }
   },
   "outputs": [
    {
     "data": {
      "text/plain": [
       "array([ 1,  2,  3,  4,  5,  6,  7,  8,  9, 10])"
      ]
     },
     "execution_count": 12,
     "metadata": {},
     "output_type": "execute_result"
    }
   ],
   "source": [
    "my_numbers = np.arange(1,11)\n",
    "my_numbers\n"
   ]
  },
  {
   "cell_type": "markdown",
   "metadata": {},
   "source": [
    "Now, using numpy's reshape( ) method, reshape my_numbers into a 2 x 5 array"
   ]
  },
  {
   "cell_type": "code",
   "execution_count": 14,
   "metadata": {},
   "outputs": [
    {
     "data": {
      "text/plain": [
       "array([[ 1,  2,  3,  4,  5],\n",
       "       [ 6,  7,  8,  9, 10]])"
      ]
     },
     "execution_count": 14,
     "metadata": {},
     "output_type": "execute_result"
    }
   ],
   "source": [
    "#There are also multiple ways to do this!\n",
    "my_numbers = np.reshape(my_numbers,[2,5])\n",
    "my_numbers"
   ]
  },
  {
   "cell_type": "markdown",
   "metadata": {},
   "source": [
    "Using your new, reshaped my_numbers array, use array indexing to print out the second value of the second element (the number 8)"
   ]
  },
  {
   "cell_type": "code",
   "execution_count": 16,
   "metadata": {},
   "outputs": [
    {
     "name": "stdout",
     "output_type": "stream",
     "text": [
      "8\n"
     ]
    }
   ],
   "source": [
    "print(my_numbers[1,2])"
   ]
  },
  {
   "cell_type": "markdown",
   "metadata": {},
   "source": [
    "Using slicing techniques, print every alternating value from my_numbers's first element "
   ]
  },
  {
   "cell_type": "code",
   "execution_count": 19,
   "metadata": {},
   "outputs": [
    {
     "name": "stdout",
     "output_type": "stream",
     "text": [
      "[1 3 5]\n"
     ]
    }
   ],
   "source": [
    "print(my_numbers[0,::2])"
   ]
  },
  {
   "cell_type": "markdown",
   "metadata": {},
   "source": [
    "Another convenient way of pulling values from a numpy array is numpy's where() function. If we wanted to pull __the indices__ of all values in my_numbers greater than 6, we could say: <code> np.where(my_numbers > 6) </code>"
   ]
  },
  {
   "cell_type": "code",
   "execution_count": 145,
   "metadata": {},
   "outputs": [
    {
     "data": {
      "text/plain": [
       "(array([1, 1, 1, 1]), array([1, 2, 3, 4]))"
      ]
     },
     "execution_count": 145,
     "metadata": {},
     "output_type": "execute_result"
    }
   ],
   "source": [
    "#go ahead and run this cell to see what the output looks like\n",
    "np.where(my_numbers > 6)"
   ]
  },
  {
   "cell_type": "markdown",
   "metadata": {},
   "source": [
    "This output is actually two arrays containing an __index__ of matching rows and columns! e.g. <code>my_numbers[1,1]</code> = 7, <code>my_numbers[1,2]</code> = 8, and so on.\n",
    "<br> <br>\n",
    "How would we create a new array called new_array that contains the actual values? Give it a try now\n",
    "<br><br>\n"
   ]
  },
  {
   "cell_type": "code",
   "execution_count": 21,
   "metadata": {},
   "outputs": [
    {
     "name": "stdout",
     "output_type": "stream",
     "text": [
      "[ 7  8  9 10]\n"
     ]
    }
   ],
   "source": [
    "new_array = my_numbers[np.where(my_numbers>6)]\n",
    "print(new_array)"
   ]
  },
  {
   "cell_type": "markdown",
   "metadata": {},
   "source": [
    "It's important to note that the __where__ function has a lot more capability than just returning an index- it actually  can manipulate elements using the same logic as <code> [xv if c else yv\n",
    " for c, xv, yv in zip(condition, x, y)] </code> when passed <code> np.where(condition, [x,y])</code>\n",
    "\n",
    "See example below:"
   ]
  },
  {
   "cell_type": "code",
   "execution_count": 167,
   "metadata": {},
   "outputs": [
    {
     "name": "stdout",
     "output_type": "stream",
     "text": [
      "Before using np.where():  \n",
      " [ 1  2  3  4  5  6  7  8  9 10 11 12 13 14 15 16 17 18 19]\n",
      "After using np.where(), all indices where example_arr < 10 = False are subject to example_arr-10:  \n",
      " [1 2 3 4 5 6 7 8 9 0 1 2 3 4 5 6 7 8 9]\n"
     ]
    }
   ],
   "source": [
    "#go ahead and run this cell to see output\n",
    "example_arr = np.arange(1,20,1)\n",
    "\n",
    "print('Before using np.where(): ','\\n',example_arr)\n",
    "\n",
    "example_arr = np.where(example_arr < 10, example_arr, example_arr-10)\n",
    "\n",
    "print('After using np.where(), all indices where example_arr < 10 = False are subject to example_arr-10: ',\n",
    "      '\\n',example_arr)"
   ]
  },
  {
   "cell_type": "markdown",
   "metadata": {},
   "source": [
    "Finally, while it was touched on last lecture, we'd like to make the point that one can also easily index arrays by creating boolean/mask arrays using conditional statements. In this case, the functionality would look like: <br> <br>\n",
    "<code> new_array = old_array[old_array <font color = red>CONDITIONAL STATEMENT</font>]</code>\n",
    "\n",
    "In the code below, we've creating an array __a__ that's equal the the numbers between 1 and 20. Use a conditional statement to create a mask array with index values, and reassign a to only equaling its values that are greater than or equal to 12."
   ]
  },
  {
   "cell_type": "code",
   "execution_count": 22,
   "metadata": {},
   "outputs": [
    {
     "name": "stdout",
     "output_type": "stream",
     "text": [
      "[12 13 14 15 16 17 18 19 20]\n"
     ]
    }
   ],
   "source": [
    "a = np.arange(1,21,1)\n",
    "a = a[a >= 12]\n",
    "print(a)\n"
   ]
  },
  {
   "cell_type": "markdown",
   "metadata": {},
   "source": [
    "# Random number generation in numpy\n",
    "\n",
    "Numpy comes with a \"random\" module (np.random) that contains a number of functions for producing random numbers. Some examples include:\n",
    "<br> <br>\n",
    "<code>np.random.random(tuple indicating output dimensions, e.g. (2,3) )</code> -> outputs random values from continuous distribuion over 0 to 1 in n-dimensions (specified by input tuple)\n",
    "<br><br>\n",
    "<code>np.random.randn(dimension1, dimension2, dimension 3...)</code> ->  random values from 0 to 1 over normal distribution\n",
    "<br><br>\n",
    "<code>np.random.randint(size, (lower bound, higher bound))</code> -> array of size x over specified lower/higher bounds\n",
    "<br> <br><br>\n",
    "Check out further numpy rng features here:\n",
    "\n",
    "https://docs.scipy.org/doc/numpy-1.15.1/reference/routines.random.html\n",
    "\n",
    "\n",
    "\n",
    "\n"
   ]
  },
  {
   "cell_type": "markdown",
   "metadata": {},
   "source": [
    "Using <code>np.random.random</code>, create two arrays of random numbers from a continuous distribution: array a (100x5), and array b (5x10)"
   ]
  },
  {
   "cell_type": "code",
   "execution_count": 25,
   "metadata": {},
   "outputs": [],
   "source": [
    "#hint: don't forget that np.random.random takes in a tuple!\n",
    "a = np.random.random((100,5))\n",
    "b = np.random.random((5,10))"
   ]
  },
  {
   "cell_type": "markdown",
   "metadata": {},
   "source": [
    "Next, using the __shape__ attribute of numpy arrays, print the shape of a and the shape of b. \n",
    "<br><br>\n"
   ]
  },
  {
   "cell_type": "code",
   "execution_count": 26,
   "metadata": {},
   "outputs": [
    {
     "name": "stdout",
     "output_type": "stream",
     "text": [
      "(100, 5)\n",
      "(5, 10)\n"
     ]
    }
   ],
   "source": [
    "#hint: attributes, unlike methods, don't require the use of parentheses!\n",
    "print(a.shape)\n",
    "print(b.shape)"
   ]
  },
  {
   "cell_type": "markdown",
   "metadata": {},
   "source": [
    "# numpy arrays: operators and a few more useful attributes\n",
    "\n",
    "\n",
    "Rather than having a \"len\" like lists, numpy arrays have two attributes than can help users keep track of dimensions/elements: <code>size</code> and <code>shape</code>. <code> size </code> refers to the __number of elements__ within an array, while <code> shape </code> returns an array's dimensions.\n",
    "<br> <br>\n",
    "Below, print the size and shape of a and b. What do you get?"
   ]
  },
  {
   "cell_type": "code",
   "execution_count": 27,
   "metadata": {},
   "outputs": [
    {
     "name": "stdout",
     "output_type": "stream",
     "text": [
      "500\n",
      "(100, 5)\n",
      "50\n",
      "(5, 10)\n"
     ]
    }
   ],
   "source": [
    "print(a.size) #a size\n",
    "print(a.shape) #a shape\n",
    "print(b.size) #b size\n",
    "print(b.shape) #b shape"
   ]
  },
  {
   "cell_type": "markdown",
   "metadata": {},
   "source": [
    "In the last lecture, Jacob covered some operators (+, -, etc.) that can be used on numpy arrays. We just wanted to make the point that matrix multiplication can be quickly accomplished using the <code> @ </code>. Below, create a matrix c that is the product of a and b and print the shapes of a, b, and c to demonstrate matrix multiplication."
   ]
  },
  {
   "cell_type": "code",
   "execution_count": 29,
   "metadata": {},
   "outputs": [
    {
     "name": "stdout",
     "output_type": "stream",
     "text": [
      "(100, 5)\n",
      "(5, 10)\n",
      "(100, 10)\n"
     ]
    }
   ],
   "source": [
    "print(a.shape) #a shape\n",
    "print(b.shape) #b shape\n",
    "c = a@b\n",
    "print(c.shape)#c shape"
   ]
  },
  {
   "cell_type": "markdown",
   "metadata": {},
   "source": [
    "Arrays also have lots of useful methods associated with them that perform various functions, including:\n",
    "<br><br>\n",
    "<code> np.min()</code> <- returns minimum value of array<br> <br>\n",
    "<code> np.max()</code> <-returns max value of array<br> <br>\n",
    "<code> np.mean()</code> <-returns mean value of array<br> <br>\n",
    "<code> np.astype()</code> <- casts all data types contained in array to specified data type, eg. <code> =astype(int)</code>\n",
    "\n",
    "For a complete list of attributes and methods associated with numpy arrays, check out this documentation:\n",
    " <br> <br>\n",
    "    https://docs.scipy.org/doc/numpy/reference/arrays.ndarray.html#array-methods\n",
    "   <br> <br>\n",
    "Using this information, find the minimum value of a.\n",
    "    "
   ]
  },
  {
   "cell_type": "code",
   "execution_count": 28,
   "metadata": {},
   "outputs": [
    {
     "name": "stdout",
     "output_type": "stream",
     "text": [
      "0.0006321415554797483\n"
     ]
    }
   ],
   "source": [
    "print(np.min(a))"
   ]
  },
  {
   "cell_type": "markdown",
   "metadata": {},
   "source": [
    "## A note on axes in numpy arrays:\n",
    "\n",
    "We've just told you about some of the neat methods you can use with numpy arrays; however, we haven't covered situations in which you might want to find the max or min of a __single column__ or __row__ of an array (we refer to these as __axes__).\n",
    "\n",
    "In this case, you'll want to specify *within* the method the axis that you would like to operate on. Let's take our 100x5 array \"a\" as an example. Let's say that we actually want to take the mean across the __first value__ of each \"column\", and return a vector of length 5 containing each of those values. In this case, we would need to specify axis = 0 *as input to the function*, like so:\n",
    "<br><br>\n",
    "<code> np.mean(<font color=red>ARRAY</font>,axis=0)</code>\n",
    "<br><br> Conversely, specifying \"axis = 1\" would return a vector of length 100 with the mean value of each \"row\".\n",
    "Below, create an array \"a_mean\" that's equal to the mean of array \"a\" across axis 0."
   ]
  },
  {
   "cell_type": "code",
   "execution_count": 30,
   "metadata": {},
   "outputs": [
    {
     "name": "stdout",
     "output_type": "stream",
     "text": [
      "[0.55330811 0.50874848 0.48057869 0.54676612 0.48261238]\n"
     ]
    }
   ],
   "source": [
    "a_mean = np.mean(a,axis = 0)\n",
    "print(a_mean)\n"
   ]
  },
  {
   "cell_type": "markdown",
   "metadata": {},
   "source": [
    "# Huzzah! You've made it through part 1 of the lecture! We're going to go through some slides for a bit, and then you'll be prompted to import __pandas__. Go ahead and pick up here whenever that happens :)\n",
    "<br><br><br><br><br>"
   ]
  },
  {
   "cell_type": "markdown",
   "metadata": {},
   "source": [
    "In the cell below, import <code> pandas </code> as <code> pd</cd>"
   ]
  },
  {
   "cell_type": "code",
   "execution_count": 39,
   "metadata": {},
   "outputs": [],
   "source": [
    "import pandas as pd"
   ]
  },
  {
   "cell_type": "markdown",
   "metadata": {},
   "source": [
    "Below, find the list \"names_list\", consisting of five random names."
   ]
  },
  {
   "cell_type": "code",
   "execution_count": 40,
   "metadata": {},
   "outputs": [],
   "source": [
    "names_list = ['Aragorn', 'Legolas', 'Gimli', 'Galadriel', 'Eowyn']"
   ]
  },
  {
   "cell_type": "markdown",
   "metadata": {},
   "source": [
    "Use panda's Series() method, with names_list as input, to create a series assigned to variable \"names_series\" Print output."
   ]
  },
  {
   "cell_type": "code",
   "execution_count": 42,
   "metadata": {},
   "outputs": [
    {
     "name": "stdout",
     "output_type": "stream",
     "text": [
      "0      Aragorn\n",
      "1      Legolas\n",
      "2        Gimli\n",
      "3    Galadriel\n",
      "4        Eowyn\n",
      "dtype: object\n"
     ]
    }
   ],
   "source": [
    "names_series = pd.Series(names_list)\n",
    "print(names_series)"
   ]
  },
  {
   "cell_type": "markdown",
   "metadata": {},
   "source": [
    "Looking at our printed series, it's pretty clear that this no longer looks like a list. There are values all along the left side!! This is the series __index__. Because we didn't specify anything in particular, pandas automatically created an index for us beginning with 0 and continuing through the length of the list we passed it; however, we have control over the index! We can specify values *within* the input we provide the Series() function, like this:\n",
    "<br><br>\n",
    "<code> names_series = pd.Series(names_list, index = [5,6,7,8,9])</code>\n",
    "<br><br> __OR__ If we create a series from a __dictionary__, the index will automatically contain key values from the dict."
   ]
  },
  {
   "cell_type": "markdown",
   "metadata": {},
   "source": [
    "<br><br><br>\n",
    "So how do we make a DataFrame? There are actually myriad ways!! This is __one of many__ - and not the most efficient!\n",
    "<br> Create a dictionary lotr_data, with the key 'Beings'assigned a list containing the strings 'human','elf','dwarf','elf', and 'human', and the key 'Age', assigned a list containing the values 87, 2931, 139, 7000, and 24"
   ]
  },
  {
   "cell_type": "code",
   "execution_count": 44,
   "metadata": {},
   "outputs": [
    {
     "data": {
      "text/plain": [
       "{'Beings': ['human', 'elf', 'dwarf', 'elf', 'human'],\n",
       " 'Age': [87, 2931, 139, 7000, 24]}"
      ]
     },
     "execution_count": 44,
     "metadata": {},
     "output_type": "execute_result"
    }
   ],
   "source": [
    "lotr_data = {'Beings':['human','elf','dwarf','elf','human'],'Age':[87,2931,139,7000,24]}\n",
    "lotr_data\n"
   ]
  },
  {
   "cell_type": "markdown",
   "metadata": {},
   "source": [
    "Now, create a dataframe lotr_df by passing lotr_data into the pandas function DataFrame()"
   ]
  },
  {
   "cell_type": "code",
   "execution_count": 45,
   "metadata": {
    "scrolled": true
   },
   "outputs": [
    {
     "name": "stdout",
     "output_type": "stream",
     "text": [
      "  Beings   Age\n",
      "0  human    87\n",
      "1    elf  2931\n",
      "2  dwarf   139\n",
      "3    elf  7000\n",
      "4  human    24\n"
     ]
    }
   ],
   "source": [
    "lotr_df = pd.DataFrame(lotr_data)\n",
    "print(lotr_df)\n"
   ]
  },
  {
   "cell_type": "markdown",
   "metadata": {},
   "source": [
    "We've been using Python's built-in print function throughout this class to look at data - but DataFrames are unique in that they are actually nicer to look at as output! Try using the .head() method associated with DataFrames - head() will normally return the first five rows of a DataFrame, but can take any number as input. In this case, just show the first 3 rows:"
   ]
  },
  {
   "cell_type": "code",
   "execution_count": 46,
   "metadata": {},
   "outputs": [
    {
     "data": {
      "text/html": [
       "<div>\n",
       "<style scoped>\n",
       "    .dataframe tbody tr th:only-of-type {\n",
       "        vertical-align: middle;\n",
       "    }\n",
       "\n",
       "    .dataframe tbody tr th {\n",
       "        vertical-align: top;\n",
       "    }\n",
       "\n",
       "    .dataframe thead th {\n",
       "        text-align: right;\n",
       "    }\n",
       "</style>\n",
       "<table border=\"1\" class=\"dataframe\">\n",
       "  <thead>\n",
       "    <tr style=\"text-align: right;\">\n",
       "      <th></th>\n",
       "      <th>Beings</th>\n",
       "      <th>Age</th>\n",
       "    </tr>\n",
       "  </thead>\n",
       "  <tbody>\n",
       "    <tr>\n",
       "      <th>0</th>\n",
       "      <td>human</td>\n",
       "      <td>87</td>\n",
       "    </tr>\n",
       "    <tr>\n",
       "      <th>1</th>\n",
       "      <td>elf</td>\n",
       "      <td>2931</td>\n",
       "    </tr>\n",
       "    <tr>\n",
       "      <th>2</th>\n",
       "      <td>dwarf</td>\n",
       "      <td>139</td>\n",
       "    </tr>\n",
       "  </tbody>\n",
       "</table>\n",
       "</div>"
      ],
      "text/plain": [
       "  Beings   Age\n",
       "0  human    87\n",
       "1    elf  2931\n",
       "2  dwarf   139"
      ]
     },
     "execution_count": 46,
     "metadata": {},
     "output_type": "execute_result"
    }
   ],
   "source": [
    "lotr_df.head(3)"
   ]
  },
  {
   "cell_type": "markdown",
   "metadata": {},
   "source": [
    "Let's say we want to view just the 'Beings' column of our DataFrame - this can be accomplished via the simple command <code> DataFrame[<font color=red>'COLUMN NAME'<font>]</code>. Try looking at just Beings below."
   ]
  },
  {
   "cell_type": "code",
   "execution_count": 47,
   "metadata": {},
   "outputs": [
    {
     "data": {
      "text/plain": [
       "0    human\n",
       "1      elf\n",
       "2    dwarf\n",
       "3      elf\n",
       "4    human\n",
       "Name: Beings, dtype: object"
      ]
     },
     "execution_count": 47,
     "metadata": {},
     "output_type": "execute_result"
    }
   ],
   "source": [
    "lotr_df['Beings']"
   ]
  },
  {
   "cell_type": "markdown",
   "metadata": {},
   "source": [
    "Interestingly, the columns of a DataFrame are actually also __attributes__, meaning they can be accessed using <code> DataFrame.<font color = red>COLUMNS</font></code> notation. Try pulling out the Age column this way below."
   ]
  },
  {
   "cell_type": "code",
   "execution_count": 48,
   "metadata": {},
   "outputs": [
    {
     "data": {
      "text/plain": [
       "0      87\n",
       "1    2931\n",
       "2     139\n",
       "3    7000\n",
       "4      24\n",
       "Name: Age, dtype: int64"
      ]
     },
     "execution_count": 48,
     "metadata": {},
     "output_type": "execute_result"
    }
   ],
   "source": [
    "lotr_df.Age"
   ]
  },
  {
   "cell_type": "markdown",
   "metadata": {},
   "source": [
    "Egads! It looks like we've forgotten to insert our character names from earlier into our DataFrame! Thankfully, using the same indexing that we see above, this is quite easy to accomplish in a DataFrame - simply create a *new* column with the command <code>DataFrame['NEW COLUMN NAME'] = ________ </code> Below, insert your names_series Series into lotr_df in a column called 'Character Name', and take a look at your updated DataFrame"
   ]
  },
  {
   "cell_type": "code",
   "execution_count": 49,
   "metadata": {},
   "outputs": [
    {
     "data": {
      "text/html": [
       "<div>\n",
       "<style scoped>\n",
       "    .dataframe tbody tr th:only-of-type {\n",
       "        vertical-align: middle;\n",
       "    }\n",
       "\n",
       "    .dataframe tbody tr th {\n",
       "        vertical-align: top;\n",
       "    }\n",
       "\n",
       "    .dataframe thead th {\n",
       "        text-align: right;\n",
       "    }\n",
       "</style>\n",
       "<table border=\"1\" class=\"dataframe\">\n",
       "  <thead>\n",
       "    <tr style=\"text-align: right;\">\n",
       "      <th></th>\n",
       "      <th>Beings</th>\n",
       "      <th>Age</th>\n",
       "      <th>Character Name</th>\n",
       "    </tr>\n",
       "  </thead>\n",
       "  <tbody>\n",
       "    <tr>\n",
       "      <th>0</th>\n",
       "      <td>human</td>\n",
       "      <td>87</td>\n",
       "      <td>Aragorn</td>\n",
       "    </tr>\n",
       "    <tr>\n",
       "      <th>1</th>\n",
       "      <td>elf</td>\n",
       "      <td>2931</td>\n",
       "      <td>Legolas</td>\n",
       "    </tr>\n",
       "    <tr>\n",
       "      <th>2</th>\n",
       "      <td>dwarf</td>\n",
       "      <td>139</td>\n",
       "      <td>Gimli</td>\n",
       "    </tr>\n",
       "    <tr>\n",
       "      <th>3</th>\n",
       "      <td>elf</td>\n",
       "      <td>7000</td>\n",
       "      <td>Galadriel</td>\n",
       "    </tr>\n",
       "    <tr>\n",
       "      <th>4</th>\n",
       "      <td>human</td>\n",
       "      <td>24</td>\n",
       "      <td>Eowyn</td>\n",
       "    </tr>\n",
       "  </tbody>\n",
       "</table>\n",
       "</div>"
      ],
      "text/plain": [
       "  Beings   Age Character Name\n",
       "0  human    87        Aragorn\n",
       "1    elf  2931        Legolas\n",
       "2  dwarf   139          Gimli\n",
       "3    elf  7000      Galadriel\n",
       "4  human    24          Eowyn"
      ]
     },
     "execution_count": 49,
     "metadata": {},
     "output_type": "execute_result"
    }
   ],
   "source": [
    "lotr_df['Character Name']=names_series\n",
    "lotr_df.head()"
   ]
  },
  {
   "cell_type": "markdown",
   "metadata": {},
   "source": [
    " This is all well and good, but let's say we get our hands on a *slightly* more complete dataset, and want to import it. pandas has built in functions to read/import __many__ different data types, including (but not limited to) numpy arrays, .xlsx, and .csv files. \n",
    " <br><br> Use the pandas read_csv function, which will take a csv file at a given directory and import it into a DataFrame, to import the lotr_char_age.csv file that you should have put into the same folder as this notebook at the beginning of class. Re-assign your lotr_df DataFrame to the output of this function."
   ]
  },
  {
   "cell_type": "code",
   "execution_count": 52,
   "metadata": {},
   "outputs": [
    {
     "data": {
      "text/plain": [
       "(17, 3)"
      ]
     },
     "execution_count": 52,
     "metadata": {},
     "output_type": "execute_result"
    }
   ],
   "source": [
    "lotr_df =pd.read_csv('lotr_char_age.csv')\n",
    "lotr_df.head()\n",
    "lotr_df.shape"
   ]
  },
  {
   "cell_type": "markdown",
   "metadata": {},
   "source": [
    "What a lovely DataFrame we've created! It doesn't have a *lot* more information, but it should be enough for us to quickly go over how to pull the data your want out of your DataFrame.\n",
    "<br><br>\n",
    "We've already learned that it's easy to pull out all of the contents of a column - but this technique can also be used with __conditionals__.  First, try seeing what happens if you run a conditional asking for the Age column where age < 1000?"
   ]
  },
  {
   "cell_type": "code",
   "execution_count": 55,
   "metadata": {},
   "outputs": [
    {
     "data": {
      "text/plain": [
       "0      True\n",
       "1     False\n",
       "2      True\n",
       "3     False\n",
       "4      True\n",
       "5      True\n",
       "6     False\n",
       "7      True\n",
       "8      True\n",
       "9      True\n",
       "10     True\n",
       "11     True\n",
       "12     True\n",
       "13    False\n",
       "14     True\n",
       "15     True\n",
       "16    False\n",
       "Name: Age, dtype: bool"
      ]
     },
     "execution_count": 55,
     "metadata": {},
     "output_type": "execute_result"
    }
   ],
   "source": [
    "lotr_df['Age']<1000"
   ]
  },
  {
   "cell_type": "markdown",
   "metadata": {},
   "source": [
    "We've seen booleans before, and covered how to use them in numpy arrays earlier in this lecture! Based on what we learned then, and knowing how to pull column data from DataFrames, can you think of a method to return all values of lotr_df that are associated with an age <1000?"
   ]
  },
  {
   "cell_type": "code",
   "execution_count": 56,
   "metadata": {},
   "outputs": [
    {
     "data": {
      "text/html": [
       "<div>\n",
       "<style scoped>\n",
       "    .dataframe tbody tr th:only-of-type {\n",
       "        vertical-align: middle;\n",
       "    }\n",
       "\n",
       "    .dataframe tbody tr th {\n",
       "        vertical-align: top;\n",
       "    }\n",
       "\n",
       "    .dataframe thead th {\n",
       "        text-align: right;\n",
       "    }\n",
       "</style>\n",
       "<table border=\"1\" class=\"dataframe\">\n",
       "  <thead>\n",
       "    <tr style=\"text-align: right;\">\n",
       "      <th></th>\n",
       "      <th>Character Name</th>\n",
       "      <th>Beings</th>\n",
       "      <th>Age</th>\n",
       "    </tr>\n",
       "  </thead>\n",
       "  <tbody>\n",
       "    <tr>\n",
       "      <th>0</th>\n",
       "      <td>Aragorn</td>\n",
       "      <td>human</td>\n",
       "      <td>87</td>\n",
       "    </tr>\n",
       "    <tr>\n",
       "      <th>2</th>\n",
       "      <td>Gimli</td>\n",
       "      <td>dwarf</td>\n",
       "      <td>139</td>\n",
       "    </tr>\n",
       "    <tr>\n",
       "      <th>4</th>\n",
       "      <td>Eowyn</td>\n",
       "      <td>human</td>\n",
       "      <td>24</td>\n",
       "    </tr>\n",
       "    <tr>\n",
       "      <th>5</th>\n",
       "      <td>Frodo</td>\n",
       "      <td>hobbit</td>\n",
       "      <td>51</td>\n",
       "    </tr>\n",
       "    <tr>\n",
       "      <th>7</th>\n",
       "      <td>Boromir</td>\n",
       "      <td>human</td>\n",
       "      <td>41</td>\n",
       "    </tr>\n",
       "    <tr>\n",
       "      <th>8</th>\n",
       "      <td>Merry</td>\n",
       "      <td>hobbit</td>\n",
       "      <td>37</td>\n",
       "    </tr>\n",
       "    <tr>\n",
       "      <th>9</th>\n",
       "      <td>Pippin</td>\n",
       "      <td>hobbit</td>\n",
       "      <td>29</td>\n",
       "    </tr>\n",
       "    <tr>\n",
       "      <th>10</th>\n",
       "      <td>Sam</td>\n",
       "      <td>hobbit</td>\n",
       "      <td>36</td>\n",
       "    </tr>\n",
       "    <tr>\n",
       "      <th>11</th>\n",
       "      <td>Eomer</td>\n",
       "      <td>human</td>\n",
       "      <td>28</td>\n",
       "    </tr>\n",
       "    <tr>\n",
       "      <th>12</th>\n",
       "      <td>Theoden</td>\n",
       "      <td>human</td>\n",
       "      <td>71</td>\n",
       "    </tr>\n",
       "    <tr>\n",
       "      <th>14</th>\n",
       "      <td>Bilbo</td>\n",
       "      <td>hobbit</td>\n",
       "      <td>129</td>\n",
       "    </tr>\n",
       "    <tr>\n",
       "      <th>15</th>\n",
       "      <td>Gloin</td>\n",
       "      <td>dwarf</td>\n",
       "      <td>253</td>\n",
       "    </tr>\n",
       "  </tbody>\n",
       "</table>\n",
       "</div>"
      ],
      "text/plain": [
       "   Character Name  Beings  Age\n",
       "0         Aragorn   human   87\n",
       "2           Gimli   dwarf  139\n",
       "4           Eowyn   human   24\n",
       "5           Frodo  hobbit   51\n",
       "7         Boromir   human   41\n",
       "8           Merry  hobbit   37\n",
       "9          Pippin  hobbit   29\n",
       "10            Sam  hobbit   36\n",
       "11          Eomer   human   28\n",
       "12        Theoden   human   71\n",
       "14          Bilbo  hobbit  129\n",
       "15          Gloin  dwarf   253"
      ]
     },
     "execution_count": 56,
     "metadata": {},
     "output_type": "execute_result"
    }
   ],
   "source": [
    "lotr_df[lotr_df['Age']<1000]"
   ]
  },
  {
   "cell_type": "markdown",
   "metadata": {},
   "source": [
    "Great!\n",
    "<br><br>\n",
    "We can even slice columns once we've pulled them from our DataFrame. Let's say we only want to see the first 3 entries from what we pulled out in the last window. We'd use the notation <code>DataFrame['COLUMN NAME'][INDEX OR SLICE]. Give it a try now!"
   ]
  },
  {
   "cell_type": "code",
   "execution_count": 57,
   "metadata": {},
   "outputs": [
    {
     "data": {
      "text/plain": [
       "3    7000\n",
       "4      24\n",
       "5      51\n",
       "6    2778\n",
       "Name: Age, dtype: int64"
      ]
     },
     "execution_count": 57,
     "metadata": {},
     "output_type": "execute_result"
    }
   ],
   "source": [
    "lotr_df['Age'][3:7]"
   ]
  },
  {
   "cell_type": "markdown",
   "metadata": {},
   "source": [
    "Everything we've done so far has been focused on pulling data out from DataFrame based on its column. But, when we introduced DataFrames, we also made a point that their indexing is valuable! How can we pull out rows based on index?\n",
    "<br> <br>\n",
    "This is were DataFrames differ significantly from arrays - in order to access data inparticular rows, DataFrames require users to use .iloc[] and .loc[] methods. \n",
    "<br><br> iloc, or index-based selection, treats your DataFrame like a giant matrix, and pulls out data based on its location (corresponding to the value you provided as input). loc, on the other hand, takes into account the *labels of the data* in a DataFrame. In the case of lotr_df, index values are the same as their numerical location; however, you might see how we need to use loc if we instead want to specify <code>'Beings' == 'hobbit'</code>.\n",
    "<br> <br>\n",
    "Let's try iloc first - works quite similarly to how you've gotten used to indexing/slicing numpy arrays, except that it takes in inputs in the order of __rows, columns__ - e.g., <code>DataFrame.iloc[2:4, 0]</code> will return values from the 0th column, rows 2 to 4.\n",
    "<br> <br>\n",
    "Below, pull out the 2nd column, rows 1, 3, 5, and 7 of lotr_df"
   ]
  },
  {
   "cell_type": "code",
   "execution_count": 63,
   "metadata": {},
   "outputs": [
    {
     "data": {
      "text/plain": [
       "1    2931\n",
       "3    7000\n",
       "5      51\n",
       "7      41\n",
       "Name: Age, dtype: int64"
      ]
     },
     "execution_count": 63,
     "metadata": {},
     "output_type": "execute_result"
    }
   ],
   "source": [
    "lotr_df.iloc[1:8:2,2]"
   ]
  },
  {
   "cell_type": "markdown",
   "metadata": {},
   "source": [
    "Great! Let's move on to loc - in this case, we can start to use labels and conditionals! For example, what happens if we specify that we want only rows of lotr_df where <code>'Beings' == 'elf'</code> __and__ <code> age < 4000 </code>? We can use the \"&\" operator!!"
   ]
  },
  {
   "cell_type": "code",
   "execution_count": 64,
   "metadata": {},
   "outputs": [
    {
     "data": {
      "text/html": [
       "<div>\n",
       "<style scoped>\n",
       "    .dataframe tbody tr th:only-of-type {\n",
       "        vertical-align: middle;\n",
       "    }\n",
       "\n",
       "    .dataframe tbody tr th {\n",
       "        vertical-align: top;\n",
       "    }\n",
       "\n",
       "    .dataframe thead th {\n",
       "        text-align: right;\n",
       "    }\n",
       "</style>\n",
       "<table border=\"1\" class=\"dataframe\">\n",
       "  <thead>\n",
       "    <tr style=\"text-align: right;\">\n",
       "      <th></th>\n",
       "      <th>Character Name</th>\n",
       "      <th>Beings</th>\n",
       "      <th>Age</th>\n",
       "    </tr>\n",
       "  </thead>\n",
       "  <tbody>\n",
       "    <tr>\n",
       "      <th>1</th>\n",
       "      <td>Legolas</td>\n",
       "      <td>elf</td>\n",
       "      <td>2931</td>\n",
       "    </tr>\n",
       "    <tr>\n",
       "      <th>6</th>\n",
       "      <td>Arwen</td>\n",
       "      <td>elf</td>\n",
       "      <td>2778</td>\n",
       "    </tr>\n",
       "  </tbody>\n",
       "</table>\n",
       "</div>"
      ],
      "text/plain": [
       "  Character Name Beings   Age\n",
       "1        Legolas    elf  2931\n",
       "6          Arwen    elf  2778"
      ]
     },
     "execution_count": 64,
     "metadata": {},
     "output_type": "execute_result"
    }
   ],
   "source": [
    "#This is an example - feel free to run the code to see output\n",
    "lotr_df.loc[(lotr_df['Beings']=='elf') & (lotr_df['Age'] < 4000)]"
   ]
  },
  {
   "cell_type": "markdown",
   "metadata": {},
   "source": [
    "Your turn! Pull out all hobbits under the age of 50 from lotr_df __and__ assign these values to a new DataFrame called young_hobbits"
   ]
  },
  {
   "cell_type": "code",
   "execution_count": 67,
   "metadata": {},
   "outputs": [
    {
     "data": {
      "text/html": [
       "<div>\n",
       "<style scoped>\n",
       "    .dataframe tbody tr th:only-of-type {\n",
       "        vertical-align: middle;\n",
       "    }\n",
       "\n",
       "    .dataframe tbody tr th {\n",
       "        vertical-align: top;\n",
       "    }\n",
       "\n",
       "    .dataframe thead th {\n",
       "        text-align: right;\n",
       "    }\n",
       "</style>\n",
       "<table border=\"1\" class=\"dataframe\">\n",
       "  <thead>\n",
       "    <tr style=\"text-align: right;\">\n",
       "      <th></th>\n",
       "      <th>Character Name</th>\n",
       "      <th>Beings</th>\n",
       "      <th>Age</th>\n",
       "    </tr>\n",
       "  </thead>\n",
       "  <tbody>\n",
       "    <tr>\n",
       "      <th>8</th>\n",
       "      <td>Merry</td>\n",
       "      <td>hobbit</td>\n",
       "      <td>37</td>\n",
       "    </tr>\n",
       "    <tr>\n",
       "      <th>9</th>\n",
       "      <td>Pippin</td>\n",
       "      <td>hobbit</td>\n",
       "      <td>29</td>\n",
       "    </tr>\n",
       "    <tr>\n",
       "      <th>10</th>\n",
       "      <td>Sam</td>\n",
       "      <td>hobbit</td>\n",
       "      <td>36</td>\n",
       "    </tr>\n",
       "  </tbody>\n",
       "</table>\n",
       "</div>"
      ],
      "text/plain": [
       "   Character Name  Beings  Age\n",
       "8           Merry  hobbit   37\n",
       "9          Pippin  hobbit   29\n",
       "10            Sam  hobbit   36"
      ]
     },
     "execution_count": 67,
     "metadata": {},
     "output_type": "execute_result"
    }
   ],
   "source": [
    "young_hobbits = lotr_df.loc[(lotr_df['Beings']=='hobbit')&(lotr_df['Age']<50)]\n",
    "young_hobbits"
   ]
  },
  {
   "cell_type": "markdown",
   "metadata": {},
   "source": [
    "As you can see, if we had a __very__ large data set, this would be an invaluable tool for segmenting our data. Next, we'll be covering one or two more powerful tools associated with DataFrames before moving onto a brief overview of plotting with seaborn and wrapping up!\n",
    "<br><br>\n",
    "But first, oh no! The Tolkien fan who made our dataset didn't know that it can be hard to work with spaces in code - to make things easier for future users, let's see if we can rename our 'Character Name' column to 'Character_Name'. This can easily be accomplished using the rename method, which takes in dict-like input that can be specified to __either__ columns or the index. In this case, the format would look like: \n",
    "<br><br> <code> DataFrame.rename( {<br>      <font color=red> 'EXISTING COLUMN'</font>: <font color=blue> 'NEW NAME'</font>, etc. <br>           }, axis = 'columns')\n"
   ]
  },
  {
   "cell_type": "code",
   "execution_count": 70,
   "metadata": {},
   "outputs": [
    {
     "data": {
      "text/html": [
       "<div>\n",
       "<style scoped>\n",
       "    .dataframe tbody tr th:only-of-type {\n",
       "        vertical-align: middle;\n",
       "    }\n",
       "\n",
       "    .dataframe tbody tr th {\n",
       "        vertical-align: top;\n",
       "    }\n",
       "\n",
       "    .dataframe thead th {\n",
       "        text-align: right;\n",
       "    }\n",
       "</style>\n",
       "<table border=\"1\" class=\"dataframe\">\n",
       "  <thead>\n",
       "    <tr style=\"text-align: right;\">\n",
       "      <th></th>\n",
       "      <th>Character_Name</th>\n",
       "      <th>Beings</th>\n",
       "      <th>Age</th>\n",
       "    </tr>\n",
       "  </thead>\n",
       "  <tbody>\n",
       "    <tr>\n",
       "      <th>0</th>\n",
       "      <td>Aragorn</td>\n",
       "      <td>human</td>\n",
       "      <td>87</td>\n",
       "    </tr>\n",
       "    <tr>\n",
       "      <th>1</th>\n",
       "      <td>Legolas</td>\n",
       "      <td>elf</td>\n",
       "      <td>2931</td>\n",
       "    </tr>\n",
       "    <tr>\n",
       "      <th>2</th>\n",
       "      <td>Gimli</td>\n",
       "      <td>dwarf</td>\n",
       "      <td>139</td>\n",
       "    </tr>\n",
       "    <tr>\n",
       "      <th>3</th>\n",
       "      <td>Galadriel</td>\n",
       "      <td>elf</td>\n",
       "      <td>7000</td>\n",
       "    </tr>\n",
       "    <tr>\n",
       "      <th>4</th>\n",
       "      <td>Eowyn</td>\n",
       "      <td>human</td>\n",
       "      <td>24</td>\n",
       "    </tr>\n",
       "  </tbody>\n",
       "</table>\n",
       "</div>"
      ],
      "text/plain": [
       "  Character_Name Beings   Age\n",
       "0        Aragorn  human    87\n",
       "1        Legolas    elf  2931\n",
       "2          Gimli  dwarf   139\n",
       "3      Galadriel    elf  7000\n",
       "4          Eowyn  human    24"
      ]
     },
     "execution_count": 70,
     "metadata": {},
     "output_type": "execute_result"
    }
   ],
   "source": [
    "lotr_df = lotr_df.rename({'Character Name':'Character_Name'},axis = 'columns')\n",
    "lotr_df.head()"
   ]
  },
  {
   "cell_type": "markdown",
   "metadata": {},
   "source": [
    "Now that we've got our column names in order, let's take a look at one of the most powerful tools we have with DataFrames : the groupby() function.\n",
    "<br><br>\n",
    "Simply put, <code>groupby(['CATEGORY'])</code> is a method of grouping categories, and applying a function to each group. Let's just test it out to see what's going on! Create a DataFrame called \"being_stats\" that is lotr_df grouped by beings, and run the \"count()\" method on it:"
   ]
  },
  {
   "cell_type": "code",
   "execution_count": 74,
   "metadata": {},
   "outputs": [
    {
     "data": {
      "text/html": [
       "<div>\n",
       "<style scoped>\n",
       "    .dataframe tbody tr th:only-of-type {\n",
       "        vertical-align: middle;\n",
       "    }\n",
       "\n",
       "    .dataframe tbody tr th {\n",
       "        vertical-align: top;\n",
       "    }\n",
       "\n",
       "    .dataframe thead th {\n",
       "        text-align: right;\n",
       "    }\n",
       "</style>\n",
       "<table border=\"1\" class=\"dataframe\">\n",
       "  <thead>\n",
       "    <tr style=\"text-align: right;\">\n",
       "      <th></th>\n",
       "      <th>Character_Name</th>\n",
       "      <th>Age</th>\n",
       "    </tr>\n",
       "    <tr>\n",
       "      <th>Beings</th>\n",
       "      <th></th>\n",
       "      <th></th>\n",
       "    </tr>\n",
       "  </thead>\n",
       "  <tbody>\n",
       "    <tr>\n",
       "      <th>dwarf</th>\n",
       "      <td>1</td>\n",
       "      <td>1</td>\n",
       "    </tr>\n",
       "    <tr>\n",
       "      <th>dwarf</th>\n",
       "      <td>1</td>\n",
       "      <td>1</td>\n",
       "    </tr>\n",
       "    <tr>\n",
       "      <th>elf</th>\n",
       "      <td>5</td>\n",
       "      <td>5</td>\n",
       "    </tr>\n",
       "    <tr>\n",
       "      <th>hobbit</th>\n",
       "      <td>5</td>\n",
       "      <td>5</td>\n",
       "    </tr>\n",
       "    <tr>\n",
       "      <th>human</th>\n",
       "      <td>5</td>\n",
       "      <td>5</td>\n",
       "    </tr>\n",
       "  </tbody>\n",
       "</table>\n",
       "</div>"
      ],
      "text/plain": [
       "        Character_Name  Age\n",
       "Beings                     \n",
       "dwarf                1    1\n",
       "dwarf                1    1\n",
       "elf                  5    5\n",
       "hobbit               5    5\n",
       "human                5    5"
      ]
     },
     "execution_count": 74,
     "metadata": {},
     "output_type": "execute_result"
    }
   ],
   "source": [
    "#Feel free to just run the code below to see output\n",
    "being_stats = lotr_df.groupby(['Beings'])\n",
    "# being_stats.head()\n",
    "being_stats.count()"
   ]
  },
  {
   "cell_type": "markdown",
   "metadata": {},
   "source": [
    "What the above output is telling us is that each label under \"Beings\" is a unique value in the lotr_df['Beings'] column. For elves, there are 5 entered character names, and 5 entered ages.\n",
    "<br><br> But how strange! It looks like we're seeing...two dwarfs (dwarves, I know...)?? Can anybody think of a reason for this?"
   ]
  },
  {
   "cell_type": "markdown",
   "metadata": {},
   "source": [
    "We can take a closer look by using the unique() function - run <code> lotr_df['Beings'].unique()</code>. What do you see?"
   ]
  },
  {
   "cell_type": "code",
   "execution_count": 278,
   "metadata": {},
   "outputs": [
    {
     "data": {
      "text/plain": [
       "array(['human', 'elf', 'dwarf', 'hobbit', 'dwarf '], dtype=object)"
      ]
     },
     "execution_count": 278,
     "metadata": {},
     "output_type": "execute_result"
    }
   ],
   "source": []
  },
  {
   "cell_type": "markdown",
   "metadata": {},
   "source": [
    "This is all part of cleaning data, folks! People make mistakes!\n",
    "<br><br> In this case, we want to go in and replace the error, 'dwarf ', with 'dwarf'. To do this, let's use the replace() function associated with DataFrames. replace() can take in dict-like formats just like rename() - it will look like this:<br><br>\n",
    "<code>        DataFrame.replace({<font color = red>'COLUMN NAME' : VALUE IN COLUMN </font>}, \n",
    "          <font color = blue>VALUE TO BE INSERTED</font> )\n",
    "    \n",
    "    <br><br>\n",
    "    \n",
    "    Try replacing 'dwarf ' with the correct value below - can you check just the dwarf entries using .loc? :\n"
   ]
  },
  {
   "cell_type": "code",
   "execution_count": 80,
   "metadata": {},
   "outputs": [
    {
     "data": {
      "text/html": [
       "<div>\n",
       "<style scoped>\n",
       "    .dataframe tbody tr th:only-of-type {\n",
       "        vertical-align: middle;\n",
       "    }\n",
       "\n",
       "    .dataframe tbody tr th {\n",
       "        vertical-align: top;\n",
       "    }\n",
       "\n",
       "    .dataframe thead th {\n",
       "        text-align: right;\n",
       "    }\n",
       "</style>\n",
       "<table border=\"1\" class=\"dataframe\">\n",
       "  <thead>\n",
       "    <tr style=\"text-align: right;\">\n",
       "      <th></th>\n",
       "      <th>Character_Name</th>\n",
       "      <th>Beings</th>\n",
       "      <th>Age</th>\n",
       "    </tr>\n",
       "  </thead>\n",
       "  <tbody>\n",
       "    <tr>\n",
       "      <th>2</th>\n",
       "      <td>Gimli</td>\n",
       "      <td>dwarf</td>\n",
       "      <td>139</td>\n",
       "    </tr>\n",
       "    <tr>\n",
       "      <th>15</th>\n",
       "      <td>Gloin</td>\n",
       "      <td>dwarf</td>\n",
       "      <td>253</td>\n",
       "    </tr>\n",
       "  </tbody>\n",
       "</table>\n",
       "</div>"
      ],
      "text/plain": [
       "   Character_Name Beings  Age\n",
       "2           Gimli  dwarf  139\n",
       "15          Gloin  dwarf  253"
      ]
     },
     "execution_count": 80,
     "metadata": {},
     "output_type": "execute_result"
    }
   ],
   "source": [
    "lotr_df = lotr_df.replace({'Beings':'dwarf '},'dwarf')\n",
    "lotr_df.loc[lotr_df['Beings']=='dwarf']"
   ]
  },
  {
   "cell_type": "markdown",
   "metadata": {},
   "source": [
    "Great work!!! Finally, let's return to groupby(). Now that we know that we've corrected the error in the DataFrame, see if you can use groupby() and the .mean() functions to pull out the mean age for each type of being."
   ]
  },
  {
   "cell_type": "code",
   "execution_count": 81,
   "metadata": {},
   "outputs": [
    {
     "data": {
      "text/html": [
       "<div>\n",
       "<style scoped>\n",
       "    .dataframe tbody tr th:only-of-type {\n",
       "        vertical-align: middle;\n",
       "    }\n",
       "\n",
       "    .dataframe tbody tr th {\n",
       "        vertical-align: top;\n",
       "    }\n",
       "\n",
       "    .dataframe thead th {\n",
       "        text-align: right;\n",
       "    }\n",
       "</style>\n",
       "<table border=\"1\" class=\"dataframe\">\n",
       "  <thead>\n",
       "    <tr style=\"text-align: right;\">\n",
       "      <th></th>\n",
       "      <th>Age</th>\n",
       "    </tr>\n",
       "    <tr>\n",
       "      <th>Beings</th>\n",
       "      <th></th>\n",
       "    </tr>\n",
       "  </thead>\n",
       "  <tbody>\n",
       "    <tr>\n",
       "      <th>dwarf</th>\n",
       "      <td>196.0</td>\n",
       "    </tr>\n",
       "    <tr>\n",
       "      <th>elf</th>\n",
       "      <td>5145.4</td>\n",
       "    </tr>\n",
       "    <tr>\n",
       "      <th>hobbit</th>\n",
       "      <td>56.4</td>\n",
       "    </tr>\n",
       "    <tr>\n",
       "      <th>human</th>\n",
       "      <td>50.2</td>\n",
       "    </tr>\n",
       "  </tbody>\n",
       "</table>\n",
       "</div>"
      ],
      "text/plain": [
       "           Age\n",
       "Beings        \n",
       "dwarf    196.0\n",
       "elf     5145.4\n",
       "hobbit    56.4\n",
       "human     50.2"
      ]
     },
     "execution_count": 81,
     "metadata": {},
     "output_type": "execute_result"
    }
   ],
   "source": [
    "#fill out what's missing!\n",
    "lotr_df.groupby(['Beings']).mean()"
   ]
  },
  {
   "cell_type": "markdown",
   "metadata": {},
   "source": [
    "## Let's give seaborn a shot\n",
    "below, import seaborn as sns"
   ]
  },
  {
   "cell_type": "code",
   "execution_count": 82,
   "metadata": {},
   "outputs": [],
   "source": [
    "import seaborn as sns"
   ]
  },
  {
   "cell_type": "code",
   "execution_count": 83,
   "metadata": {},
   "outputs": [
    {
     "data": {
      "text/plain": [
       "<matplotlib.axes._subplots.AxesSubplot at 0x158b9c17748>"
      ]
     },
     "execution_count": 83,
     "metadata": {},
     "output_type": "execute_result"
    },
    {
     "data": {
      "image/png": "[encoded data removed]",
      "text/plain": [
       "<Figure size 432x288 with 1 Axes>"
      ]
     },
     "metadata": {
      "needs_background": "light"
     },
     "output_type": "display_data"
    }
   ],
   "source": [
    "# Simple boxplot code!!\n",
    "#go ahead and run this window, just to see what happens\n",
    "sns.boxplot(x='Beings',y='Age',data=lotr_df)"
   ]
  },
  {
   "cell_type": "markdown",
   "metadata": {},
   "source": [
    "I promised beauty...but there are a lot of things happening in that plot that aren't great. But based on how easy it is to change things around in seaborn...in the cell below, change data to equal lotr_df __without__ elves (don't forget loc combined with conditional statements!)"
   ]
  },
  {
   "cell_type": "code",
   "execution_count": 306,
   "metadata": {},
   "outputs": [
    {
     "data": {
      "text/plain": [
       "<matplotlib.axes._subplots.AxesSubplot at 0x1a19c117d0>"
      ]
     },
     "execution_count": 306,
     "metadata": {},
     "output_type": "execute_result"
    },
    {
     "data": {
      "image/png": "[encoded data removed]",
      "text/plain": [
       "<Figure size 432x288 with 1 Axes>"
      ]
     },
     "metadata": {
      "needs_background": "light"
     },
     "output_type": "display_data"
    }
   ],
   "source": [
    "sns.boxplot(x='Beings',y='Age',data=lotr_df.loc[lotr_df['Beings']!='elf'])"
   ]
  },
  {
   "cell_type": "markdown",
   "metadata": {},
   "source": [
    "Okay, looking better! A few more improvements...\n",
    "<br>let's use seaborn's set() function to set the palette to something calming, like 'Greens'...\n",
    "<br>and the background to something weird, like 'whitegrid'...\n",
    "<br> And let's go ahead and use violinplot, not boxplot, just to be fancy...\n",
    "<br> And while we're at it, let's set our plot to an object \"g\" so that we can title it easily."
   ]
  },
  {
   "cell_type": "code",
   "execution_count": 84,
   "metadata": {},
   "outputs": [
    {
     "data": {
      "text/plain": [
       "Text(0.5, 0, 'Subpopulation')"
      ]
     },
     "execution_count": 84,
     "metadata": {},
     "output_type": "execute_result"
    },
    {
     "data": {
      "image/png": "[encoded data removed]",
      "text/plain": [
       "<Figure size 432x288 with 1 Axes>"
      ]
     },
     "metadata": {},
     "output_type": "display_data"
    }
   ],
   "source": [
    "sns.set(palette = 'Greens',style='whitegrid')\n",
    "\n",
    "g = sns.violinplot(x='Beings',y='Age',data=lotr_df.loc[lotr_df['Beings']!='elf'])\n",
    "\n",
    "g.set_title('Relative Longevity in Middle-Earth Subpopulations',fontsize=14)\n",
    "\n",
    "g.set_xlabel('Subpopulation')# <- decided 'Beings' looked silly, so replaced with 'Subpopulation'\n"
   ]
  },
  {
   "cell_type": "code",
   "execution_count": null,
   "metadata": {},
   "outputs": [],
   "source": []
  }
 ],
 "metadata": {
  "kernelspec": {
   "display_name": "Python 3",
   "language": "python",
   "name": "python3"
  },
  "language_info": {
   "codemirror_mode": {
    "name": "ipython",
    "version": 3
   },
   "file_extension": ".py",
   "mimetype": "text/x-python",
   "name": "python",
   "nbconvert_exporter": "python",
   "pygments_lexer": "ipython3",
   "version": "3.7.3"
  }
 },
 "nbformat": 4,
 "nbformat_minor": 4
}
