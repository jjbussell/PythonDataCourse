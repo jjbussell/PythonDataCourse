{
 "cells": [
  {
   "cell_type": "markdown",
   "metadata": {},
   "source": [
    "# HW4 Part 1 - Review of Python Classes\n",
    "\n",
    "April 21, 2020\n",
    "\n",
    "The following is meant to be a brief review of classes in Python. If you feel comfortable with building and manipulating classes in Python, feel free to skim this part"
   ]
  },
  {
   "cell_type": "code",
   "execution_count": 1,
   "metadata": {},
   "outputs": [],
   "source": [
    "import numpy as np\n",
    "import matplotlib.pyplot as plt\n",
    "import pandas as pd"
   ]
  },
  {
   "cell_type": "markdown",
   "metadata": {},
   "source": [
    "## 1a) Create a class \"`Dog`\" with an `__init__` function that takes in the variable `name`"
   ]
  },
  {
   "cell_type": "code",
   "execution_count": 2,
   "metadata": {},
   "outputs": [],
   "source": [
    "class Dog:\n",
    "\n",
    "    def __init__(self, name):\n",
    "        # assign 'name' to self here as a data attribute\n",
    "        self.name = name"
   ]
  },
  {
   "cell_type": "code",
   "execution_count": 3,
   "metadata": {},
   "outputs": [],
   "source": [
    "mydog = Dog('Jojo')"
   ]
  },
  {
   "cell_type": "code",
   "execution_count": 4,
   "metadata": {},
   "outputs": [
    {
     "data": {
      "text/plain": [
       "'Jojo'"
      ]
     },
     "execution_count": 4,
     "metadata": {},
     "output_type": "execute_result"
    }
   ],
   "source": [
    "mydog.name"
   ]
  },
  {
   "cell_type": "markdown",
   "metadata": {},
   "source": [
    "# 1b) Add a method to this class `add_trick` that takes in a variable `trick`\n",
    "Keep in mind that a Dog might learn many tricks - you might keep track of the tricks it learns in a list"
   ]
  },
  {
   "cell_type": "code",
   "execution_count": 7,
   "metadata": {},
   "outputs": [],
   "source": [
    "class Dog:\n",
    "\n",
    "    def __init__(self, name): \n",
    "        self.name = name\n",
    "        self.tricks = []\n",
    "        \n",
    "    def add_trick(self, trick): # this is a method attribute\n",
    "        self.tricks.append(trick)"
   ]
  },
  {
   "cell_type": "code",
   "execution_count": 8,
   "metadata": {},
   "outputs": [
    {
     "name": "stdout",
     "output_type": "stream",
     "text": [
      "['roll over', 'play dead', 'flippy flip']\n"
     ]
    }
   ],
   "source": [
    "# test your code\n",
    "mydog = Dog('Jojo')\n",
    "mydog.add_trick('roll over')\n",
    "mydog.add_trick('play dead')\n",
    "mydog.add_trick('flippy flip')\n",
    "\n",
    "# print the tricks here\n",
    "print(mydog.tricks)"
   ]
  },
  {
   "cell_type": "markdown",
   "metadata": {},
   "source": [
    "## 1c) Modify the class so that it keeps track of the dog's age, gender and species\n",
    "Would these be better as a data attributes or as a method attributes?"
   ]
  },
  {
   "cell_type": "code",
   "execution_count": 10,
   "metadata": {},
   "outputs": [],
   "source": [
    "class Dog:\n",
    "\n",
    "    def __init__(self, name, age, gender, species): \n",
    "        self.name = name\n",
    "        self.age = age\n",
    "        self.gender = gender\n",
    "        self.species = species\n",
    "        self.tricks = []\n",
    "        \n",
    "    def add_trick(self, trick): # this is a method attribute\n",
    "        self.tricks.append(trick)"
   ]
  },
  {
   "cell_type": "markdown",
   "metadata": {},
   "source": [
    "## 1d) Create 3 dogs with various characteristics, and assign them different tricks"
   ]
  },
  {
   "cell_type": "code",
   "execution_count": 45,
   "metadata": {},
   "outputs": [],
   "source": [
    "jojo = Dog(name='Jojo',age=12,gender='M',species='collie')\n",
    "maxi = Dog(name='Max',age=3,gender='M',species='poodle')\n",
    "puck = Dog(name='Puck',age=14,gender='M',species='mutt')"
   ]
  },
  {
   "cell_type": "markdown",
   "metadata": {},
   "source": [
    "## 1e) Create a method/function `print_summary` for the Dog class that prints all the relevant data and tricks"
   ]
  },
  {
   "cell_type": "code",
   "execution_count": 46,
   "metadata": {},
   "outputs": [],
   "source": [
    "class Dog:\n",
    "\n",
    "    def __init__(self, name, age, gender, species): \n",
    "        self.name = name\n",
    "        self.age = age\n",
    "        self.gender = gender\n",
    "        self.species = species\n",
    "        self.tricks = []\n",
    "        \n",
    "    def add_trick(self, trick): # this is a method attribute\n",
    "        self.tricks.append(trick)\n",
    "    \n",
    "    def print_summary(self):\n",
    "        print(\"{} is a {}-year-old {} {}.\".format(self.name,self.age,self.gender,self.species))\n",
    "        if len(self.tricks) > 0:\n",
    "            print(\"{} does the following tricks:\".format(self.name))\n",
    "            for t in self.tricks:\n",
    "                print(t)\n",
    "            "
   ]
  },
  {
   "cell_type": "code",
   "execution_count": 47,
   "metadata": {},
   "outputs": [
    {
     "name": "stdout",
     "output_type": "stream",
     "text": [
      "NewDog is a 1-year-old F lab.\n",
      "NewDog does the following tricks:\n",
      "roll over\n"
     ]
    }
   ],
   "source": [
    "jojo.add_trick(\"roll over\")\n",
    "len(maxi.tricks)\n",
    "\n",
    "newdog = Dog(name='NewDog',age = 1, gender='F',species = 'lab')\n",
    "newdog.add_trick(\"roll over\")\n",
    "newdog.print_summary()"
   ]
  },
  {
   "cell_type": "code",
   "execution_count": null,
   "metadata": {},
   "outputs": [],
   "source": []
  },
  {
   "cell_type": "code",
   "execution_count": 48,
   "metadata": {},
   "outputs": [
    {
     "name": "stdout",
     "output_type": "stream",
     "text": [
      "Jojo is a 12-year-old M collie.\n",
      "Jojo does the following tricks:\n",
      "roll over\n",
      "Max is a 3-year-old M poodle.\n",
      "Puck is a 14-year-old M mutt.\n"
     ]
    }
   ],
   "source": [
    "dogs = [jojo,maxi,puck]\n",
    "\n",
    "for d in dogs:\n",
    "    d.print_summary()"
   ]
  },
  {
   "cell_type": "markdown",
   "metadata": {},
   "source": [
    "## 1f) Finally, create a function/method that returns a pandas dataframe of the dog's name, age, gender species and tricks"
   ]
  },
  {
   "cell_type": "markdown",
   "metadata": {},
   "source": [
    "This code should run. What do you notice about having multiple tricks?"
   ]
  },
  {
   "cell_type": "code",
   "execution_count": 127,
   "metadata": {},
   "outputs": [],
   "source": [
    "# class Dog:\n",
    "\n",
    "#     def __init__(self, name, age, gender, species): \n",
    "#         self.name = name\n",
    "#         self.age = age\n",
    "#         self.gender = gender\n",
    "#         self.species = species\n",
    "#         self.tricks = []\n",
    "        \n",
    "#     def add_trick(self, trick): # this is a method attribute\n",
    "#         self.tricks.append(trick)\n",
    "    \n",
    "#     def print_summary(self):\n",
    "#         print(\"{} is a {}-year-old {} {}.\".format(self.name,self.age,self.gender,self.species))\n",
    "#         if len(self.tricks) > 0:\n",
    "#             print(\"{} does the following tricks:\".format(self.name))\n",
    "#             for t in self.tricks:\n",
    "#                 print(t)\n",
    "    \n",
    "#     def return_df(self):\n",
    "# #         data = {'Name':self.name,'Age':self.age,'Gender':self.gender,'Species':self.species}\n",
    "#         data = [self.name,self.age,self.gender,self.species]\n",
    "#         s = pd.Series(data)\n",
    "#         df = pd.DataFrame(data,columns=['Name','Age','Gender','Species'])\n",
    "# #         df = pd.DataFrame(s)\n",
    "# #         for t in self.tricks:\n",
    "            \n",
    "# #             data.append(t)\n",
    "# #         data.append(data_dict)\n",
    "# #         s = pd.Series(data_dict)\n",
    "# #         df = pd.DataFrame(data)\n",
    "# #         df = pd.DataFrame(s)\n",
    "# #         df = pd.DataFrame(data_dict,columns = ['Name','Age','Gender','Species','Trick'])\n",
    "# #         df = df.stack\n",
    "#         return df\n",
    "# #         print(s)"
   ]
  },
  {
   "cell_type": "code",
   "execution_count": 170,
   "metadata": {},
   "outputs": [],
   "source": [
    "class Dog:\n",
    "\n",
    "    def __init__(self, name, age, gender, species): \n",
    "        self.name = name\n",
    "        self.age = age\n",
    "        self.gender = gender\n",
    "        self.species = species\n",
    "        self.tricks = []\n",
    "        \n",
    "    def add_trick(self, trick): # this is a method attribute\n",
    "        self.tricks.append(trick)\n",
    "    \n",
    "    def print_summary(self):\n",
    "        print(\"{} is a {}-year-old {} {}.\".format(self.name,self.age,self.gender,self.species))\n",
    "        if len(self.tricks) > 0:\n",
    "            print(\"{} does the following tricks:\".format(self.name))\n",
    "            for t in self.tricks:\n",
    "                print(t)\n",
    "    \n",
    "    def return_df(self):\n",
    "        if len(self.tricks) == 0:\n",
    "            count = 1\n",
    "        else:\n",
    "            count = len(self.tricks)\n",
    "        df_data = []\n",
    "        for i in np.arange(0,count):\n",
    "            data = [self.name,self.age,self.gender,self.species,self.tricks[i]]\n",
    "#             data = {'Name':self.name,'Age':self.age,'Gender':self.gender,'Species':self.species,'Tricks':self.tricks[i-1]}\n",
    "            print(data)\n",
    "            df_data[i+1] = data\n",
    "        print(df_data)"
   ]
  },
  {
   "cell_type": "code",
   "execution_count": 171,
   "metadata": {},
   "outputs": [
    {
     "name": "stdout",
     "output_type": "stream",
     "text": [
      "['Jojo', 12, 'M', 'collie', 'roll over']\n"
     ]
    },
    {
     "ename": "IndexError",
     "evalue": "list assignment index out of range",
     "output_type": "error",
     "traceback": [
      "\u001b[1;31m---------------------------------------------------------------------------\u001b[0m",
      "\u001b[1;31mIndexError\u001b[0m                                Traceback (most recent call last)",
      "\u001b[1;32m<ipython-input-171-6a70ae1b74d4>\u001b[0m in \u001b[0;36m<module>\u001b[1;34m\u001b[0m\n\u001b[0;32m      4\u001b[0m \u001b[0mjojo\u001b[0m\u001b[1;33m.\u001b[0m\u001b[0madd_trick\u001b[0m\u001b[1;33m(\u001b[0m\u001b[1;34m'flippy flip'\u001b[0m\u001b[1;33m)\u001b[0m\u001b[1;33m\u001b[0m\u001b[1;33m\u001b[0m\u001b[0m\n\u001b[0;32m      5\u001b[0m \u001b[1;33m\u001b[0m\u001b[0m\n\u001b[1;32m----> 6\u001b[1;33m \u001b[0mdf\u001b[0m \u001b[1;33m=\u001b[0m \u001b[0mjojo\u001b[0m\u001b[1;33m.\u001b[0m\u001b[0mreturn_df\u001b[0m\u001b[1;33m(\u001b[0m\u001b[1;33m)\u001b[0m\u001b[1;33m\u001b[0m\u001b[1;33m\u001b[0m\u001b[0m\n\u001b[0m",
      "\u001b[1;32m<ipython-input-170-9dcf6eb61dfe>\u001b[0m in \u001b[0;36mreturn_df\u001b[1;34m(self)\u001b[0m\n\u001b[0;32m     28\u001b[0m \u001b[1;31m#             data = {'Name':self.name,'Age':self.age,'Gender':self.gender,'Species':self.species,'Tricks':self.tricks[i-1]}\u001b[0m\u001b[1;33m\u001b[0m\u001b[1;33m\u001b[0m\u001b[1;33m\u001b[0m\u001b[0m\n\u001b[0;32m     29\u001b[0m             \u001b[0mprint\u001b[0m\u001b[1;33m(\u001b[0m\u001b[0mdata\u001b[0m\u001b[1;33m)\u001b[0m\u001b[1;33m\u001b[0m\u001b[1;33m\u001b[0m\u001b[0m\n\u001b[1;32m---> 30\u001b[1;33m             \u001b[0mdf_data\u001b[0m\u001b[1;33m[\u001b[0m\u001b[0mi\u001b[0m\u001b[1;33m+\u001b[0m\u001b[1;36m1\u001b[0m\u001b[1;33m]\u001b[0m \u001b[1;33m=\u001b[0m \u001b[0mdata\u001b[0m\u001b[1;33m\u001b[0m\u001b[1;33m\u001b[0m\u001b[0m\n\u001b[0m\u001b[0;32m     31\u001b[0m         \u001b[0mprint\u001b[0m\u001b[1;33m(\u001b[0m\u001b[0mdf_data\u001b[0m\u001b[1;33m)\u001b[0m\u001b[1;33m\u001b[0m\u001b[1;33m\u001b[0m\u001b[0m\n",
      "\u001b[1;31mIndexError\u001b[0m: list assignment index out of range"
     ]
    }
   ],
   "source": [
    "jojo = Dog(name='Jojo',age=12,gender='M',species='collie')\n",
    "\n",
    "jojo.add_trick('roll over')\n",
    "jojo.add_trick('flippy flip')\n",
    "\n",
    "df = jojo.return_df()"
   ]
  },
  {
   "cell_type": "code",
   "execution_count": 163,
   "metadata": {},
   "outputs": [
    {
     "data": {
      "text/plain": [
       "'flippy flip'"
      ]
     },
     "execution_count": 163,
     "metadata": {},
     "output_type": "execute_result"
    }
   ],
   "source": [
    "jojo.tricks[1]"
   ]
  },
  {
   "cell_type": "code",
   "execution_count": 157,
   "metadata": {},
   "outputs": [],
   "source": [
    "jojo = Dog(name='Jojo',age=12,gender='M',species='collie')\n",
    "\n",
    "jojo.add_trick('roll over')\n",
    "jojo.add_trick('flippy flip')\n",
    "\n",
    "# df = jojo.return_df()\n",
    "\n",
    "# df.head()"
   ]
  },
  {
   "cell_type": "code",
   "execution_count": 84,
   "metadata": {},
   "outputs": [],
   "source": [
    "df\n"
   ]
  },
  {
   "cell_type": "code",
   "execution_count": 85,
   "metadata": {},
   "outputs": [
    {
     "name": "stdout",
     "output_type": "stream",
     "text": [
      "None\n"
     ]
    }
   ],
   "source": [
    "print(df)"
   ]
  },
  {
   "cell_type": "code",
   "execution_count": null,
   "metadata": {},
   "outputs": [],
   "source": []
  }
 ],
 "metadata": {
  "kernelspec": {
   "display_name": "Python 3",
   "language": "python",
   "name": "python3"
  },
  "language_info": {
   "codemirror_mode": {
    "name": "ipython",
    "version": 3
   },
   "file_extension": ".py",
   "mimetype": "text/x-python",
   "name": "python",
   "nbconvert_exporter": "python",
   "pygments_lexer": "ipython3",
   "version": "3.7.3"
  }
 },
 "nbformat": 4,
 "nbformat_minor": 2
}
