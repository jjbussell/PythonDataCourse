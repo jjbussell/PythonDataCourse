{
 "cells": [
  {
   "cell_type": "markdown",
   "metadata": {},
   "source": [
    "# Working with automated computations: Imported tables\n",
    "\n",
    "This session was modified from: https://github.com/vathes/playground_tutorial\n",
    "\n",
    "In this session, we will learn to:\n",
    "\n",
    "* import neuron imaging data from data files into an `Imported` table\n",
    "* automatically trigger data importing and computations for all missing entries with `populate`"
   ]
  },
  {
   "cell_type": "markdown",
   "metadata": {},
   "source": [
    "First thing first, let's update and import `datajoint` again."
   ]
  },
  {
   "cell_type": "code",
   "execution_count": 6,
   "metadata": {
    "collapsed": true,
    "jupyter": {
     "outputs_hidden": true
    }
   },
   "outputs": [
    {
     "name": "stdout",
     "output_type": "stream",
     "text": [
      "Requirement already up-to-date: datajoint in c:\\programdata\\anaconda3\\lib\\site-packages (0.12.5)\n",
      "Requirement already satisfied, skipping upgrade: networkx in c:\\programdata\\anaconda3\\lib\\site-packages (from datajoint) (2.2)\n",
      "Requirement already satisfied, skipping upgrade: numpy in c:\\programdata\\anaconda3\\lib\\site-packages (from datajoint) (1.16.2)\n",
      "Requirement already satisfied, skipping upgrade: matplotlib in c:\\programdata\\anaconda3\\lib\\site-packages (from datajoint) (3.0.3)\n",
      "Requirement already satisfied, skipping upgrade: ipython in c:\\programdata\\anaconda3\\lib\\site-packages (from datajoint) (7.4.0)\n",
      "Requirement already satisfied, skipping upgrade: minio in c:\\programdata\\anaconda3\\lib\\site-packages (from datajoint) (5.0.10)\n",
      "Requirement already satisfied, skipping upgrade: pydot in c:\\programdata\\anaconda3\\lib\\site-packages (from datajoint) (1.4.1)\n",
      "Requirement already satisfied, skipping upgrade: pandas in c:\\programdata\\anaconda3\\lib\\site-packages (from datajoint) (0.24.2)\n",
      "Requirement already satisfied, skipping upgrade: tqdm in c:\\programdata\\anaconda3\\lib\\site-packages (from datajoint) (4.31.1)\n",
      "Requirement already satisfied, skipping upgrade: pymysql>=0.7.2 in c:\\programdata\\anaconda3\\lib\\site-packages (from datajoint) (0.9.3)\n",
      "Requirement already satisfied, skipping upgrade: pyparsing in c:\\programdata\\anaconda3\\lib\\site-packages (from datajoint) (2.3.1)\n",
      "Requirement already satisfied, skipping upgrade: decorator>=4.3.0 in c:\\programdata\\anaconda3\\lib\\site-packages (from networkx->datajoint) (4.4.0)\n",
      "Requirement already satisfied, skipping upgrade: cycler>=0.10 in c:\\programdata\\anaconda3\\lib\\site-packages (from matplotlib->datajoint) (0.10.0)\n",
      "Requirement already satisfied, skipping upgrade: kiwisolver>=1.0.1 in c:\\programdata\\anaconda3\\lib\\site-packages (from matplotlib->datajoint) (1.0.1)\n",
      "Requirement already satisfied, skipping upgrade: python-dateutil>=2.1 in c:\\programdata\\anaconda3\\lib\\site-packages (from matplotlib->datajoint) (2.8.0)\n",
      "Requirement already satisfied, skipping upgrade: traitlets>=4.2 in c:\\programdata\\anaconda3\\lib\\site-packages (from ipython->datajoint) (4.3.2)\n",
      "Requirement already satisfied, skipping upgrade: pygments in c:\\programdata\\anaconda3\\lib\\site-packages (from ipython->datajoint) (2.3.1)\n",
      "Requirement already satisfied, skipping upgrade: setuptools>=18.5 in c:\\programdata\\anaconda3\\lib\\site-packages (from ipython->datajoint) (40.8.0)\n",
      "Requirement already satisfied, skipping upgrade: colorama; sys_platform == \"win32\" in c:\\programdata\\anaconda3\\lib\\site-packages (from ipython->datajoint) (0.4.1)\n",
      "Requirement already satisfied, skipping upgrade: prompt-toolkit<2.1.0,>=2.0.0 in c:\\programdata\\anaconda3\\lib\\site-packages (from ipython->datajoint) (2.0.9)\n",
      "Requirement already satisfied, skipping upgrade: backcall in c:\\programdata\\anaconda3\\lib\\site-packages (from ipython->datajoint) (0.1.0)\n",
      "Requirement already satisfied, skipping upgrade: pickleshare in c:\\programdata\\anaconda3\\lib\\site-packages (from ipython->datajoint) (0.7.5)\n",
      "Requirement already satisfied, skipping upgrade: jedi>=0.10 in c:\\programdata\\anaconda3\\lib\\site-packages (from ipython->datajoint) (0.13.3)\n",
      "Requirement already satisfied, skipping upgrade: configparser in c:\\programdata\\anaconda3\\lib\\site-packages (from minio->datajoint) (5.0.0)\n",
      "Requirement already satisfied, skipping upgrade: certifi in c:\\programdata\\anaconda3\\lib\\site-packages (from minio->datajoint) (2020.4.5.1)\n",
      "Requirement already satisfied, skipping upgrade: pytz in c:\\programdata\\anaconda3\\lib\\site-packages (from minio->datajoint) (2018.9)\n",
      "Requirement already satisfied, skipping upgrade: urllib3 in c:\\programdata\\anaconda3\\lib\\site-packages (from minio->datajoint) (1.24.1)\n",
      "Requirement already satisfied, skipping upgrade: six in c:\\programdata\\anaconda3\\lib\\site-packages (from cycler>=0.10->matplotlib->datajoint) (1.12.0)\n",
      "Requirement already satisfied, skipping upgrade: ipython-genutils in c:\\programdata\\anaconda3\\lib\\site-packages (from traitlets>=4.2->ipython->datajoint) (0.2.0)\n",
      "Requirement already satisfied, skipping upgrade: wcwidth in c:\\programdata\\anaconda3\\lib\\site-packages (from prompt-toolkit<2.1.0,>=2.0.0->ipython->datajoint) (0.1.7)\n",
      "Requirement already satisfied, skipping upgrade: parso>=0.3.0 in c:\\programdata\\anaconda3\\lib\\site-packages (from jedi>=0.10->ipython->datajoint) (0.3.4)\n"
     ]
    }
   ],
   "source": [
    "!pip install --upgrade datajoint\n",
    "import datajoint as dj"
   ]
  },
  {
   "cell_type": "markdown",
   "metadata": {},
   "source": [
    "As we are going to perform some computations, let's go ahead and import NumPy and Matplotlib"
   ]
  },
  {
   "cell_type": "code",
   "execution_count": 38,
   "metadata": {},
   "outputs": [],
   "source": [
    "import numpy as np\n",
    "import matplotlib.pyplot as plt\n",
    "\n",
    "%matplotlib inline"
   ]
  },
  {
   "cell_type": "markdown",
   "metadata": {},
   "source": [
    "Now we would like to work with the tables we define in `fly_session.py`. To do so, we would need the classes for each table: `Fly` and `Session`. We can either redefine it here, but for your convenience, you can also just import the file/package. We will use the schema object again to define more tables."
   ]
  },
  {
   "cell_type": "code",
   "execution_count": 2,
   "metadata": {},
   "outputs": [
    {
     "name": "stdout",
     "output_type": "stream",
     "text": [
      "Connecting root@127.0.0.1:3306\n"
     ]
    }
   ],
   "source": [
    "from fly_session import schema, Fly, Session"
   ]
  },
  {
   "cell_type": "code",
   "execution_count": 3,
   "metadata": {},
   "outputs": [
    {
     "data": {
      "text/html": [
       "\n",
       "        \n",
       "        <style type=\"text/css\">\n",
       "            .Relation{\n",
       "                border-collapse:collapse;\n",
       "            }\n",
       "            .Relation th{\n",
       "                background: #A0A0A0; color: #ffffff; padding:4px; border:#f0e0e0 1px solid;\n",
       "                font-weight: normal; font-family: monospace; font-size: 100%;\n",
       "            }\n",
       "            .Relation td{\n",
       "                padding:4px; border:#f0e0e0 1px solid; font-size:100%;\n",
       "            }\n",
       "            .Relation tr:nth-child(odd){\n",
       "                background: #ffffff;\n",
       "            }\n",
       "            .Relation tr:nth-child(even){\n",
       "                background: #f3f1ff;\n",
       "            }\n",
       "            /* Tooltip container */\n",
       "            .djtooltip {\n",
       "            }\n",
       "            /* Tooltip text */\n",
       "            .djtooltip .djtooltiptext {\n",
       "                visibility: hidden;\n",
       "                width: 120px;\n",
       "                background-color: black;\n",
       "                color: #fff;\n",
       "                text-align: center;\n",
       "                padding: 5px 0;\n",
       "                border-radius: 6px;\n",
       "                /* Position the tooltip text - see examples below! */\n",
       "                position: absolute;\n",
       "                z-index: 1;\n",
       "            }\n",
       "            #primary {\n",
       "                font-weight: bold;\n",
       "                color: black;\n",
       "            }\n",
       "\n",
       "            #nonprimary {\n",
       "                font-weight: normal;\n",
       "                color: white;\n",
       "            }\n",
       "\n",
       "            /* Show the tooltip text when you mouse over the tooltip container */\n",
       "            .djtooltip:hover .djtooltiptext {\n",
       "                visibility: visible;\n",
       "            }\n",
       "        </style>\n",
       "        \n",
       "        <b>Experimental animals</b>\n",
       "            <div style=\"max-height:1000px;max-width:1500px;overflow:auto;\">\n",
       "            <table border=\"1\" class=\"Relation\">\n",
       "                <thead> <tr style=\"text-align: right;\"> <th> <div class=\"djtooltip\">\n",
       "                                <p id=\"primary\">fly_id</p>\n",
       "                                <span class=\"djtooltiptext\">Unique animal ID</span>\n",
       "                            </div></th><th><div class=\"djtooltip\">\n",
       "                                <p id=\"nonprimary\">dob</p>\n",
       "                                <span class=\"djtooltiptext\">date of birth</span>\n",
       "                            </div></th><th><div class=\"djtooltip\">\n",
       "                                <p id=\"nonprimary\">sex</p>\n",
       "                                <span class=\"djtooltiptext\">sex</span>\n",
       "                            </div> </th> </tr> </thead>\n",
       "                <tbody> <tr> <td>0</td>\n",
       "<td>2020-03-01</td>\n",
       "<td>M</td></tr><tr><td>1</td>\n",
       "<td>2019-11-19</td>\n",
       "<td>M</td></tr><tr><td>2</td>\n",
       "<td>2019-11-20</td>\n",
       "<td>U</td></tr><tr><td>5</td>\n",
       "<td>2019-12-25</td>\n",
       "<td>F</td></tr><tr><td>10</td>\n",
       "<td>2020-01-01</td>\n",
       "<td>F</td></tr><tr><td>11</td>\n",
       "<td>2020-01-03</td>\n",
       "<td>F</td></tr><tr><td>100</td>\n",
       "<td>2020-05-12</td>\n",
       "<td>F</td> </tr> </tbody>\n",
       "            </table>\n",
       "            \n",
       "            <p>Total: 7</p></div>\n",
       "            "
      ],
      "text/plain": [
       "*fly_id    dob            sex    \n",
       "+--------+ +------------+ +-----+\n",
       "0          2020-03-01     M      \n",
       "1          2019-11-19     M      \n",
       "2          2019-11-20     U      \n",
       "5          2019-12-25     F      \n",
       "10         2020-01-01     F      \n",
       "11         2020-01-03     F      \n",
       "100        2020-05-12     F      \n",
       " (Total: 7)"
      ]
     },
     "execution_count": 3,
     "metadata": {},
     "output_type": "execute_result"
    }
   ],
   "source": [
    "Fly()"
   ]
  },
  {
   "cell_type": "code",
   "execution_count": 4,
   "metadata": {},
   "outputs": [
    {
     "data": {
      "text/html": [
       "\n",
       "        \n",
       "        <style type=\"text/css\">\n",
       "            .Relation{\n",
       "                border-collapse:collapse;\n",
       "            }\n",
       "            .Relation th{\n",
       "                background: #A0A0A0; color: #ffffff; padding:4px; border:#f0e0e0 1px solid;\n",
       "                font-weight: normal; font-family: monospace; font-size: 100%;\n",
       "            }\n",
       "            .Relation td{\n",
       "                padding:4px; border:#f0e0e0 1px solid; font-size:100%;\n",
       "            }\n",
       "            .Relation tr:nth-child(odd){\n",
       "                background: #ffffff;\n",
       "            }\n",
       "            .Relation tr:nth-child(even){\n",
       "                background: #f3f1ff;\n",
       "            }\n",
       "            /* Tooltip container */\n",
       "            .djtooltip {\n",
       "            }\n",
       "            /* Tooltip text */\n",
       "            .djtooltip .djtooltiptext {\n",
       "                visibility: hidden;\n",
       "                width: 120px;\n",
       "                background-color: black;\n",
       "                color: #fff;\n",
       "                text-align: center;\n",
       "                padding: 5px 0;\n",
       "                border-radius: 6px;\n",
       "                /* Position the tooltip text - see examples below! */\n",
       "                position: absolute;\n",
       "                z-index: 1;\n",
       "            }\n",
       "            #primary {\n",
       "                font-weight: bold;\n",
       "                color: black;\n",
       "            }\n",
       "\n",
       "            #nonprimary {\n",
       "                font-weight: normal;\n",
       "                color: white;\n",
       "            }\n",
       "\n",
       "            /* Show the tooltip text when you mouse over the tooltip container */\n",
       "            .djtooltip:hover .djtooltiptext {\n",
       "                visibility: visible;\n",
       "            }\n",
       "        </style>\n",
       "        \n",
       "        <b>Experiment session</b>\n",
       "            <div style=\"max-height:1000px;max-width:1500px;overflow:auto;\">\n",
       "            <table border=\"1\" class=\"Relation\">\n",
       "                <thead> <tr style=\"text-align: right;\"> <th> <div class=\"djtooltip\">\n",
       "                                <p id=\"primary\">fly_id</p>\n",
       "                                <span class=\"djtooltiptext\">Unique animal ID</span>\n",
       "                            </div></th><th><div class=\"djtooltip\">\n",
       "                                <p id=\"primary\">session_date</p>\n",
       "                                <span class=\"djtooltiptext\">date</span>\n",
       "                            </div></th><th><div class=\"djtooltip\">\n",
       "                                <p id=\"nonprimary\">experiment_setup</p>\n",
       "                                <span class=\"djtooltiptext\">experiment setup ID</span>\n",
       "                            </div></th><th><div class=\"djtooltip\">\n",
       "                                <p id=\"nonprimary\">experimenter</p>\n",
       "                                <span class=\"djtooltiptext\">experimenter name</span>\n",
       "                            </div></th><th><div class=\"djtooltip\">\n",
       "                                <p id=\"nonprimary\">data_path</p>\n",
       "                                <span class=\"djtooltiptext\"></span>\n",
       "                            </div> </th> </tr> </thead>\n",
       "                <tbody> <tr> <td>0</td>\n",
       "<td>2020-05-15</td>\n",
       "<td>0</td>\n",
       "<td>gucky92</td>\n",
       "<td>imaging_data</td></tr><tr><td>0</td>\n",
       "<td>2020-05-19</td>\n",
       "<td>0</td>\n",
       "<td>gucky92</td>\n",
       "<td>imaging_data</td></tr><tr><td>5</td>\n",
       "<td>2020-01-05</td>\n",
       "<td>1</td>\n",
       "<td>jko14</td>\n",
       "<td>imaging_data</td></tr><tr><td>100</td>\n",
       "<td>2020-05-25</td>\n",
       "<td>100</td>\n",
       "<td>jportes</td>\n",
       "<td>imaging_data</td> </tr> </tbody>\n",
       "            </table>\n",
       "            \n",
       "            <p>Total: 4</p></div>\n",
       "            "
      ],
      "text/plain": [
       "*fly_id    *session_date  experiment_set experimenter   data_path     \n",
       "+--------+ +------------+ +------------+ +------------+ +------------+\n",
       "0          2020-05-15     0              gucky92        imaging_data  \n",
       "0          2020-05-19     0              gucky92        imaging_data  \n",
       "5          2020-01-05     1              jko14          imaging_data  \n",
       "100        2020-05-25     100            jportes        imaging_data  \n",
       " (Total: 4)"
      ]
     },
     "execution_count": 4,
     "metadata": {},
     "output_type": "execute_result"
    }
   ],
   "source": [
    "Session()"
   ]
  },
  {
   "cell_type": "markdown",
   "metadata": {},
   "source": [
    "The `fly_session.py` also fills each table with data to make sure we are all on the same page."
   ]
  },
  {
   "cell_type": "markdown",
   "metadata": {},
   "source": [
    "## Define table `Scan` for meta information of each calcium imaging scan"
   ]
  },
  {
   "cell_type": "markdown",
   "metadata": {},
   "source": [
    "Now let's define a table `Scan` that describes a scanning in an experimental session that stores the meta information of a particular scan."
   ]
  },
  {
   "cell_type": "code",
   "execution_count": 27,
   "metadata": {},
   "outputs": [],
   "source": [
    "@schema\n",
    "class Scan(dj.Manual):\n",
    "    definition = \"\"\"\n",
    "    -> Session\n",
    "    scan_idx    : int           # scan index\n",
    "    ---\n",
    "    depth       : float         # depth of this scan\n",
    "    wavelength  : float         # wavelength used\n",
    "    laser_power : float         # power of the laser used\n",
    "    fps         : float         # frames per second\n",
    "    file_name    : varchar(128) # name of the tif file\n",
    "    \"\"\""
   ]
  },
  {
   "cell_type": "markdown",
   "metadata": {},
   "source": [
    "This table is dependent on the table `Session`, inheriting its primary key attributes, with an additional primary key attribute `scan_idx`. "
   ]
  },
  {
   "cell_type": "markdown",
   "metadata": {},
   "source": [
    "### 1) What type of relationship exists between `Session` and `Scan`?"
   ]
  },
  {
   "cell_type": "markdown",
   "metadata": {},
   "source": [
    "Your answer here: one-to-many "
   ]
  },
  {
   "cell_type": "markdown",
   "metadata": {},
   "source": [
    "#### ERD"
   ]
  },
  {
   "cell_type": "markdown",
   "metadata": {},
   "source": [
    "We could take a look at the ERD (entity-relational diagram) again."
   ]
  },
  {
   "cell_type": "code",
   "execution_count": 9,
   "metadata": {},
   "outputs": [
    {
     "data": {
      "image/svg+xml": [
       "<svg height=\"185pt\" viewBox=\"0.00 0.00 67.00 185.00\" width=\"67pt\" xmlns=\"http://www.w3.org/2000/svg\" xmlns:xlink=\"http://www.w3.org/1999/xlink\">\n",
       "<g class=\"graph\" id=\"graph0\" transform=\"scale(1 1) rotate(0) translate(4 181)\">\n",
       "<title>%3</title>\n",
       "<polygon fill=\"white\" points=\"-4,4 -4,-181 63,-181 63,4 -4,4\" stroke=\"none\"/>\n",
       "<!-- Fly -->\n",
       "<g class=\"node\" id=\"node1\"><title>Fly</title>\n",
       "<g id=\"a_node1\"><a xlink:title=\"fly_id               \r",
       "------------------------------\r",
       "dob=null             \r",
       "sex=&quot;U&quot;              \r",
       "\">\n",
       "<polygon fill=\"#00ff00\" fill-opacity=\"0.188235\" points=\"47,-177 12,-177 12,-142 47,-142 47,-177\" stroke=\"#00ff00\" stroke-opacity=\"0.188235\"/>\n",
       "<text fill=\"darkgreen\" font-family=\"arial\" font-size=\"12.00\" text-anchor=\"start\" text-decoration=\"underline\" x=\"21.5\" y=\"-157.4\">Fly</text>\n",
       "</a>\n",
       "</g>\n",
       "</g>\n",
       "<!-- Session -->\n",
       "<g class=\"node\" id=\"node2\"><title>Session</title>\n",
       "<g id=\"a_node2\"><a xlink:title=\"→ Fly\r",
       "session_date         \r",
       "------------------------------\r",
       "experiment_setup     \r",
       "experimenter         \r",
       "data_path=&quot;&quot;         \r",
       "\">\n",
       "<polygon fill=\"#00ff00\" fill-opacity=\"0.188235\" points=\"59,-106 0,-106 0,-71 59,-71 59,-106\" stroke=\"#00ff00\" stroke-opacity=\"0.188235\"/>\n",
       "<text fill=\"darkgreen\" font-family=\"arial\" font-size=\"12.00\" text-anchor=\"start\" text-decoration=\"underline\" x=\"8\" y=\"-86.4\">Session</text>\n",
       "</a>\n",
       "</g>\n",
       "</g>\n",
       "<!-- Fly&#45;&gt;Session -->\n",
       "<g class=\"edge\" id=\"edge1\"><title>Fly-&gt;Session</title>\n",
       "<path d=\"M29.5,-141.797C29.5,-130.949 29.5,-116.867 29.5,-106.049\" fill=\"none\" stroke=\"#000000\" stroke-opacity=\"0.250980\" stroke-width=\"0.75\"/>\n",
       "</g>\n",
       "<!-- Scan -->\n",
       "<g class=\"node\" id=\"node3\"><title>Scan</title>\n",
       "<g id=\"a_node3\"><a xlink:title=\"→ Session\r",
       "scan_idx             \r",
       "------------------------------\r",
       "depth                \r",
       "wavelength           \r",
       "laser_power          \r",
       "fps                  \r",
       "file_name            \r",
       "\">\n",
       "<polygon fill=\"#00ff00\" fill-opacity=\"0.188235\" points=\"51.5,-35 7.5,-35 7.5,-0 51.5,-0 51.5,-35\" stroke=\"#00ff00\" stroke-opacity=\"0.188235\"/>\n",
       "<text fill=\"darkgreen\" font-family=\"arial\" font-size=\"12.00\" text-anchor=\"start\" text-decoration=\"underline\" x=\"15.5\" y=\"-15.4\">Scan</text>\n",
       "</a>\n",
       "</g>\n",
       "</g>\n",
       "<!-- Session&#45;&gt;Scan -->\n",
       "<g class=\"edge\" id=\"edge2\"><title>Session-&gt;Scan</title>\n",
       "<path d=\"M29.5,-70.797C29.5,-59.9485 29.5,-45.8669 29.5,-35.0492\" fill=\"none\" stroke=\"#000000\" stroke-opacity=\"0.250980\" stroke-width=\"0.75\"/>\n",
       "</g>\n",
       "</g>\n",
       "</svg>"
      ],
      "text/plain": [
       "<datajoint.diagram.Diagram at 0x1dd78d6e470>"
      ]
     },
     "execution_count": 9,
     "metadata": {},
     "output_type": "execute_result"
    }
   ],
   "source": [
    "dj.ERD(schema)"
   ]
  },
  {
   "cell_type": "markdown",
   "metadata": {},
   "source": [
    "The thin solid line connecting `Fly`-`Session`, and `Session`-`Scan` indicates **one-to-many relationship**.  \n",
    "\n",
    "The `____` indicates **additional primary key attribute(s)** apart from the ones inherited from its parents."
   ]
  },
  {
   "cell_type": "markdown",
   "metadata": {},
   "source": [
    "Here we have prepared three tif files of scanning in the `imaging_data`"
   ]
  },
  {
   "cell_type": "code",
   "execution_count": 25,
   "metadata": {},
   "outputs": [
    {
     "name": "stdout",
     "output_type": "stream",
     "text": [
      "example_scan_01.tif\n",
      "example_scan_02.tif\n",
      "example_scan_03.tif\n"
     ]
    }
   ],
   "source": [
    "!ls imaging_data"
   ]
  },
  {
   "cell_type": "code",
   "execution_count": 26,
   "metadata": {},
   "outputs": [
    {
     "ename": "DuplicateError",
     "evalue": "(\"Duplicate entry '0-2020-05-15-1' for key 'PRIMARY'\", 'To ignore duplicate entries in insert, set skip_duplicates=True')",
     "output_type": "error",
     "traceback": [
      "\u001b[1;31m---------------------------------------------------------------------------\u001b[0m",
      "\u001b[1;31mDuplicateError\u001b[0m                            Traceback (most recent call last)",
      "\u001b[1;32m<ipython-input-26-d5a42f67c470>\u001b[0m in \u001b[0;36m<module>\u001b[1;34m\u001b[0m\n\u001b[0;32m      5\u001b[0m     {'fly_id': 0, 'session_date': '2020-05-15', 'scan_idx': 2, \n\u001b[0;32m      6\u001b[0m      \u001b[1;34m'depth'\u001b[0m\u001b[1;33m:\u001b[0m \u001b[1;36m200\u001b[0m\u001b[1;33m,\u001b[0m \u001b[1;34m'wavelength'\u001b[0m\u001b[1;33m:\u001b[0m \u001b[1;36m920\u001b[0m\u001b[1;33m,\u001b[0m \u001b[1;34m'laser_power'\u001b[0m\u001b[1;33m:\u001b[0m \u001b[1;36m24\u001b[0m\u001b[1;33m,\u001b[0m \u001b[1;34m'fps'\u001b[0m\u001b[1;33m:\u001b[0m \u001b[1;36m15\u001b[0m\u001b[1;33m,\u001b[0m\u001b[1;33m\u001b[0m\u001b[1;33m\u001b[0m\u001b[0m\n\u001b[1;32m----> 7\u001b[1;33m      'file_name': 'example_scan_02.tif'},\n\u001b[0m\u001b[0;32m      8\u001b[0m ])\n",
      "\u001b[1;32mC:\\ProgramData\\Anaconda3\\lib\\site-packages\\datajoint\\table.py\u001b[0m in \u001b[0;36minsert\u001b[1;34m(self, rows, replace, skip_duplicates, ignore_extra_fields, allow_direct_insert)\u001b[0m\n\u001b[0;32m    437\u001b[0m                 \u001b[1;32mraise\u001b[0m \u001b[0merr\u001b[0m\u001b[1;33m.\u001b[0m\u001b[0msuggest\u001b[0m\u001b[1;33m(\u001b[0m\u001b[1;34m'To ignore extra fields in insert, set ignore_extra_fields=True'\u001b[0m\u001b[1;33m)\u001b[0m \u001b[1;32mfrom\u001b[0m \u001b[1;32mNone\u001b[0m\u001b[1;33m\u001b[0m\u001b[1;33m\u001b[0m\u001b[0m\n\u001b[0;32m    438\u001b[0m             \u001b[1;32mexcept\u001b[0m \u001b[0mDuplicateError\u001b[0m \u001b[1;32mas\u001b[0m \u001b[0merr\u001b[0m\u001b[1;33m:\u001b[0m\u001b[1;33m\u001b[0m\u001b[1;33m\u001b[0m\u001b[0m\n\u001b[1;32m--> 439\u001b[1;33m                 \u001b[1;32mraise\u001b[0m \u001b[0merr\u001b[0m\u001b[1;33m.\u001b[0m\u001b[0msuggest\u001b[0m\u001b[1;33m(\u001b[0m\u001b[1;34m'To ignore duplicate entries in insert, set skip_duplicates=True'\u001b[0m\u001b[1;33m)\u001b[0m \u001b[1;32mfrom\u001b[0m \u001b[1;32mNone\u001b[0m\u001b[1;33m\u001b[0m\u001b[1;33m\u001b[0m\u001b[0m\n\u001b[0m\u001b[0;32m    440\u001b[0m \u001b[1;33m\u001b[0m\u001b[0m\n\u001b[0;32m    441\u001b[0m     \u001b[1;32mdef\u001b[0m \u001b[0mdelete_quick\u001b[0m\u001b[1;33m(\u001b[0m\u001b[0mself\u001b[0m\u001b[1;33m,\u001b[0m \u001b[0mget_count\u001b[0m\u001b[1;33m=\u001b[0m\u001b[1;32mFalse\u001b[0m\u001b[1;33m)\u001b[0m\u001b[1;33m:\u001b[0m\u001b[1;33m\u001b[0m\u001b[1;33m\u001b[0m\u001b[0m\n",
      "\u001b[1;31mDuplicateError\u001b[0m: (\"Duplicate entry '0-2020-05-15-1' for key 'PRIMARY'\", 'To ignore duplicate entries in insert, set skip_duplicates=True')"
     ]
    }
   ],
   "source": [
    "Scan.insert([\n",
    "    {'fly_id': 0, 'session_date': '2020-05-15', 'scan_idx': 1, \n",
    "     'depth': 150, 'wavelength': 920, 'laser_power': 26, 'fps': 15, \n",
    "     'file_name': 'example_scan_01.tif'},\n",
    "    {'fly_id': 0, 'session_date': '2020-05-15', 'scan_idx': 2, \n",
    "     'depth': 200, 'wavelength': 920, 'laser_power': 24, 'fps': 15, \n",
    "     'file_name': 'example_scan_02.tif'},\n",
    "])"
   ]
  },
  {
   "cell_type": "code",
   "execution_count": 12,
   "metadata": {},
   "outputs": [
    {
     "data": {
      "text/html": [
       "\n",
       "        \n",
       "        <style type=\"text/css\">\n",
       "            .Relation{\n",
       "                border-collapse:collapse;\n",
       "            }\n",
       "            .Relation th{\n",
       "                background: #A0A0A0; color: #ffffff; padding:4px; border:#f0e0e0 1px solid;\n",
       "                font-weight: normal; font-family: monospace; font-size: 100%;\n",
       "            }\n",
       "            .Relation td{\n",
       "                padding:4px; border:#f0e0e0 1px solid; font-size:100%;\n",
       "            }\n",
       "            .Relation tr:nth-child(odd){\n",
       "                background: #ffffff;\n",
       "            }\n",
       "            .Relation tr:nth-child(even){\n",
       "                background: #f3f1ff;\n",
       "            }\n",
       "            /* Tooltip container */\n",
       "            .djtooltip {\n",
       "            }\n",
       "            /* Tooltip text */\n",
       "            .djtooltip .djtooltiptext {\n",
       "                visibility: hidden;\n",
       "                width: 120px;\n",
       "                background-color: black;\n",
       "                color: #fff;\n",
       "                text-align: center;\n",
       "                padding: 5px 0;\n",
       "                border-radius: 6px;\n",
       "                /* Position the tooltip text - see examples below! */\n",
       "                position: absolute;\n",
       "                z-index: 1;\n",
       "            }\n",
       "            #primary {\n",
       "                font-weight: bold;\n",
       "                color: black;\n",
       "            }\n",
       "\n",
       "            #nonprimary {\n",
       "                font-weight: normal;\n",
       "                color: white;\n",
       "            }\n",
       "\n",
       "            /* Show the tooltip text when you mouse over the tooltip container */\n",
       "            .djtooltip:hover .djtooltiptext {\n",
       "                visibility: visible;\n",
       "            }\n",
       "        </style>\n",
       "        \n",
       "        <b></b>\n",
       "            <div style=\"max-height:1000px;max-width:1500px;overflow:auto;\">\n",
       "            <table border=\"1\" class=\"Relation\">\n",
       "                <thead> <tr style=\"text-align: right;\"> <th> <div class=\"djtooltip\">\n",
       "                                <p id=\"primary\">fly_id</p>\n",
       "                                <span class=\"djtooltiptext\">Unique animal ID</span>\n",
       "                            </div></th><th><div class=\"djtooltip\">\n",
       "                                <p id=\"primary\">session_date</p>\n",
       "                                <span class=\"djtooltiptext\">date</span>\n",
       "                            </div></th><th><div class=\"djtooltip\">\n",
       "                                <p id=\"primary\">scan_idx</p>\n",
       "                                <span class=\"djtooltiptext\">scan index</span>\n",
       "                            </div></th><th><div class=\"djtooltip\">\n",
       "                                <p id=\"nonprimary\">depth</p>\n",
       "                                <span class=\"djtooltiptext\">depth of this scan</span>\n",
       "                            </div></th><th><div class=\"djtooltip\">\n",
       "                                <p id=\"nonprimary\">wavelength</p>\n",
       "                                <span class=\"djtooltiptext\">wavelength used</span>\n",
       "                            </div></th><th><div class=\"djtooltip\">\n",
       "                                <p id=\"nonprimary\">laser_power</p>\n",
       "                                <span class=\"djtooltiptext\">power of the laser used</span>\n",
       "                            </div></th><th><div class=\"djtooltip\">\n",
       "                                <p id=\"nonprimary\">fps</p>\n",
       "                                <span class=\"djtooltiptext\">frames per second</span>\n",
       "                            </div></th><th><div class=\"djtooltip\">\n",
       "                                <p id=\"nonprimary\">file_name</p>\n",
       "                                <span class=\"djtooltiptext\">name of the tif file</span>\n",
       "                            </div> </th> </tr> </thead>\n",
       "                <tbody> <tr> <td>0</td>\n",
       "<td>2020-05-15</td>\n",
       "<td>1</td>\n",
       "<td>150.0</td>\n",
       "<td>920.0</td>\n",
       "<td>26.0</td>\n",
       "<td>15.0</td>\n",
       "<td>example_scan_01.tif</td></tr><tr><td>0</td>\n",
       "<td>2020-05-15</td>\n",
       "<td>2</td>\n",
       "<td>200.0</td>\n",
       "<td>920.0</td>\n",
       "<td>24.0</td>\n",
       "<td>15.0</td>\n",
       "<td>example_scan_02.tif</td> </tr> </tbody>\n",
       "            </table>\n",
       "            \n",
       "            <p>Total: 2</p></div>\n",
       "            "
      ],
      "text/plain": [
       "*fly_id    *session_date  *scan_idx    depth     wavelength     laser_power    fps      file_name     \n",
       "+--------+ +------------+ +----------+ +-------+ +------------+ +------------+ +------+ +------------+\n",
       "0          2020-05-15     1            150.0     920.0          26.0           15.0     example_scan_0\n",
       "0          2020-05-15     2            200.0     920.0          24.0           15.0     example_scan_0\n",
       " (Total: 2)"
      ]
     },
     "execution_count": 12,
     "metadata": {},
     "output_type": "execute_result"
    }
   ],
   "source": [
    "Scan()"
   ]
  },
  {
   "cell_type": "markdown",
   "metadata": {},
   "source": [
    "## Looking at the raw data"
   ]
  },
  {
   "cell_type": "markdown",
   "metadata": {},
   "source": [
    "Let's first load one raw data and take a look at the data:"
   ]
  },
  {
   "cell_type": "code",
   "execution_count": 34,
   "metadata": {},
   "outputs": [
    {
     "name": "stdout",
     "output_type": "stream",
     "text": [
      "(100, 128, 128)\n"
     ]
    },
    {
     "data": {
      "text/plain": [
       "array([[[31, 28, 30, ..., 66, 58, 48],\n",
       "        [36, 27, 26, ..., 76, 67, 48],\n",
       "        [36, 27, 24, ..., 79, 69, 47],\n",
       "        ...,\n",
       "        [26, 24, 23, ..., 22, 17, 15],\n",
       "        [26, 27, 26, ..., 21, 18, 16],\n",
       "        [31, 33, 28, ..., 20, 19, 20]],\n",
       "\n",
       "       [[48, 44, 38, ..., 74, 58, 48],\n",
       "        [37, 30, 26, ..., 70, 59, 42],\n",
       "        [31, 23, 21, ..., 67, 58, 41],\n",
       "        ...,\n",
       "        [27, 26, 23, ..., 20, 16, 14],\n",
       "        [25, 26, 25, ..., 19, 16, 15],\n",
       "        [33, 36, 30, ..., 18, 17, 18]],\n",
       "\n",
       "       [[47, 47, 44, ..., 63, 49, 45],\n",
       "        [37, 34, 32, ..., 60, 52, 42],\n",
       "        [29, 24, 22, ..., 61, 55, 42],\n",
       "        ...,\n",
       "        [23, 22, 22, ..., 20, 15, 13],\n",
       "        [22, 22, 22, ..., 19, 16, 15],\n",
       "        [28, 30, 25, ..., 18, 17, 18]],\n",
       "\n",
       "       ...,\n",
       "\n",
       "       [[25, 20, 26, ..., 44, 49, 56],\n",
       "        [27, 22, 24, ..., 42, 46, 49],\n",
       "        [30, 23, 22, ..., 45, 47, 46],\n",
       "        ...,\n",
       "        [41, 40, 34, ..., 18, 24, 32],\n",
       "        [43, 51, 46, ..., 19, 27, 36],\n",
       "        [46, 59, 59, ..., 18, 24, 28]],\n",
       "\n",
       "       [[33, 23, 29, ..., 57, 54, 54],\n",
       "        [32, 25, 26, ..., 59, 56, 52],\n",
       "        [31, 26, 22, ..., 61, 58, 51],\n",
       "        ...,\n",
       "        [34, 34, 28, ..., 16, 21, 29],\n",
       "        [37, 44, 42, ..., 18, 24, 31],\n",
       "        [42, 58, 65, ..., 17, 21, 25]],\n",
       "\n",
       "       [[34, 29, 34, ..., 48, 49, 50],\n",
       "        [38, 30, 28, ..., 50, 51, 50],\n",
       "        [35, 28, 21, ..., 52, 53, 49],\n",
       "        ...,\n",
       "        [32, 29, 26, ..., 15, 18, 25],\n",
       "        [33, 38, 36, ..., 16, 21, 26],\n",
       "        [37, 50, 56, ..., 16, 19, 22]]], dtype=uint16)"
      ]
     },
     "execution_count": 34,
     "metadata": {},
     "output_type": "execute_result"
    }
   ],
   "source": [
    "from skimage import io\n",
    "im = io.imread('imaging_data/example_scan_01.tif')\n",
    "print(im.shape)\n",
    "im"
   ]
  },
  {
   "cell_type": "markdown",
   "metadata": {},
   "source": [
    "This tiff file contains 100 frames. Let's take the average of the images over frames and look at it."
   ]
  },
  {
   "cell_type": "markdown",
   "metadata": {},
   "source": [
    "### 2) compute the avg frame with np.mean of axis=0 and plot the average image"
   ]
  },
  {
   "cell_type": "code",
   "execution_count": 39,
   "metadata": {},
   "outputs": [
    {
     "data": {
      "image/png": "[encoded data removed]",
      "text/plain": [
       "<Figure size 432x288 with 1 Axes>"
      ]
     },
     "metadata": {
      "needs_background": "light"
     },
     "output_type": "display_data"
    }
   ],
   "source": [
    "meanimage = np.mean(im,0)\n",
    "imgplot = plt.imshow(meanimage)"
   ]
  },
  {
   "cell_type": "markdown",
   "metadata": {},
   "source": [
    "## Defining table for average fluorescence across frames"
   ]
  },
  {
   "cell_type": "markdown",
   "metadata": {},
   "source": [
    "Now let's create a table `AverageFrame` to compute and save the average fluorescence. \n",
    "\n",
    "For each scan, we have one average frame. Therefore, the table shares the exact same primary key as the table `Scan`"
   ]
  },
  {
   "cell_type": "code",
   "execution_count": 19,
   "metadata": {},
   "outputs": [],
   "source": [
    "@schema\n",
    "class AverageFrame(dj.Imported):\n",
    "    definition = \"\"\"\n",
    "    -> Scan\n",
    "    ---\n",
    "    average_frame   : longblob     # average fluorescence across frames\n",
    "    \"\"\""
   ]
  },
  {
   "cell_type": "markdown",
   "metadata": {},
   "source": [
    "Let's check the state of our pipeline."
   ]
  },
  {
   "cell_type": "code",
   "execution_count": 20,
   "metadata": {},
   "outputs": [
    {
     "data": {
      "image/svg+xml": [
       "<svg height=\"256pt\" viewBox=\"0.00 0.00 126.75 256.00\" width=\"127pt\" xmlns=\"http://www.w3.org/2000/svg\" xmlns:xlink=\"http://www.w3.org/1999/xlink\">\n",
       "<g class=\"graph\" id=\"graph0\" transform=\"scale(1 1) rotate(0) translate(4 252)\">\n",
       "<title>%3</title>\n",
       "<polygon fill=\"white\" points=\"-4,4 -4,-252 122.75,-252 122.75,4 -4,4\" stroke=\"none\"/>\n",
       "<!-- Fly -->\n",
       "<g class=\"node\" id=\"node1\"><title>Fly</title>\n",
       "<g id=\"a_node1\"><a xlink:title=\"fly_id               \r",
       "------------------------------\r",
       "dob=null             \r",
       "sex=&quot;U&quot;              \r",
       "\">\n",
       "<polygon fill=\"#00ff00\" fill-opacity=\"0.188235\" points=\"76.875,-248 41.875,-248 41.875,-213 76.875,-213 76.875,-248\" stroke=\"#00ff00\" stroke-opacity=\"0.188235\"/>\n",
       "<text fill=\"darkgreen\" font-family=\"arial\" font-size=\"12.00\" text-anchor=\"start\" text-decoration=\"underline\" x=\"51.375\" y=\"-228.4\">Fly</text>\n",
       "</a>\n",
       "</g>\n",
       "</g>\n",
       "<!-- Session -->\n",
       "<g class=\"node\" id=\"node2\"><title>Session</title>\n",
       "<g id=\"a_node2\"><a xlink:title=\"→ Fly\r",
       "session_date         \r",
       "------------------------------\r",
       "experiment_setup     \r",
       "experimenter         \r",
       "data_path=&quot;&quot;         \r",
       "\">\n",
       "<polygon fill=\"#00ff00\" fill-opacity=\"0.188235\" points=\"88.875,-177 29.875,-177 29.875,-142 88.875,-142 88.875,-177\" stroke=\"#00ff00\" stroke-opacity=\"0.188235\"/>\n",
       "<text fill=\"darkgreen\" font-family=\"arial\" font-size=\"12.00\" text-anchor=\"start\" text-decoration=\"underline\" x=\"37.875\" y=\"-157.4\">Session</text>\n",
       "</a>\n",
       "</g>\n",
       "</g>\n",
       "<!-- Fly&#45;&gt;Session -->\n",
       "<g class=\"edge\" id=\"edge1\"><title>Fly-&gt;Session</title>\n",
       "<path d=\"M59.375,-212.797C59.375,-201.949 59.375,-187.867 59.375,-177.049\" fill=\"none\" stroke=\"#000000\" stroke-opacity=\"0.250980\" stroke-width=\"0.75\"/>\n",
       "</g>\n",
       "<!-- Scan -->\n",
       "<g class=\"node\" id=\"node4\"><title>Scan</title>\n",
       "<g id=\"a_node4\"><a xlink:title=\"→ Session\r",
       "scan_idx             \r",
       "------------------------------\r",
       "depth                \r",
       "wavelength           \r",
       "laser_power          \r",
       "fps                  \r",
       "file_name            \r",
       "\">\n",
       "<polygon fill=\"#00ff00\" fill-opacity=\"0.188235\" points=\"81.375,-106 37.375,-106 37.375,-71 81.375,-71 81.375,-106\" stroke=\"#00ff00\" stroke-opacity=\"0.188235\"/>\n",
       "<text fill=\"darkgreen\" font-family=\"arial\" font-size=\"12.00\" text-anchor=\"start\" text-decoration=\"underline\" x=\"45.375\" y=\"-86.4\">Scan</text>\n",
       "</a>\n",
       "</g>\n",
       "</g>\n",
       "<!-- Session&#45;&gt;Scan -->\n",
       "<g class=\"edge\" id=\"edge2\"><title>Session-&gt;Scan</title>\n",
       "<path d=\"M59.375,-141.797C59.375,-130.949 59.375,-116.867 59.375,-106.049\" fill=\"none\" stroke=\"#000000\" stroke-opacity=\"0.250980\" stroke-width=\"0.75\"/>\n",
       "</g>\n",
       "<!-- AverageFrame -->\n",
       "<g class=\"node\" id=\"node3\"><title>AverageFrame</title>\n",
       "<g id=\"a_node3\"><a xlink:title=\"→ Scan\r",
       "------------------------------\r",
       "average_frame        \r",
       "\">\n",
       "<ellipse cx=\"59.375\" cy=\"-17.5\" fill=\"#00007f\" fill-opacity=\"0.250980\" rx=\"59.2503\" ry=\"17.5\" stroke=\"#00007f\" stroke-opacity=\"0.250980\"/>\n",
       "<text fill=\"#00007f\" font-family=\"arial\" font-size=\"12.00\" text-anchor=\"middle\" x=\"59.375\" y=\"-14.4\">AverageFrame</text>\n",
       "</a>\n",
       "</g>\n",
       "</g>\n",
       "<!-- Scan&#45;&gt;AverageFrame -->\n",
       "<g class=\"edge\" id=\"edge3\"><title>Scan-&gt;AverageFrame</title>\n",
       "<path d=\"M59.375,-70.797C59.375,-59.9485 59.375,-45.8669 59.375,-35.0492\" fill=\"none\" stroke=\"#000000\" stroke-opacity=\"0.250980\" stroke-width=\"2\"/>\n",
       "</g>\n",
       "</g>\n",
       "</svg>"
      ],
      "text/plain": [
       "<datajoint.diagram.Diagram at 0x1dd7a49a5f8>"
      ]
     },
     "execution_count": 20,
     "metadata": {},
     "output_type": "execute_result"
    }
   ],
   "source": [
    "dj.ERD(schema)"
   ]
  },
  {
   "cell_type": "markdown",
   "metadata": {},
   "source": [
    "Note that `AverageFrame` and `Scan` share the exact same primary key attributes, so `Scan` and `AverageFrame` have a **one-to-one** relationship, which is indicated with a thick solid line."
   ]
  },
  {
   "cell_type": "markdown",
   "metadata": {},
   "source": [
    "We defined `average_frame` as a `longblob` so that it can store a NumPy array. This NumPy array will be imported and computed from the file corresponding to each scan."
   ]
  },
  {
   "cell_type": "markdown",
   "metadata": {},
   "source": [
    "Note that our `AverageFrame` class inherits from `dj.Imported` instead of `dj.Manual` like others. This is because **this table's content will depend on data imported from an external file**. The `Manual` vs `Imported` are said to specify the **tier of the table**."
   ]
  },
  {
   "cell_type": "markdown",
   "metadata": {},
   "source": [
    "## DataJoint table tiers"
   ]
  },
  {
   "cell_type": "markdown",
   "metadata": {},
   "source": [
    "In DataJoint, the tier of the table indicates **the nature of the data and the data source for the table**. So far we have encountered two table tiers: `Manual` and `Imported`, and we will encounter the two other major tiers in this session. \n",
    "\n",
    "DataJoint tables in `Manual` tier, or simply **Manual tables** indicate that its contents are **manually** entered by either experimenters or a recording system, and its content **do not depend on external data files or other tables**. This is the most basic table type you will encounter, especially as the tables at the beggining of the pipeline. In the ERD, `Manual` tables are depicted by green rectangles.\n",
    "\n",
    "On the other hand, **Imported tables** are understood to pull data (or *import* data) from external data files, and come equipped with functionalities to perform this importing process automatically, as we will see shortly! In the ERD, `Imported` tables are depicted by blue ellipses (see above)."
   ]
  },
  {
   "cell_type": "markdown",
   "metadata": {},
   "source": [
    "## Importing data into the `Imported` table"
   ]
  },
  {
   "cell_type": "markdown",
   "metadata": {},
   "source": [
    "Rather than filling out the content of the table manually using `insert1` or `insert` methods, we are going to make use of the `make` and `populate` logic that comes with `Imported` tables to automatically figure out what needs to be imported and perform the import!"
   ]
  },
  {
   "cell_type": "markdown",
   "metadata": {},
   "source": [
    "## `make` and `populate` methods"
   ]
  },
  {
   "cell_type": "markdown",
   "metadata": {},
   "source": [
    "`Imported` table comes with a special method called `populate`. Let's try calling it."
   ]
  },
  {
   "cell_type": "code",
   "execution_count": 21,
   "metadata": {},
   "outputs": [
    {
     "ename": "NotImplementedError",
     "evalue": "Subclasses of AutoPopulate must implement the method `make`",
     "output_type": "error",
     "traceback": [
      "\u001b[1;31m---------------------------------------------------------------------------\u001b[0m",
      "\u001b[1;31mNotImplementedError\u001b[0m                       Traceback (most recent call last)",
      "\u001b[1;32m<ipython-input-21-f180a9ac3786>\u001b[0m in \u001b[0;36m<module>\u001b[1;34m\u001b[0m\n\u001b[1;32m----> 1\u001b[1;33m \u001b[0mAverageFrame\u001b[0m\u001b[1;33m.\u001b[0m\u001b[0mpopulate\u001b[0m\u001b[1;33m(\u001b[0m\u001b[1;33m)\u001b[0m\u001b[1;33m\u001b[0m\u001b[1;33m\u001b[0m\u001b[0m\n\u001b[0m",
      "\u001b[1;32mC:\\ProgramData\\Anaconda3\\lib\\site-packages\\datajoint\\autopopulate.py\u001b[0m in \u001b[0;36mpopulate\u001b[1;34m(self, suppress_errors, return_exception_objects, reserve_jobs, order, limit, max_calls, display_progress, multiprocess, *restrictions)\u001b[0m\n\u001b[0;32m    197\u001b[0m         \u001b[1;32melse\u001b[0m\u001b[1;33m:\u001b[0m \u001b[1;31m# use single process\u001b[0m\u001b[1;33m\u001b[0m\u001b[1;33m\u001b[0m\u001b[0m\n\u001b[0;32m    198\u001b[0m             \u001b[1;32mfor\u001b[0m \u001b[0mkey\u001b[0m \u001b[1;32min\u001b[0m \u001b[0mtqdm\u001b[0m\u001b[1;33m(\u001b[0m\u001b[0mkeys\u001b[0m\u001b[1;33m)\u001b[0m \u001b[1;32mif\u001b[0m \u001b[0mdisplay_progress\u001b[0m \u001b[1;32melse\u001b[0m \u001b[0mkeys\u001b[0m\u001b[1;33m:\u001b[0m\u001b[1;33m\u001b[0m\u001b[1;33m\u001b[0m\u001b[0m\n\u001b[1;32m--> 199\u001b[1;33m                 \u001b[0merror\u001b[0m \u001b[1;33m=\u001b[0m \u001b[0mself\u001b[0m\u001b[1;33m.\u001b[0m\u001b[0mmake_key\u001b[0m\u001b[1;33m(\u001b[0m\u001b[0mkey\u001b[0m\u001b[1;33m)\u001b[0m\u001b[1;33m\u001b[0m\u001b[1;33m\u001b[0m\u001b[0m\n\u001b[0m\u001b[0;32m    200\u001b[0m                 \u001b[1;32mif\u001b[0m \u001b[0merror\u001b[0m \u001b[1;32mis\u001b[0m \u001b[1;32mnot\u001b[0m \u001b[1;32mNone\u001b[0m\u001b[1;33m:\u001b[0m\u001b[1;33m\u001b[0m\u001b[1;33m\u001b[0m\u001b[0m\n\u001b[0;32m    201\u001b[0m                     \u001b[0merror_list\u001b[0m\u001b[1;33m.\u001b[0m\u001b[0mappend\u001b[0m\u001b[1;33m(\u001b[0m\u001b[0merror\u001b[0m\u001b[1;33m)\u001b[0m\u001b[1;33m\u001b[0m\u001b[1;33m\u001b[0m\u001b[0m\n",
      "\u001b[1;32mC:\\ProgramData\\Anaconda3\\lib\\site-packages\\datajoint\\autopopulate.py\u001b[0m in \u001b[0;36mmake_key\u001b[1;34m(self, key)\u001b[0m\n\u001b[0;32m    229\u001b[0m                 \u001b[0mself\u001b[0m\u001b[1;33m.\u001b[0m\u001b[0m__class__\u001b[0m\u001b[1;33m.\u001b[0m\u001b[0m_allow_insert\u001b[0m \u001b[1;33m=\u001b[0m \u001b[1;32mTrue\u001b[0m\u001b[1;33m\u001b[0m\u001b[1;33m\u001b[0m\u001b[0m\n\u001b[0;32m    230\u001b[0m                 \u001b[1;32mtry\u001b[0m\u001b[1;33m:\u001b[0m\u001b[1;33m\u001b[0m\u001b[1;33m\u001b[0m\u001b[0m\n\u001b[1;32m--> 231\u001b[1;33m                     \u001b[0mmake\u001b[0m\u001b[1;33m(\u001b[0m\u001b[0mdict\u001b[0m\u001b[1;33m(\u001b[0m\u001b[0mkey\u001b[0m\u001b[1;33m)\u001b[0m\u001b[1;33m)\u001b[0m\u001b[1;33m\u001b[0m\u001b[1;33m\u001b[0m\u001b[0m\n\u001b[0m\u001b[0;32m    232\u001b[0m                 \u001b[1;32mexcept\u001b[0m \u001b[1;33m(\u001b[0m\u001b[0mKeyboardInterrupt\u001b[0m\u001b[1;33m,\u001b[0m \u001b[0mSystemExit\u001b[0m\u001b[1;33m,\u001b[0m \u001b[0mException\u001b[0m\u001b[1;33m)\u001b[0m \u001b[1;32mas\u001b[0m \u001b[0merror\u001b[0m\u001b[1;33m:\u001b[0m\u001b[1;33m\u001b[0m\u001b[1;33m\u001b[0m\u001b[0m\n\u001b[0;32m    233\u001b[0m                     \u001b[1;32mtry\u001b[0m\u001b[1;33m:\u001b[0m\u001b[1;33m\u001b[0m\u001b[1;33m\u001b[0m\u001b[0m\n",
      "\u001b[1;32mC:\\ProgramData\\Anaconda3\\lib\\site-packages\\datajoint\\autopopulate.py\u001b[0m in \u001b[0;36mmake\u001b[1;34m(self, key)\u001b[0m\n\u001b[0;32m     74\u001b[0m         \u001b[0mattributes\u001b[0m\u001b[1;33m,\u001b[0m \u001b[1;32mand\u001b[0m \u001b[0minserts\u001b[0m \u001b[0mthe\u001b[0m \u001b[0mnew\u001b[0m \u001b[0mtuples\u001b[0m \u001b[0minto\u001b[0m \u001b[0mself\u001b[0m\u001b[1;33m.\u001b[0m\u001b[1;33m\u001b[0m\u001b[1;33m\u001b[0m\u001b[0m\n\u001b[0;32m     75\u001b[0m         \"\"\"\n\u001b[1;32m---> 76\u001b[1;33m         \u001b[1;32mraise\u001b[0m \u001b[0mNotImplementedError\u001b[0m\u001b[1;33m(\u001b[0m\u001b[1;34m'Subclasses of AutoPopulate must implement the method `make`'\u001b[0m\u001b[1;33m)\u001b[0m\u001b[1;33m\u001b[0m\u001b[1;33m\u001b[0m\u001b[0m\n\u001b[0m\u001b[0;32m     77\u001b[0m \u001b[1;33m\u001b[0m\u001b[0m\n\u001b[0;32m     78\u001b[0m     \u001b[1;33m@\u001b[0m\u001b[0mproperty\u001b[0m\u001b[1;33m\u001b[0m\u001b[1;33m\u001b[0m\u001b[0m\n",
      "\u001b[1;31mNotImplementedError\u001b[0m: Subclasses of AutoPopulate must implement the method `make`"
     ]
    }
   ],
   "source": [
    "AverageFrame.populate()"
   ]
  },
  {
   "cell_type": "markdown",
   "metadata": {},
   "source": [
    "Notice that `populate` call complained that a method called `make` is not implemented. Let me show a simple `make` method that will help elucidate what this is all about."
   ]
  },
  {
   "cell_type": "code",
   "execution_count": 22,
   "metadata": {},
   "outputs": [],
   "source": [
    "@schema\n",
    "class AverageFrame(dj.Imported):\n",
    "    definition = \"\"\"\n",
    "    -> Scan\n",
    "    ---\n",
    "    average_frame   : longblob     # average fluorescence across frames\n",
    "    \"\"\"\n",
    "    def make(self, key):  # key is the primary key of one of the entries in the table `Scan`\n",
    "        print('key is', key)"
   ]
  },
  {
   "cell_type": "markdown",
   "metadata": {},
   "source": [
    "Now, let's call `populate` again!"
   ]
  },
  {
   "cell_type": "code",
   "execution_count": 23,
   "metadata": {},
   "outputs": [
    {
     "name": "stdout",
     "output_type": "stream",
     "text": [
      "key is {'fly_id': 0, 'session_date': datetime.date(2020, 5, 15), 'scan_idx': 1}\n",
      "key is {'fly_id': 0, 'session_date': datetime.date(2020, 5, 15), 'scan_idx': 2}\n"
     ]
    }
   ],
   "source": [
    "AverageFrame.populate()"
   ]
  },
  {
   "cell_type": "markdown",
   "metadata": {},
   "source": [
    "When you call `populate` on an `Imported` table, this triggers DataJoint to look up all tables that the `Imported` table depends on.\n",
    "\n",
    "For **every unique combination of entries in the depended or \"parent\" tables**, DataJoint calls `make` function, passing in the primary key of the parent(s)."
   ]
  },
  {
   "cell_type": "markdown",
   "metadata": {},
   "source": [
    "Because `AverageFrame` depends on `Scan`, `AverageFrame`'s `make` method was called for each entry of `Scan`"
   ]
  },
  {
   "cell_type": "code",
   "execution_count": 24,
   "metadata": {},
   "outputs": [
    {
     "data": {
      "text/html": [
       "\n",
       "        \n",
       "        <style type=\"text/css\">\n",
       "            .Relation{\n",
       "                border-collapse:collapse;\n",
       "            }\n",
       "            .Relation th{\n",
       "                background: #A0A0A0; color: #ffffff; padding:4px; border:#f0e0e0 1px solid;\n",
       "                font-weight: normal; font-family: monospace; font-size: 100%;\n",
       "            }\n",
       "            .Relation td{\n",
       "                padding:4px; border:#f0e0e0 1px solid; font-size:100%;\n",
       "            }\n",
       "            .Relation tr:nth-child(odd){\n",
       "                background: #ffffff;\n",
       "            }\n",
       "            .Relation tr:nth-child(even){\n",
       "                background: #f3f1ff;\n",
       "            }\n",
       "            /* Tooltip container */\n",
       "            .djtooltip {\n",
       "            }\n",
       "            /* Tooltip text */\n",
       "            .djtooltip .djtooltiptext {\n",
       "                visibility: hidden;\n",
       "                width: 120px;\n",
       "                background-color: black;\n",
       "                color: #fff;\n",
       "                text-align: center;\n",
       "                padding: 5px 0;\n",
       "                border-radius: 6px;\n",
       "                /* Position the tooltip text - see examples below! */\n",
       "                position: absolute;\n",
       "                z-index: 1;\n",
       "            }\n",
       "            #primary {\n",
       "                font-weight: bold;\n",
       "                color: black;\n",
       "            }\n",
       "\n",
       "            #nonprimary {\n",
       "                font-weight: normal;\n",
       "                color: white;\n",
       "            }\n",
       "\n",
       "            /* Show the tooltip text when you mouse over the tooltip container */\n",
       "            .djtooltip:hover .djtooltiptext {\n",
       "                visibility: visible;\n",
       "            }\n",
       "        </style>\n",
       "        \n",
       "        <b></b>\n",
       "            <div style=\"max-height:1000px;max-width:1500px;overflow:auto;\">\n",
       "            <table border=\"1\" class=\"Relation\">\n",
       "                <thead> <tr style=\"text-align: right;\"> <th> <div class=\"djtooltip\">\n",
       "                                <p id=\"primary\">fly_id</p>\n",
       "                                <span class=\"djtooltiptext\">Unique animal ID</span>\n",
       "                            </div></th><th><div class=\"djtooltip\">\n",
       "                                <p id=\"primary\">session_date</p>\n",
       "                                <span class=\"djtooltiptext\">date</span>\n",
       "                            </div></th><th><div class=\"djtooltip\">\n",
       "                                <p id=\"primary\">scan_idx</p>\n",
       "                                <span class=\"djtooltiptext\">scan index</span>\n",
       "                            </div></th><th><div class=\"djtooltip\">\n",
       "                                <p id=\"nonprimary\">depth</p>\n",
       "                                <span class=\"djtooltiptext\">depth of this scan</span>\n",
       "                            </div></th><th><div class=\"djtooltip\">\n",
       "                                <p id=\"nonprimary\">wavelength</p>\n",
       "                                <span class=\"djtooltiptext\">wavelength used</span>\n",
       "                            </div></th><th><div class=\"djtooltip\">\n",
       "                                <p id=\"nonprimary\">laser_power</p>\n",
       "                                <span class=\"djtooltiptext\">power of the laser used</span>\n",
       "                            </div></th><th><div class=\"djtooltip\">\n",
       "                                <p id=\"nonprimary\">fps</p>\n",
       "                                <span class=\"djtooltiptext\">frames per second</span>\n",
       "                            </div></th><th><div class=\"djtooltip\">\n",
       "                                <p id=\"nonprimary\">file_name</p>\n",
       "                                <span class=\"djtooltiptext\">name of the tif file</span>\n",
       "                            </div> </th> </tr> </thead>\n",
       "                <tbody> <tr> <td>0</td>\n",
       "<td>2020-05-15</td>\n",
       "<td>1</td>\n",
       "<td>150.0</td>\n",
       "<td>920.0</td>\n",
       "<td>26.0</td>\n",
       "<td>15.0</td>\n",
       "<td>example_scan_01.tif</td></tr><tr><td>0</td>\n",
       "<td>2020-05-15</td>\n",
       "<td>2</td>\n",
       "<td>200.0</td>\n",
       "<td>920.0</td>\n",
       "<td>24.0</td>\n",
       "<td>15.0</td>\n",
       "<td>example_scan_02.tif</td> </tr> </tbody>\n",
       "            </table>\n",
       "            \n",
       "            <p>Total: 2</p></div>\n",
       "            "
      ],
      "text/plain": [
       "*fly_id    *session_date  *scan_idx    depth     wavelength     laser_power    fps      file_name     \n",
       "+--------+ +------------+ +----------+ +-------+ +------------+ +------------+ +------+ +------------+\n",
       "0          2020-05-15     1            150.0     920.0          26.0           15.0     example_scan_0\n",
       "0          2020-05-15     2            200.0     920.0          24.0           15.0     example_scan_0\n",
       " (Total: 2)"
      ]
     },
     "execution_count": 24,
     "metadata": {},
     "output_type": "execute_result"
    }
   ],
   "source": [
    "Scan()"
   ]
  },
  {
   "cell_type": "markdown",
   "metadata": {},
   "source": [
    "Note that `make` only receives the *primary key attributes* of `Scan` (`mouse_id`, `session_date`, `scan_idx`) but not the other attributes."
   ]
  },
  {
   "cell_type": "markdown",
   "metadata": {},
   "source": [
    "## Implementing `make`"
   ]
  },
  {
   "cell_type": "markdown",
   "metadata": {},
   "source": [
    "Now we have a better understanding of `make`, let's implement `make` to perform the importing of data from file."
   ]
  },
  {
   "cell_type": "code",
   "execution_count": 58,
   "metadata": {},
   "outputs": [
    {
     "data": {
      "text/html": [
       "\n",
       "        \n",
       "        <style type=\"text/css\">\n",
       "            .Relation{\n",
       "                border-collapse:collapse;\n",
       "            }\n",
       "            .Relation th{\n",
       "                background: #A0A0A0; color: #ffffff; padding:4px; border:#f0e0e0 1px solid;\n",
       "                font-weight: normal; font-family: monospace; font-size: 100%;\n",
       "            }\n",
       "            .Relation td{\n",
       "                padding:4px; border:#f0e0e0 1px solid; font-size:100%;\n",
       "            }\n",
       "            .Relation tr:nth-child(odd){\n",
       "                background: #ffffff;\n",
       "            }\n",
       "            .Relation tr:nth-child(even){\n",
       "                background: #f3f1ff;\n",
       "            }\n",
       "            /* Tooltip container */\n",
       "            .djtooltip {\n",
       "            }\n",
       "            /* Tooltip text */\n",
       "            .djtooltip .djtooltiptext {\n",
       "                visibility: hidden;\n",
       "                width: 120px;\n",
       "                background-color: black;\n",
       "                color: #fff;\n",
       "                text-align: center;\n",
       "                padding: 5px 0;\n",
       "                border-radius: 6px;\n",
       "                /* Position the tooltip text - see examples below! */\n",
       "                position: absolute;\n",
       "                z-index: 1;\n",
       "            }\n",
       "            #primary {\n",
       "                font-weight: bold;\n",
       "                color: black;\n",
       "            }\n",
       "\n",
       "            #nonprimary {\n",
       "                font-weight: normal;\n",
       "                color: white;\n",
       "            }\n",
       "\n",
       "            /* Show the tooltip text when you mouse over the tooltip container */\n",
       "            .djtooltip:hover .djtooltiptext {\n",
       "                visibility: visible;\n",
       "            }\n",
       "        </style>\n",
       "        \n",
       "        <b></b>\n",
       "            <div style=\"max-height:1000px;max-width:1500px;overflow:auto;\">\n",
       "            <table border=\"1\" class=\"Relation\">\n",
       "                <thead> <tr style=\"text-align: right;\"> <th> <div class=\"djtooltip\">\n",
       "                                <p id=\"primary\">fly_id</p>\n",
       "                                <span class=\"djtooltiptext\">Unique animal ID</span>\n",
       "                            </div></th><th><div class=\"djtooltip\">\n",
       "                                <p id=\"primary\">session_date</p>\n",
       "                                <span class=\"djtooltiptext\">date</span>\n",
       "                            </div></th><th><div class=\"djtooltip\">\n",
       "                                <p id=\"primary\">scan_idx</p>\n",
       "                                <span class=\"djtooltiptext\">scan index</span>\n",
       "                            </div></th><th><div class=\"djtooltip\">\n",
       "                                <p id=\"nonprimary\">depth</p>\n",
       "                                <span class=\"djtooltiptext\">depth of this scan</span>\n",
       "                            </div></th><th><div class=\"djtooltip\">\n",
       "                                <p id=\"nonprimary\">wavelength</p>\n",
       "                                <span class=\"djtooltiptext\">wavelength used</span>\n",
       "                            </div></th><th><div class=\"djtooltip\">\n",
       "                                <p id=\"nonprimary\">laser_power</p>\n",
       "                                <span class=\"djtooltiptext\">power of the laser used</span>\n",
       "                            </div></th><th><div class=\"djtooltip\">\n",
       "                                <p id=\"nonprimary\">fps</p>\n",
       "                                <span class=\"djtooltiptext\">frames per second</span>\n",
       "                            </div></th><th><div class=\"djtooltip\">\n",
       "                                <p id=\"nonprimary\">file_name</p>\n",
       "                                <span class=\"djtooltiptext\">name of the tif file</span>\n",
       "                            </div> </th> </tr> </thead>\n",
       "                <tbody> <tr> <td>0</td>\n",
       "<td>2020-05-15</td>\n",
       "<td>1</td>\n",
       "<td>150.0</td>\n",
       "<td>920.0</td>\n",
       "<td>26.0</td>\n",
       "<td>15.0</td>\n",
       "<td>example_scan_01.tif</td></tr><tr><td>0</td>\n",
       "<td>2020-05-15</td>\n",
       "<td>2</td>\n",
       "<td>200.0</td>\n",
       "<td>920.0</td>\n",
       "<td>24.0</td>\n",
       "<td>15.0</td>\n",
       "<td>example_scan_02.tif</td> </tr> </tbody>\n",
       "            </table>\n",
       "            \n",
       "            <p>Total: 2</p></div>\n",
       "            "
      ],
      "text/plain": [
       "*fly_id    *session_date  *scan_idx    depth     wavelength     laser_power    fps      file_name     \n",
       "+--------+ +------------+ +----------+ +-------+ +------------+ +------------+ +------+ +------------+\n",
       "0          2020-05-15     1            150.0     920.0          26.0           15.0     example_scan_0\n",
       "0          2020-05-15     2            200.0     920.0          24.0           15.0     example_scan_0\n",
       " (Total: 2)"
      ]
     },
     "execution_count": 58,
     "metadata": {},
     "output_type": "execute_result"
    }
   ],
   "source": [
    "Scan()"
   ]
  },
  {
   "cell_type": "code",
   "execution_count": 83,
   "metadata": {},
   "outputs": [
    {
     "data": {
      "text/html": [
       "\n",
       "        \n",
       "        <style type=\"text/css\">\n",
       "            .Relation{\n",
       "                border-collapse:collapse;\n",
       "            }\n",
       "            .Relation th{\n",
       "                background: #A0A0A0; color: #ffffff; padding:4px; border:#f0e0e0 1px solid;\n",
       "                font-weight: normal; font-family: monospace; font-size: 100%;\n",
       "            }\n",
       "            .Relation td{\n",
       "                padding:4px; border:#f0e0e0 1px solid; font-size:100%;\n",
       "            }\n",
       "            .Relation tr:nth-child(odd){\n",
       "                background: #ffffff;\n",
       "            }\n",
       "            .Relation tr:nth-child(even){\n",
       "                background: #f3f1ff;\n",
       "            }\n",
       "            /* Tooltip container */\n",
       "            .djtooltip {\n",
       "            }\n",
       "            /* Tooltip text */\n",
       "            .djtooltip .djtooltiptext {\n",
       "                visibility: hidden;\n",
       "                width: 120px;\n",
       "                background-color: black;\n",
       "                color: #fff;\n",
       "                text-align: center;\n",
       "                padding: 5px 0;\n",
       "                border-radius: 6px;\n",
       "                /* Position the tooltip text - see examples below! */\n",
       "                position: absolute;\n",
       "                z-index: 1;\n",
       "            }\n",
       "            #primary {\n",
       "                font-weight: bold;\n",
       "                color: black;\n",
       "            }\n",
       "\n",
       "            #nonprimary {\n",
       "                font-weight: normal;\n",
       "                color: white;\n",
       "            }\n",
       "\n",
       "            /* Show the tooltip text when you mouse over the tooltip container */\n",
       "            .djtooltip:hover .djtooltiptext {\n",
       "                visibility: visible;\n",
       "            }\n",
       "        </style>\n",
       "        \n",
       "        <b>Experiment session</b>\n",
       "            <div style=\"max-height:1000px;max-width:1500px;overflow:auto;\">\n",
       "            <table border=\"1\" class=\"Relation\">\n",
       "                <thead> <tr style=\"text-align: right;\"> <th> <div class=\"djtooltip\">\n",
       "                                <p id=\"primary\">fly_id</p>\n",
       "                                <span class=\"djtooltiptext\">Unique animal ID</span>\n",
       "                            </div></th><th><div class=\"djtooltip\">\n",
       "                                <p id=\"primary\">session_date</p>\n",
       "                                <span class=\"djtooltiptext\">date</span>\n",
       "                            </div></th><th><div class=\"djtooltip\">\n",
       "                                <p id=\"nonprimary\">experiment_setup</p>\n",
       "                                <span class=\"djtooltiptext\">experiment setup ID</span>\n",
       "                            </div></th><th><div class=\"djtooltip\">\n",
       "                                <p id=\"nonprimary\">experimenter</p>\n",
       "                                <span class=\"djtooltiptext\">experimenter name</span>\n",
       "                            </div></th><th><div class=\"djtooltip\">\n",
       "                                <p id=\"nonprimary\">data_path</p>\n",
       "                                <span class=\"djtooltiptext\"></span>\n",
       "                            </div> </th> </tr> </thead>\n",
       "                <tbody> <tr> <td>0</td>\n",
       "<td>2020-05-15</td>\n",
       "<td>0</td>\n",
       "<td>gucky92</td>\n",
       "<td>imaging_data</td></tr><tr><td>0</td>\n",
       "<td>2020-05-19</td>\n",
       "<td>0</td>\n",
       "<td>gucky92</td>\n",
       "<td>imaging_data</td></tr><tr><td>5</td>\n",
       "<td>2020-01-05</td>\n",
       "<td>1</td>\n",
       "<td>jko14</td>\n",
       "<td>imaging_data</td></tr><tr><td>100</td>\n",
       "<td>2020-05-25</td>\n",
       "<td>100</td>\n",
       "<td>jportes</td>\n",
       "<td>imaging_data</td> </tr> </tbody>\n",
       "            </table>\n",
       "            \n",
       "            <p>Total: 4</p></div>\n",
       "            "
      ],
      "text/plain": [
       "*fly_id    *session_date  experiment_set experimenter   data_path     \n",
       "+--------+ +------------+ +------------+ +------------+ +------------+\n",
       "0          2020-05-15     0              gucky92        imaging_data  \n",
       "0          2020-05-19     0              gucky92        imaging_data  \n",
       "5          2020-01-05     1              jko14          imaging_data  \n",
       "100        2020-05-25     100            jportes        imaging_data  \n",
       " (Total: 4)"
      ]
     },
     "execution_count": 83,
     "metadata": {},
     "output_type": "execute_result"
    }
   ],
   "source": [
    "Session()"
   ]
  },
  {
   "cell_type": "code",
   "execution_count": 86,
   "metadata": {},
   "outputs": [
    {
     "data": {
      "text/plain": [
       "array(['imaging_data'], dtype=object)"
      ]
     },
     "execution_count": 86,
     "metadata": {},
     "output_type": "execute_result"
    }
   ],
   "source": [
    "fly0sesh = (Session & {'session_date':'2020-05-15'}).fetch('data_path')\n",
    "fly0sesh"
   ]
  },
  {
   "cell_type": "markdown",
   "metadata": {},
   "source": [
    "### 3) Implement a `make` function for `AverageFrame` to compute the average frame and insert it into the table. "
   ]
  },
  {
   "cell_type": "code",
   "execution_count": 64,
   "metadata": {},
   "outputs": [
    {
     "data": {
      "text/plain": [
       "[{'fly_id': 0, 'session_date': datetime.date(2020, 5, 15), 'scan_idx': 1},\n",
       " {'fly_id': 0, 'session_date': datetime.date(2020, 5, 15), 'scan_idx': 2}]"
      ]
     },
     "execution_count": 64,
     "metadata": {},
     "output_type": "execute_result"
    }
   ],
   "source": [
    "scandict = Scan.fetch(\"KEY\")\n",
    "scandict"
   ]
  },
  {
   "cell_type": "code",
   "execution_count": 112,
   "metadata": {},
   "outputs": [],
   "source": [
    "# Modify code here\n",
    "\n",
    "import os\n",
    "# import numpy as np\n",
    "@schema\n",
    "class AverageFrame(dj.Imported):\n",
    "    definition = \"\"\"\n",
    "    -> Scan\n",
    "    ---\n",
    "    average_frame   : longblob     # average fluorescence across frames\n",
    "    \"\"\"\n",
    "    def make(self, key):  # key is the primary key of one of the entries in the table `Scan`\n",
    "        filename = (Scan & key).fetch1()['file_name']\n",
    "        sessiondate = (Scan & key).fetch1()['session_date']\n",
    "        filepath = (Session & {'session_date':sessiondate}).fetch1()['data_path']\n",
    "        path = os.path.join(filepath,filename)\n",
    "        im = io.imread(path)\n",
    "        im.shape\n",
    "#         average_frame = np.mean(im,0)\n",
    "        averageframe = np.mean(im,0)\n",
    "        key.update({'average_frame': averageframe})\n",
    "        self.insert1(key)"
   ]
  },
  {
   "cell_type": "code",
   "execution_count": 105,
   "metadata": {},
   "outputs": [],
   "source": [
    "# import os\n",
    "# key = {'fly_id': 0, 'session_date': '2020-05-15', 'scan_idx': 1}\n",
    "# filename = (Scan & key).fetch1()['file_name']\n",
    "# sessiondate = (Scan & key).fetch1()['session_date']\n",
    "# filepath = (Session & {'session_date':sessiondate}).fetch1()['data_path']\n",
    "# path = os.path.join(filepath,filename)\n",
    "# im = io.imread(path)\n",
    "# im.shape\n",
    "# meanimage = np.mean(im,0)"
   ]
  },
  {
   "cell_type": "code",
   "execution_count": 113,
   "metadata": {},
   "outputs": [
    {
     "data": {
      "text/html": [
       "\n",
       "        \n",
       "        <style type=\"text/css\">\n",
       "            .Relation{\n",
       "                border-collapse:collapse;\n",
       "            }\n",
       "            .Relation th{\n",
       "                background: #A0A0A0; color: #ffffff; padding:4px; border:#f0e0e0 1px solid;\n",
       "                font-weight: normal; font-family: monospace; font-size: 100%;\n",
       "            }\n",
       "            .Relation td{\n",
       "                padding:4px; border:#f0e0e0 1px solid; font-size:100%;\n",
       "            }\n",
       "            .Relation tr:nth-child(odd){\n",
       "                background: #ffffff;\n",
       "            }\n",
       "            .Relation tr:nth-child(even){\n",
       "                background: #f3f1ff;\n",
       "            }\n",
       "            /* Tooltip container */\n",
       "            .djtooltip {\n",
       "            }\n",
       "            /* Tooltip text */\n",
       "            .djtooltip .djtooltiptext {\n",
       "                visibility: hidden;\n",
       "                width: 120px;\n",
       "                background-color: black;\n",
       "                color: #fff;\n",
       "                text-align: center;\n",
       "                padding: 5px 0;\n",
       "                border-radius: 6px;\n",
       "                /* Position the tooltip text - see examples below! */\n",
       "                position: absolute;\n",
       "                z-index: 1;\n",
       "            }\n",
       "            #primary {\n",
       "                font-weight: bold;\n",
       "                color: black;\n",
       "            }\n",
       "\n",
       "            #nonprimary {\n",
       "                font-weight: normal;\n",
       "                color: white;\n",
       "            }\n",
       "\n",
       "            /* Show the tooltip text when you mouse over the tooltip container */\n",
       "            .djtooltip:hover .djtooltiptext {\n",
       "                visibility: visible;\n",
       "            }\n",
       "        </style>\n",
       "        \n",
       "        <b></b>\n",
       "            <div style=\"max-height:1000px;max-width:1500px;overflow:auto;\">\n",
       "            <table border=\"1\" class=\"Relation\">\n",
       "                <thead> <tr style=\"text-align: right;\"> <th> <div class=\"djtooltip\">\n",
       "                                <p id=\"primary\">fly_id</p>\n",
       "                                <span class=\"djtooltiptext\">Unique animal ID</span>\n",
       "                            </div></th><th><div class=\"djtooltip\">\n",
       "                                <p id=\"primary\">session_date</p>\n",
       "                                <span class=\"djtooltiptext\">date</span>\n",
       "                            </div></th><th><div class=\"djtooltip\">\n",
       "                                <p id=\"primary\">scan_idx</p>\n",
       "                                <span class=\"djtooltiptext\">scan index</span>\n",
       "                            </div></th><th><div class=\"djtooltip\">\n",
       "                                <p id=\"nonprimary\">average_frame</p>\n",
       "                                <span class=\"djtooltiptext\">average fluorescence across frames</span>\n",
       "                            </div> </th> </tr> </thead>\n",
       "                <tbody> <tr>  </tr> </tbody>\n",
       "            </table>\n",
       "            \n",
       "            <p>Total: 0</p></div>\n",
       "            "
      ],
      "text/plain": [
       "*fly_id    *session_date  *scan_idx    average_fr\n",
       "+--------+ +------------+ +----------+ +--------+\n",
       "\n",
       " (Total: 0)"
      ]
     },
     "execution_count": 113,
     "metadata": {},
     "output_type": "execute_result"
    }
   ],
   "source": [
    "AverageFrame()"
   ]
  },
  {
   "cell_type": "markdown",
   "metadata": {},
   "source": [
    "Hints: \n",
    "* Fetch the necessary data from `Session` and `Scan` using the `key` to restrict and the `fetch1` method.\n",
    "* Once you compute the average frame add the `average_frame` into the `key` dictionary, and then insert it into the table (i.e. `self`) using the `insert1` method."
   ]
  },
  {
   "cell_type": "markdown",
   "metadata": {},
   "source": [
    "Finally, let's go ahead and call `populate` to actually populate the `AverageFrame` table, filling it with data loaded and computed from data files!"
   ]
  },
  {
   "cell_type": "code",
   "execution_count": 114,
   "metadata": {},
   "outputs": [],
   "source": [
    "AverageFrame.populate()"
   ]
  },
  {
   "cell_type": "markdown",
   "metadata": {},
   "source": [
    "Let's take a look at the table now."
   ]
  },
  {
   "cell_type": "code",
   "execution_count": 115,
   "metadata": {},
   "outputs": [
    {
     "data": {
      "text/html": [
       "\n",
       "        \n",
       "        <style type=\"text/css\">\n",
       "            .Relation{\n",
       "                border-collapse:collapse;\n",
       "            }\n",
       "            .Relation th{\n",
       "                background: #A0A0A0; color: #ffffff; padding:4px; border:#f0e0e0 1px solid;\n",
       "                font-weight: normal; font-family: monospace; font-size: 100%;\n",
       "            }\n",
       "            .Relation td{\n",
       "                padding:4px; border:#f0e0e0 1px solid; font-size:100%;\n",
       "            }\n",
       "            .Relation tr:nth-child(odd){\n",
       "                background: #ffffff;\n",
       "            }\n",
       "            .Relation tr:nth-child(even){\n",
       "                background: #f3f1ff;\n",
       "            }\n",
       "            /* Tooltip container */\n",
       "            .djtooltip {\n",
       "            }\n",
       "            /* Tooltip text */\n",
       "            .djtooltip .djtooltiptext {\n",
       "                visibility: hidden;\n",
       "                width: 120px;\n",
       "                background-color: black;\n",
       "                color: #fff;\n",
       "                text-align: center;\n",
       "                padding: 5px 0;\n",
       "                border-radius: 6px;\n",
       "                /* Position the tooltip text - see examples below! */\n",
       "                position: absolute;\n",
       "                z-index: 1;\n",
       "            }\n",
       "            #primary {\n",
       "                font-weight: bold;\n",
       "                color: black;\n",
       "            }\n",
       "\n",
       "            #nonprimary {\n",
       "                font-weight: normal;\n",
       "                color: white;\n",
       "            }\n",
       "\n",
       "            /* Show the tooltip text when you mouse over the tooltip container */\n",
       "            .djtooltip:hover .djtooltiptext {\n",
       "                visibility: visible;\n",
       "            }\n",
       "        </style>\n",
       "        \n",
       "        <b></b>\n",
       "            <div style=\"max-height:1000px;max-width:1500px;overflow:auto;\">\n",
       "            <table border=\"1\" class=\"Relation\">\n",
       "                <thead> <tr style=\"text-align: right;\"> <th> <div class=\"djtooltip\">\n",
       "                                <p id=\"primary\">fly_id</p>\n",
       "                                <span class=\"djtooltiptext\">Unique animal ID</span>\n",
       "                            </div></th><th><div class=\"djtooltip\">\n",
       "                                <p id=\"primary\">session_date</p>\n",
       "                                <span class=\"djtooltiptext\">date</span>\n",
       "                            </div></th><th><div class=\"djtooltip\">\n",
       "                                <p id=\"primary\">scan_idx</p>\n",
       "                                <span class=\"djtooltiptext\">scan index</span>\n",
       "                            </div></th><th><div class=\"djtooltip\">\n",
       "                                <p id=\"nonprimary\">average_frame</p>\n",
       "                                <span class=\"djtooltiptext\">average fluorescence across frames</span>\n",
       "                            </div> </th> </tr> </thead>\n",
       "                <tbody> <tr> <td>0</td>\n",
       "<td>2020-05-15</td>\n",
       "<td>1</td>\n",
       "<td>=BLOB=</td></tr><tr><td>0</td>\n",
       "<td>2020-05-15</td>\n",
       "<td>2</td>\n",
       "<td>=BLOB=</td> </tr> </tbody>\n",
       "            </table>\n",
       "            \n",
       "            <p>Total: 2</p></div>\n",
       "            "
      ],
      "text/plain": [
       "*fly_id    *session_date  *scan_idx    average_fr\n",
       "+--------+ +------------+ +----------+ +--------+\n",
       "0          2020-05-15     1            =BLOB=    \n",
       "0          2020-05-15     2            =BLOB=    \n",
       " (Total: 2)"
      ]
     },
     "execution_count": 115,
     "metadata": {},
     "output_type": "execute_result"
    }
   ],
   "source": [
    "AverageFrame()"
   ]
  },
  {
   "cell_type": "markdown",
   "metadata": {},
   "source": [
    "What happens if we call `AverageFrame.populate` again?"
   ]
  },
  {
   "cell_type": "code",
   "execution_count": 116,
   "metadata": {},
   "outputs": [],
   "source": [
    "AverageFrame.populate()"
   ]
  },
  {
   "cell_type": "markdown",
   "metadata": {},
   "source": [
    "That's right - nothing! This makes sense, because we have computed `AverageFrame` for all entries in `Scan` and nothing is left to be computed."
   ]
  },
  {
   "cell_type": "markdown",
   "metadata": {},
   "source": [
    "Now what happens if we insert a new entry into `Scan`?"
   ]
  },
  {
   "cell_type": "code",
   "execution_count": 117,
   "metadata": {},
   "outputs": [],
   "source": [
    "Scan.insert1({\n",
    "    'fly_id': 100,\n",
    "    'session_date': '2020-05-25',\n",
    "    'scan_idx': 1,\n",
    "    'depth': 150,\n",
    "    'wavelength': 920,\n",
    "    'laser_power': 25,\n",
    "    'fps': 15,\n",
    "    'file_name': 'example_scan_03.tif'\n",
    "})"
   ]
  },
  {
   "cell_type": "markdown",
   "metadata": {},
   "source": [
    "We can find all `Scan` without corresponding `AverageFrame` entry with the **negative restriction operator** `-`"
   ]
  },
  {
   "cell_type": "code",
   "execution_count": 118,
   "metadata": {},
   "outputs": [
    {
     "data": {
      "text/html": [
       "\n",
       "        \n",
       "        <style type=\"text/css\">\n",
       "            .Relation{\n",
       "                border-collapse:collapse;\n",
       "            }\n",
       "            .Relation th{\n",
       "                background: #A0A0A0; color: #ffffff; padding:4px; border:#f0e0e0 1px solid;\n",
       "                font-weight: normal; font-family: monospace; font-size: 100%;\n",
       "            }\n",
       "            .Relation td{\n",
       "                padding:4px; border:#f0e0e0 1px solid; font-size:100%;\n",
       "            }\n",
       "            .Relation tr:nth-child(odd){\n",
       "                background: #ffffff;\n",
       "            }\n",
       "            .Relation tr:nth-child(even){\n",
       "                background: #f3f1ff;\n",
       "            }\n",
       "            /* Tooltip container */\n",
       "            .djtooltip {\n",
       "            }\n",
       "            /* Tooltip text */\n",
       "            .djtooltip .djtooltiptext {\n",
       "                visibility: hidden;\n",
       "                width: 120px;\n",
       "                background-color: black;\n",
       "                color: #fff;\n",
       "                text-align: center;\n",
       "                padding: 5px 0;\n",
       "                border-radius: 6px;\n",
       "                /* Position the tooltip text - see examples below! */\n",
       "                position: absolute;\n",
       "                z-index: 1;\n",
       "            }\n",
       "            #primary {\n",
       "                font-weight: bold;\n",
       "                color: black;\n",
       "            }\n",
       "\n",
       "            #nonprimary {\n",
       "                font-weight: normal;\n",
       "                color: white;\n",
       "            }\n",
       "\n",
       "            /* Show the tooltip text when you mouse over the tooltip container */\n",
       "            .djtooltip:hover .djtooltiptext {\n",
       "                visibility: visible;\n",
       "            }\n",
       "        </style>\n",
       "        \n",
       "        <b></b>\n",
       "            <div style=\"max-height:1000px;max-width:1500px;overflow:auto;\">\n",
       "            <table border=\"1\" class=\"Relation\">\n",
       "                <thead> <tr style=\"text-align: right;\"> <th> <div class=\"djtooltip\">\n",
       "                                <p id=\"primary\">fly_id</p>\n",
       "                                <span class=\"djtooltiptext\">Unique animal ID</span>\n",
       "                            </div></th><th><div class=\"djtooltip\">\n",
       "                                <p id=\"primary\">session_date</p>\n",
       "                                <span class=\"djtooltiptext\">date</span>\n",
       "                            </div></th><th><div class=\"djtooltip\">\n",
       "                                <p id=\"primary\">scan_idx</p>\n",
       "                                <span class=\"djtooltiptext\">scan index</span>\n",
       "                            </div></th><th><div class=\"djtooltip\">\n",
       "                                <p id=\"nonprimary\">depth</p>\n",
       "                                <span class=\"djtooltiptext\">depth of this scan</span>\n",
       "                            </div></th><th><div class=\"djtooltip\">\n",
       "                                <p id=\"nonprimary\">wavelength</p>\n",
       "                                <span class=\"djtooltiptext\">wavelength used</span>\n",
       "                            </div></th><th><div class=\"djtooltip\">\n",
       "                                <p id=\"nonprimary\">laser_power</p>\n",
       "                                <span class=\"djtooltiptext\">power of the laser used</span>\n",
       "                            </div></th><th><div class=\"djtooltip\">\n",
       "                                <p id=\"nonprimary\">fps</p>\n",
       "                                <span class=\"djtooltiptext\">frames per second</span>\n",
       "                            </div></th><th><div class=\"djtooltip\">\n",
       "                                <p id=\"nonprimary\">file_name</p>\n",
       "                                <span class=\"djtooltiptext\">name of the tif file</span>\n",
       "                            </div> </th> </tr> </thead>\n",
       "                <tbody> <tr> <td>100</td>\n",
       "<td>2020-05-25</td>\n",
       "<td>1</td>\n",
       "<td>150.0</td>\n",
       "<td>920.0</td>\n",
       "<td>25.0</td>\n",
       "<td>15.0</td>\n",
       "<td>example_scan_03.tif</td> </tr> </tbody>\n",
       "            </table>\n",
       "            \n",
       "            <p>Total: 1</p></div>\n",
       "            "
      ],
      "text/plain": [
       "*fly_id    *session_date  *scan_idx    depth     wavelength     laser_power    fps      file_name     \n",
       "+--------+ +------------+ +----------+ +-------+ +------------+ +------------+ +------+ +------------+\n",
       "100        2020-05-25     1            150.0     920.0          25.0           15.0     example_scan_0\n",
       " (Total: 1)"
      ]
     },
     "execution_count": 118,
     "metadata": {},
     "output_type": "execute_result"
    }
   ],
   "source": [
    "# select all Scan entries *without* a corresponding entry in AverageFrame\n",
    "Scan - AverageFrame"
   ]
  },
  {
   "cell_type": "code",
   "execution_count": 119,
   "metadata": {},
   "outputs": [
    {
     "name": "stderr",
     "output_type": "stream",
     "text": [
      "100%|████████████████████████████████████████████████████████████████████████████████████| 1/1 [00:00<00:00,  5.91it/s]\n"
     ]
    }
   ],
   "source": [
    "AverageFrame.populate(display_progress=True)"
   ]
  },
  {
   "cell_type": "markdown",
   "metadata": {},
   "source": [
    "`populate` found the uncomputed entry and processed it!"
   ]
  },
  {
   "cell_type": "code",
   "execution_count": 120,
   "metadata": {},
   "outputs": [
    {
     "data": {
      "text/html": [
       "\n",
       "        \n",
       "        <style type=\"text/css\">\n",
       "            .Relation{\n",
       "                border-collapse:collapse;\n",
       "            }\n",
       "            .Relation th{\n",
       "                background: #A0A0A0; color: #ffffff; padding:4px; border:#f0e0e0 1px solid;\n",
       "                font-weight: normal; font-family: monospace; font-size: 100%;\n",
       "            }\n",
       "            .Relation td{\n",
       "                padding:4px; border:#f0e0e0 1px solid; font-size:100%;\n",
       "            }\n",
       "            .Relation tr:nth-child(odd){\n",
       "                background: #ffffff;\n",
       "            }\n",
       "            .Relation tr:nth-child(even){\n",
       "                background: #f3f1ff;\n",
       "            }\n",
       "            /* Tooltip container */\n",
       "            .djtooltip {\n",
       "            }\n",
       "            /* Tooltip text */\n",
       "            .djtooltip .djtooltiptext {\n",
       "                visibility: hidden;\n",
       "                width: 120px;\n",
       "                background-color: black;\n",
       "                color: #fff;\n",
       "                text-align: center;\n",
       "                padding: 5px 0;\n",
       "                border-radius: 6px;\n",
       "                /* Position the tooltip text - see examples below! */\n",
       "                position: absolute;\n",
       "                z-index: 1;\n",
       "            }\n",
       "            #primary {\n",
       "                font-weight: bold;\n",
       "                color: black;\n",
       "            }\n",
       "\n",
       "            #nonprimary {\n",
       "                font-weight: normal;\n",
       "                color: white;\n",
       "            }\n",
       "\n",
       "            /* Show the tooltip text when you mouse over the tooltip container */\n",
       "            .djtooltip:hover .djtooltiptext {\n",
       "                visibility: visible;\n",
       "            }\n",
       "        </style>\n",
       "        \n",
       "        <b></b>\n",
       "            <div style=\"max-height:1000px;max-width:1500px;overflow:auto;\">\n",
       "            <table border=\"1\" class=\"Relation\">\n",
       "                <thead> <tr style=\"text-align: right;\"> <th> <div class=\"djtooltip\">\n",
       "                                <p id=\"primary\">fly_id</p>\n",
       "                                <span class=\"djtooltiptext\">Unique animal ID</span>\n",
       "                            </div></th><th><div class=\"djtooltip\">\n",
       "                                <p id=\"primary\">session_date</p>\n",
       "                                <span class=\"djtooltiptext\">date</span>\n",
       "                            </div></th><th><div class=\"djtooltip\">\n",
       "                                <p id=\"primary\">scan_idx</p>\n",
       "                                <span class=\"djtooltiptext\">scan index</span>\n",
       "                            </div></th><th><div class=\"djtooltip\">\n",
       "                                <p id=\"nonprimary\">average_frame</p>\n",
       "                                <span class=\"djtooltiptext\">average fluorescence across frames</span>\n",
       "                            </div> </th> </tr> </thead>\n",
       "                <tbody> <tr> <td>0</td>\n",
       "<td>2020-05-15</td>\n",
       "<td>1</td>\n",
       "<td>=BLOB=</td></tr><tr><td>0</td>\n",
       "<td>2020-05-15</td>\n",
       "<td>2</td>\n",
       "<td>=BLOB=</td></tr><tr><td>100</td>\n",
       "<td>2020-05-25</td>\n",
       "<td>1</td>\n",
       "<td>=BLOB=</td> </tr> </tbody>\n",
       "            </table>\n",
       "            \n",
       "            <p>Total: 3</p></div>\n",
       "            "
      ],
      "text/plain": [
       "*fly_id    *session_date  *scan_idx    average_fr\n",
       "+--------+ +------------+ +----------+ +--------+\n",
       "0          2020-05-15     1            =BLOB=    \n",
       "0          2020-05-15     2            =BLOB=    \n",
       "100        2020-05-25     1            =BLOB=    \n",
       " (Total: 3)"
      ]
     },
     "execution_count": 120,
     "metadata": {},
     "output_type": "execute_result"
    }
   ],
   "source": [
    "AverageFrame()"
   ]
  },
  {
   "cell_type": "markdown",
   "metadata": {},
   "source": [
    "Now instead of loading from the raw tif file, we are able fetch the average fluorescence image from this table."
   ]
  },
  {
   "cell_type": "code",
   "execution_count": 121,
   "metadata": {},
   "outputs": [
    {
     "data": {
      "text/plain": [
       "<matplotlib.image.AxesImage at 0x1dd7a79d6a0>"
      ]
     },
     "execution_count": 121,
     "metadata": {},
     "output_type": "execute_result"
    },
    {
     "data": {
      "image/png": "[encoded data removed]",
      "text/plain": [
       "<Figure size 432x288 with 1 Axes>"
      ]
     },
     "metadata": {
      "needs_background": "light"
     },
     "output_type": "display_data"
    }
   ],
   "source": [
    "key = dict(fly_id=0, session_date='2020-05-15', scan_idx=1)\n",
    "avg_image = (AverageFrame & key).fetch1('average_frame')\n",
    "plt.imshow(avg_image, cmap=plt.cm.gray)"
   ]
  },
  {
   "cell_type": "markdown",
   "metadata": {},
   "source": [
    "### 4) Add another `Imported` table called `Frames` that simple imports the whole movie into the database instead of computing the average.\n",
    "\n",
    "Optional: define a datajoint external configuration instead of using longblob for this table"
   ]
  },
  {
   "cell_type": "code",
   "execution_count": 123,
   "metadata": {},
   "outputs": [
    {
     "data": {
      "text/html": [
       "\n",
       "        \n",
       "        <style type=\"text/css\">\n",
       "            .Relation{\n",
       "                border-collapse:collapse;\n",
       "            }\n",
       "            .Relation th{\n",
       "                background: #A0A0A0; color: #ffffff; padding:4px; border:#f0e0e0 1px solid;\n",
       "                font-weight: normal; font-family: monospace; font-size: 100%;\n",
       "            }\n",
       "            .Relation td{\n",
       "                padding:4px; border:#f0e0e0 1px solid; font-size:100%;\n",
       "            }\n",
       "            .Relation tr:nth-child(odd){\n",
       "                background: #ffffff;\n",
       "            }\n",
       "            .Relation tr:nth-child(even){\n",
       "                background: #f3f1ff;\n",
       "            }\n",
       "            /* Tooltip container */\n",
       "            .djtooltip {\n",
       "            }\n",
       "            /* Tooltip text */\n",
       "            .djtooltip .djtooltiptext {\n",
       "                visibility: hidden;\n",
       "                width: 120px;\n",
       "                background-color: black;\n",
       "                color: #fff;\n",
       "                text-align: center;\n",
       "                padding: 5px 0;\n",
       "                border-radius: 6px;\n",
       "                /* Position the tooltip text - see examples below! */\n",
       "                position: absolute;\n",
       "                z-index: 1;\n",
       "            }\n",
       "            #primary {\n",
       "                font-weight: bold;\n",
       "                color: black;\n",
       "            }\n",
       "\n",
       "            #nonprimary {\n",
       "                font-weight: normal;\n",
       "                color: white;\n",
       "            }\n",
       "\n",
       "            /* Show the tooltip text when you mouse over the tooltip container */\n",
       "            .djtooltip:hover .djtooltiptext {\n",
       "                visibility: visible;\n",
       "            }\n",
       "        </style>\n",
       "        \n",
       "        <b>Experiment session</b>\n",
       "            <div style=\"max-height:1000px;max-width:1500px;overflow:auto;\">\n",
       "            <table border=\"1\" class=\"Relation\">\n",
       "                <thead> <tr style=\"text-align: right;\"> <th> <div class=\"djtooltip\">\n",
       "                                <p id=\"primary\">fly_id</p>\n",
       "                                <span class=\"djtooltiptext\">Unique animal ID</span>\n",
       "                            </div></th><th><div class=\"djtooltip\">\n",
       "                                <p id=\"primary\">session_date</p>\n",
       "                                <span class=\"djtooltiptext\">date</span>\n",
       "                            </div></th><th><div class=\"djtooltip\">\n",
       "                                <p id=\"nonprimary\">experiment_setup</p>\n",
       "                                <span class=\"djtooltiptext\">experiment setup ID</span>\n",
       "                            </div></th><th><div class=\"djtooltip\">\n",
       "                                <p id=\"nonprimary\">experimenter</p>\n",
       "                                <span class=\"djtooltiptext\">experimenter name</span>\n",
       "                            </div></th><th><div class=\"djtooltip\">\n",
       "                                <p id=\"nonprimary\">data_path</p>\n",
       "                                <span class=\"djtooltiptext\"></span>\n",
       "                            </div> </th> </tr> </thead>\n",
       "                <tbody> <tr> <td>0</td>\n",
       "<td>2020-05-15</td>\n",
       "<td>0</td>\n",
       "<td>gucky92</td>\n",
       "<td>imaging_data</td></tr><tr><td>0</td>\n",
       "<td>2020-05-19</td>\n",
       "<td>0</td>\n",
       "<td>gucky92</td>\n",
       "<td>imaging_data</td></tr><tr><td>5</td>\n",
       "<td>2020-01-05</td>\n",
       "<td>1</td>\n",
       "<td>jko14</td>\n",
       "<td>imaging_data</td></tr><tr><td>100</td>\n",
       "<td>2020-05-25</td>\n",
       "<td>100</td>\n",
       "<td>jportes</td>\n",
       "<td>imaging_data</td> </tr> </tbody>\n",
       "            </table>\n",
       "            \n",
       "            <p>Total: 4</p></div>\n",
       "            "
      ],
      "text/plain": [
       "*fly_id    *session_date  experiment_set experimenter   data_path     \n",
       "+--------+ +------------+ +------------+ +------------+ +------------+\n",
       "0          2020-05-15     0              gucky92        imaging_data  \n",
       "0          2020-05-19     0              gucky92        imaging_data  \n",
       "5          2020-01-05     1              jko14          imaging_data  \n",
       "100        2020-05-25     100            jportes        imaging_data  \n",
       " (Total: 4)"
      ]
     },
     "execution_count": 123,
     "metadata": {},
     "output_type": "execute_result"
    }
   ],
   "source": [
    "Session()"
   ]
  },
  {
   "cell_type": "code",
   "execution_count": 124,
   "metadata": {},
   "outputs": [
    {
     "data": {
      "text/html": [
       "\n",
       "        \n",
       "        <style type=\"text/css\">\n",
       "            .Relation{\n",
       "                border-collapse:collapse;\n",
       "            }\n",
       "            .Relation th{\n",
       "                background: #A0A0A0; color: #ffffff; padding:4px; border:#f0e0e0 1px solid;\n",
       "                font-weight: normal; font-family: monospace; font-size: 100%;\n",
       "            }\n",
       "            .Relation td{\n",
       "                padding:4px; border:#f0e0e0 1px solid; font-size:100%;\n",
       "            }\n",
       "            .Relation tr:nth-child(odd){\n",
       "                background: #ffffff;\n",
       "            }\n",
       "            .Relation tr:nth-child(even){\n",
       "                background: #f3f1ff;\n",
       "            }\n",
       "            /* Tooltip container */\n",
       "            .djtooltip {\n",
       "            }\n",
       "            /* Tooltip text */\n",
       "            .djtooltip .djtooltiptext {\n",
       "                visibility: hidden;\n",
       "                width: 120px;\n",
       "                background-color: black;\n",
       "                color: #fff;\n",
       "                text-align: center;\n",
       "                padding: 5px 0;\n",
       "                border-radius: 6px;\n",
       "                /* Position the tooltip text - see examples below! */\n",
       "                position: absolute;\n",
       "                z-index: 1;\n",
       "            }\n",
       "            #primary {\n",
       "                font-weight: bold;\n",
       "                color: black;\n",
       "            }\n",
       "\n",
       "            #nonprimary {\n",
       "                font-weight: normal;\n",
       "                color: white;\n",
       "            }\n",
       "\n",
       "            /* Show the tooltip text when you mouse over the tooltip container */\n",
       "            .djtooltip:hover .djtooltiptext {\n",
       "                visibility: visible;\n",
       "            }\n",
       "        </style>\n",
       "        \n",
       "        <b></b>\n",
       "            <div style=\"max-height:1000px;max-width:1500px;overflow:auto;\">\n",
       "            <table border=\"1\" class=\"Relation\">\n",
       "                <thead> <tr style=\"text-align: right;\"> <th> <div class=\"djtooltip\">\n",
       "                                <p id=\"primary\">fly_id</p>\n",
       "                                <span class=\"djtooltiptext\">Unique animal ID</span>\n",
       "                            </div></th><th><div class=\"djtooltip\">\n",
       "                                <p id=\"primary\">session_date</p>\n",
       "                                <span class=\"djtooltiptext\">date</span>\n",
       "                            </div></th><th><div class=\"djtooltip\">\n",
       "                                <p id=\"primary\">scan_idx</p>\n",
       "                                <span class=\"djtooltiptext\">scan index</span>\n",
       "                            </div></th><th><div class=\"djtooltip\">\n",
       "                                <p id=\"nonprimary\">depth</p>\n",
       "                                <span class=\"djtooltiptext\">depth of this scan</span>\n",
       "                            </div></th><th><div class=\"djtooltip\">\n",
       "                                <p id=\"nonprimary\">wavelength</p>\n",
       "                                <span class=\"djtooltiptext\">wavelength used</span>\n",
       "                            </div></th><th><div class=\"djtooltip\">\n",
       "                                <p id=\"nonprimary\">laser_power</p>\n",
       "                                <span class=\"djtooltiptext\">power of the laser used</span>\n",
       "                            </div></th><th><div class=\"djtooltip\">\n",
       "                                <p id=\"nonprimary\">fps</p>\n",
       "                                <span class=\"djtooltiptext\">frames per second</span>\n",
       "                            </div></th><th><div class=\"djtooltip\">\n",
       "                                <p id=\"nonprimary\">file_name</p>\n",
       "                                <span class=\"djtooltiptext\">name of the tif file</span>\n",
       "                            </div> </th> </tr> </thead>\n",
       "                <tbody> <tr> <td>0</td>\n",
       "<td>2020-05-15</td>\n",
       "<td>1</td>\n",
       "<td>150.0</td>\n",
       "<td>920.0</td>\n",
       "<td>26.0</td>\n",
       "<td>15.0</td>\n",
       "<td>example_scan_01.tif</td></tr><tr><td>0</td>\n",
       "<td>2020-05-15</td>\n",
       "<td>2</td>\n",
       "<td>200.0</td>\n",
       "<td>920.0</td>\n",
       "<td>24.0</td>\n",
       "<td>15.0</td>\n",
       "<td>example_scan_02.tif</td></tr><tr><td>100</td>\n",
       "<td>2020-05-25</td>\n",
       "<td>1</td>\n",
       "<td>150.0</td>\n",
       "<td>920.0</td>\n",
       "<td>25.0</td>\n",
       "<td>15.0</td>\n",
       "<td>example_scan_03.tif</td> </tr> </tbody>\n",
       "            </table>\n",
       "            \n",
       "            <p>Total: 3</p></div>\n",
       "            "
      ],
      "text/plain": [
       "*fly_id    *session_date  *scan_idx    depth     wavelength     laser_power    fps      file_name     \n",
       "+--------+ +------------+ +----------+ +-------+ +------------+ +------------+ +------+ +------------+\n",
       "0          2020-05-15     1            150.0     920.0          26.0           15.0     example_scan_0\n",
       "0          2020-05-15     2            200.0     920.0          24.0           15.0     example_scan_0\n",
       "100        2020-05-25     1            150.0     920.0          25.0           15.0     example_scan_0\n",
       " (Total: 3)"
      ]
     },
     "execution_count": 124,
     "metadata": {},
     "output_type": "execute_result"
    }
   ],
   "source": [
    "Scan()"
   ]
  },
  {
   "cell_type": "code",
   "execution_count": 126,
   "metadata": {},
   "outputs": [],
   "source": [
    "folder = os.getcwd()\n",
    "dj.config['stores'] = {\n",
    "    'localstore': {\n",
    "        'protocol': 'file', # store is a normal filepath\n",
    "        'location': os.path.join(folder, 'localstore') # location of store\n",
    "    }\n",
    "}\n",
    "dj.config['stores'].update({\n",
    "    'attachstore': {\n",
    "        'protocol': 'file', # store is a normal filepath\n",
    "        'location': os.path.join(folder, 'attachstore') # location of store\n",
    "    }\n",
    "})"
   ]
  },
  {
   "cell_type": "code",
   "execution_count": 127,
   "metadata": {},
   "outputs": [
    {
     "data": {
      "text/plain": [
       "'D:\\\\Code\\\\PythonDataCourse\\\\Homeworks\\\\HW6'"
      ]
     },
     "execution_count": 127,
     "metadata": {},
     "output_type": "execute_result"
    }
   ],
   "source": [
    "folder"
   ]
  },
  {
   "cell_type": "code",
   "execution_count": 128,
   "metadata": {},
   "outputs": [],
   "source": [
    "@schema\n",
    "class Frames(dj.Imported):\n",
    "    definition = \"\"\"\n",
    "    -> Scan\n",
    "    ---\n",
    "    data : attach@attachstore\n",
    "    \"\"\"\n",
    "    \n",
    "    def make(self, key):  # key is the primary key of one of the entries in the table `Scan`\n",
    "        filename = (Scan & key).fetch1()['file_name']\n",
    "        sessiondate = (Scan & key).fetch1()['session_date']\n",
    "        filepath = (Session & {'session_date':sessiondate}).fetch1()['data_path']\n",
    "        key.update({'data': os.path.join(filepath,filename)})\n",
    "        self.insert1(key)        "
   ]
  },
  {
   "cell_type": "code",
   "execution_count": 129,
   "metadata": {},
   "outputs": [
    {
     "name": "stderr",
     "output_type": "stream",
     "text": [
      "100%|████████████████████████████████████████████████████████████████████████████████████| 3/3 [00:00<00:00, 11.01it/s]\n"
     ]
    }
   ],
   "source": [
    "Frames().populate(display_progress=True)"
   ]
  },
  {
   "cell_type": "code",
   "execution_count": 130,
   "metadata": {},
   "outputs": [
    {
     "data": {
      "text/html": [
       "\n",
       "        \n",
       "        <style type=\"text/css\">\n",
       "            .Relation{\n",
       "                border-collapse:collapse;\n",
       "            }\n",
       "            .Relation th{\n",
       "                background: #A0A0A0; color: #ffffff; padding:4px; border:#f0e0e0 1px solid;\n",
       "                font-weight: normal; font-family: monospace; font-size: 100%;\n",
       "            }\n",
       "            .Relation td{\n",
       "                padding:4px; border:#f0e0e0 1px solid; font-size:100%;\n",
       "            }\n",
       "            .Relation tr:nth-child(odd){\n",
       "                background: #ffffff;\n",
       "            }\n",
       "            .Relation tr:nth-child(even){\n",
       "                background: #f3f1ff;\n",
       "            }\n",
       "            /* Tooltip container */\n",
       "            .djtooltip {\n",
       "            }\n",
       "            /* Tooltip text */\n",
       "            .djtooltip .djtooltiptext {\n",
       "                visibility: hidden;\n",
       "                width: 120px;\n",
       "                background-color: black;\n",
       "                color: #fff;\n",
       "                text-align: center;\n",
       "                padding: 5px 0;\n",
       "                border-radius: 6px;\n",
       "                /* Position the tooltip text - see examples below! */\n",
       "                position: absolute;\n",
       "                z-index: 1;\n",
       "            }\n",
       "            #primary {\n",
       "                font-weight: bold;\n",
       "                color: black;\n",
       "            }\n",
       "\n",
       "            #nonprimary {\n",
       "                font-weight: normal;\n",
       "                color: white;\n",
       "            }\n",
       "\n",
       "            /* Show the tooltip text when you mouse over the tooltip container */\n",
       "            .djtooltip:hover .djtooltiptext {\n",
       "                visibility: visible;\n",
       "            }\n",
       "        </style>\n",
       "        \n",
       "        <b></b>\n",
       "            <div style=\"max-height:1000px;max-width:1500px;overflow:auto;\">\n",
       "            <table border=\"1\" class=\"Relation\">\n",
       "                <thead> <tr style=\"text-align: right;\"> <th> <div class=\"djtooltip\">\n",
       "                                <p id=\"primary\">fly_id</p>\n",
       "                                <span class=\"djtooltiptext\">Unique animal ID</span>\n",
       "                            </div></th><th><div class=\"djtooltip\">\n",
       "                                <p id=\"primary\">session_date</p>\n",
       "                                <span class=\"djtooltiptext\">date</span>\n",
       "                            </div></th><th><div class=\"djtooltip\">\n",
       "                                <p id=\"primary\">scan_idx</p>\n",
       "                                <span class=\"djtooltiptext\">scan index</span>\n",
       "                            </div></th><th><div class=\"djtooltip\">\n",
       "                                <p id=\"nonprimary\">data</p>\n",
       "                                <span class=\"djtooltiptext\"></span>\n",
       "                            </div> </th> </tr> </thead>\n",
       "                <tbody> <tr> <td>0</td>\n",
       "<td>2020-05-15</td>\n",
       "<td>2</td>\n",
       "<td>=BLOB=</td></tr><tr><td>0</td>\n",
       "<td>2020-05-15</td>\n",
       "<td>1</td>\n",
       "<td>=BLOB=</td></tr><tr><td>100</td>\n",
       "<td>2020-05-25</td>\n",
       "<td>1</td>\n",
       "<td>=BLOB=</td> </tr> </tbody>\n",
       "            </table>\n",
       "            \n",
       "            <p>Total: 3</p></div>\n",
       "            "
      ],
      "text/plain": [
       "*fly_id    *session_date  *scan_idx    data      \n",
       "+--------+ +------------+ +----------+ +--------+\n",
       "0          2020-05-15     2            =BLOB=    \n",
       "0          2020-05-15     1            =BLOB=    \n",
       "100        2020-05-25     1            =BLOB=    \n",
       " (Total: 3)"
      ]
     },
     "execution_count": 130,
     "metadata": {},
     "output_type": "execute_result"
    }
   ],
   "source": [
    "Frames()"
   ]
  },
  {
   "cell_type": "code",
   "execution_count": 138,
   "metadata": {},
   "outputs": [
    {
     "data": {
      "text/plain": [
       "array([(  0, datetime.date(2020, 5, 15), 2, 'downloaded_vids\\\\example_scan_02.tif'),\n",
       "       (  0, datetime.date(2020, 5, 15), 1, 'downloaded_vids\\\\example_scan_01.tif'),\n",
       "       (100, datetime.date(2020, 5, 25), 1, 'downloaded_vids\\\\example_scan_03.tif')],\n",
       "      dtype=[('fly_id', '<i8'), ('session_date', 'O'), ('scan_idx', '<i8'), ('data', 'O')])"
      ]
     },
     "execution_count": 138,
     "metadata": {},
     "output_type": "execute_result"
    }
   ],
   "source": [
    "Frames.fetch(download_path='downloaded_vids')"
   ]
  },
  {
   "cell_type": "code",
   "execution_count": 143,
   "metadata": {},
   "outputs": [
    {
     "data": {
      "text/plain": [
       "array([(100, datetime.date(2020, 5, 25), 1, 'downloaded_vids\\\\example_scan_03.tif')],\n",
       "      dtype=[('fly_id', '<i8'), ('session_date', 'O'), ('scan_idx', '<i8'), ('data', 'O')])"
      ]
     },
     "execution_count": 143,
     "metadata": {},
     "output_type": "execute_result"
    }
   ],
   "source": [
    "vid = (Frames&{'fly_id':100}).fetch(download_path='downloaded_vids')\n",
    "vid"
   ]
  },
  {
   "cell_type": "markdown",
   "metadata": {},
   "source": [
    "## Summary"
   ]
  },
  {
   "cell_type": "markdown",
   "metadata": {},
   "source": [
    "Congratulations! You have successfully extended your pipeline with a table to represent processed data (`AverageFrame` and `Frames` as `Imported` table), learned and implemented the `make()` and `populate()` call to load external data to your tables."
   ]
  },
  {
   "cell_type": "code",
   "execution_count": 144,
   "metadata": {},
   "outputs": [
    {
     "data": {
      "image/svg+xml": [
       "<svg height=\"256pt\" viewBox=\"0.00 0.00 216.00 256.00\" width=\"216pt\" xmlns=\"http://www.w3.org/2000/svg\" xmlns:xlink=\"http://www.w3.org/1999/xlink\">\n",
       "<g class=\"graph\" id=\"graph0\" transform=\"scale(1 1) rotate(0) translate(4 252)\">\n",
       "<title>%3</title>\n",
       "<polygon fill=\"white\" points=\"-4,4 -4,-252 212,-252 212,4 -4,4\" stroke=\"none\"/>\n",
       "<!-- Frames -->\n",
       "<g class=\"node\" id=\"node1\"><title>Frames</title>\n",
       "<g id=\"a_node1\"><a xlink:title=\"→ Scan\r",
       "------------------------------\r",
       "data                 \r",
       "INDEX (data)\r",
       "\">\n",
       "<ellipse cx=\"35.625\" cy=\"-17.5\" fill=\"#00007f\" fill-opacity=\"0.250980\" rx=\"35.7504\" ry=\"17.5\" stroke=\"#00007f\" stroke-opacity=\"0.250980\"/>\n",
       "<text fill=\"#00007f\" font-family=\"arial\" font-size=\"12.00\" text-anchor=\"middle\" x=\"35.625\" y=\"-14.4\">Frames</text>\n",
       "</a>\n",
       "</g>\n",
       "</g>\n",
       "<!-- AverageFrame -->\n",
       "<g class=\"node\" id=\"node2\"><title>AverageFrame</title>\n",
       "<g id=\"a_node2\"><a xlink:title=\"→ Scan\r",
       "------------------------------\r",
       "average_frame        \r",
       "\">\n",
       "<ellipse cx=\"148.625\" cy=\"-17.5\" fill=\"#00007f\" fill-opacity=\"0.250980\" rx=\"59.2503\" ry=\"17.5\" stroke=\"#00007f\" stroke-opacity=\"0.250980\"/>\n",
       "<text fill=\"#00007f\" font-family=\"arial\" font-size=\"12.00\" text-anchor=\"middle\" x=\"148.625\" y=\"-14.4\">AverageFrame</text>\n",
       "</a>\n",
       "</g>\n",
       "</g>\n",
       "<!-- Session -->\n",
       "<g class=\"node\" id=\"node3\"><title>Session</title>\n",
       "<g id=\"a_node3\"><a xlink:title=\"→ Fly\r",
       "session_date         \r",
       "------------------------------\r",
       "experiment_setup     \r",
       "experimenter         \r",
       "data_path=&quot;&quot;         \r",
       "\">\n",
       "<polygon fill=\"#00ff00\" fill-opacity=\"0.188235\" points=\"121.125,-177 62.125,-177 62.125,-142 121.125,-142 121.125,-177\" stroke=\"#00ff00\" stroke-opacity=\"0.188235\"/>\n",
       "<text fill=\"darkgreen\" font-family=\"arial\" font-size=\"12.00\" text-anchor=\"start\" text-decoration=\"underline\" x=\"70.125\" y=\"-157.4\">Session</text>\n",
       "</a>\n",
       "</g>\n",
       "</g>\n",
       "<!-- Scan -->\n",
       "<g class=\"node\" id=\"node5\"><title>Scan</title>\n",
       "<g id=\"a_node5\"><a xlink:title=\"→ Session\r",
       "scan_idx             \r",
       "------------------------------\r",
       "depth                \r",
       "wavelength           \r",
       "laser_power          \r",
       "fps                  \r",
       "file_name            \r",
       "\">\n",
       "<polygon fill=\"#00ff00\" fill-opacity=\"0.188235\" points=\"113.625,-106 69.625,-106 69.625,-71 113.625,-71 113.625,-106\" stroke=\"#00ff00\" stroke-opacity=\"0.188235\"/>\n",
       "<text fill=\"darkgreen\" font-family=\"arial\" font-size=\"12.00\" text-anchor=\"start\" text-decoration=\"underline\" x=\"77.625\" y=\"-86.4\">Scan</text>\n",
       "</a>\n",
       "</g>\n",
       "</g>\n",
       "<!-- Session&#45;&gt;Scan -->\n",
       "<g class=\"edge\" id=\"edge1\"><title>Session-&gt;Scan</title>\n",
       "<path d=\"M91.625,-141.797C91.625,-130.949 91.625,-116.867 91.625,-106.049\" fill=\"none\" stroke=\"#000000\" stroke-opacity=\"0.250980\" stroke-width=\"0.75\"/>\n",
       "</g>\n",
       "<!-- Fly -->\n",
       "<g class=\"node\" id=\"node4\"><title>Fly</title>\n",
       "<g id=\"a_node4\"><a xlink:title=\"fly_id               \r",
       "------------------------------\r",
       "dob=null             \r",
       "sex=&quot;U&quot;              \r",
       "\">\n",
       "<polygon fill=\"#00ff00\" fill-opacity=\"0.188235\" points=\"109.125,-248 74.125,-248 74.125,-213 109.125,-213 109.125,-248\" stroke=\"#00ff00\" stroke-opacity=\"0.188235\"/>\n",
       "<text fill=\"darkgreen\" font-family=\"arial\" font-size=\"12.00\" text-anchor=\"start\" text-decoration=\"underline\" x=\"83.625\" y=\"-228.4\">Fly</text>\n",
       "</a>\n",
       "</g>\n",
       "</g>\n",
       "<!-- Fly&#45;&gt;Session -->\n",
       "<g class=\"edge\" id=\"edge2\"><title>Fly-&gt;Session</title>\n",
       "<path d=\"M91.625,-212.797C91.625,-201.949 91.625,-187.867 91.625,-177.049\" fill=\"none\" stroke=\"#000000\" stroke-opacity=\"0.250980\" stroke-width=\"0.75\"/>\n",
       "</g>\n",
       "<!-- Scan&#45;&gt;Frames -->\n",
       "<g class=\"edge\" id=\"edge3\"><title>Scan-&gt;Frames</title>\n",
       "<path d=\"M78.069,-70.797C69.0054,-59.6294 57.1613,-45.0358 48.2885,-34.1033\" fill=\"none\" stroke=\"#000000\" stroke-opacity=\"0.250980\" stroke-width=\"2\"/>\n",
       "</g>\n",
       "<!-- Scan&#45;&gt;AverageFrame -->\n",
       "<g class=\"edge\" id=\"edge4\"><title>Scan-&gt;AverageFrame</title>\n",
       "<path d=\"M105.423,-70.797C114.517,-59.789 126.36,-45.4521 135.346,-34.574\" fill=\"none\" stroke=\"#000000\" stroke-opacity=\"0.250980\" stroke-width=\"2\"/>\n",
       "</g>\n",
       "</g>\n",
       "</svg>"
      ],
      "text/plain": [
       "<datajoint.diagram.Diagram at 0x1dd7a899b38>"
      ]
     },
     "execution_count": 144,
     "metadata": {},
     "output_type": "execute_result"
    }
   ],
   "source": [
    "dj.ERD(schema)"
   ]
  },
  {
   "cell_type": "markdown",
   "metadata": {},
   "source": [
    "At this point, our pipeline contains the core elements with data populated, ready for further downstream analysis."
   ]
  },
  {
   "cell_type": "markdown",
   "metadata": {},
   "source": [
    "Go to Part 2 of this homework"
   ]
  },
  {
   "cell_type": "code",
   "execution_count": null,
   "metadata": {},
   "outputs": [],
   "source": []
  }
 ],
 "metadata": {
  "kernelspec": {
   "display_name": "Python 3",
   "language": "python",
   "name": "python3"
  },
  "language_info": {
   "codemirror_mode": {
    "name": "ipython",
    "version": 3
   },
   "file_extension": ".py",
   "mimetype": "text/x-python",
   "name": "python",
   "nbconvert_exporter": "python",
   "pygments_lexer": "ipython3",
   "version": "3.7.3"
  }
 },
 "nbformat": 4,
 "nbformat_minor": 4
}
